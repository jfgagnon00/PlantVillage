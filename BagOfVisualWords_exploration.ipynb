{
 "cells": [
  {
   "cell_type": "code",
   "execution_count": null,
   "id": "ce9fd5e0",
   "metadata": {},
   "outputs": [],
   "source": [
    "%%html\n",
    "<style>\n",
    "    /* identifier les reponse aux questions */\n",
    "    .comment {\n",
    "        color:blue;\n",
    "    }\n",
    "    \n",
    "    /* utilitaire pour faire des colonnes */\n",
    "    .column {\n",
    "        float:left;\n",
    "        width:50%;\n",
    "    }\n",
    "</style>"
   ]
  },
  {
   "cell_type": "markdown",
   "id": "461178fb",
   "metadata": {},
   "source": [
    "# Dataset\n",
    "[Plant Village](https://data.mendeley.com/datasets/tywbtsjrjv/1)"
   ]
  },
  {
   "cell_type": "markdown",
   "id": "2a2803d4",
   "metadata": {},
   "source": [
    "## Description\n",
    "\n",
    "In this data-set, 39 different classes of plant leaf and background images are available. The data-set containing 61,486 images. We used six different augmentation techniques for increasing the data-set size. The techniques are image flipping, Gamma correction, noise injection, PCA color augmentation, rotation, and Scaling.\n",
    "\n",
    "The classes are: \n",
    "\n",
    "<br>\n",
    "\n",
    "<div class=\"column\">\n",
    "m\n",
    "1. Apple_scab\n",
    "2. Apple_black_rot\n",
    "3. Apple_cedar_apple_rust\n",
    "4. Apple_healthy\n",
    "5. Background_without_leaves\n",
    "6. Blueberry_healthy\n",
    "7. Cherry_powdery_mildew\n",
    "8. Cherry_healthy\n",
    "9. Corn_gray_leaf_spot\n",
    "10. Corn_common_rust\n",
    "11. Corn_northern_leaf_blight\n",
    "12. Corn_healthy\n",
    "13. Grape_black_rot\n",
    "14. Grape_black_measles\n",
    "15. Grape_leaf_blight\n",
    "16. Grape_healthy\n",
    "17. Orange_haunglongbing\n",
    "18. Peach_bacterial_spot\n",
    "19. Peach_healthy\n",
    "20. Pepper_bacterial_spot\n",
    "\n",
    "</div>\n",
    "\n",
    "<div class=\"column\">\n",
    "    \n",
    "21. Pepper_healthy\n",
    "22. Potato_early_blight\n",
    "23. Potato_healthy\n",
    "24. Potato_late_blight\n",
    "25. Raspberry_healthy\n",
    "26. Soybean_healthy\n",
    "27. Squash_powdery_mildew\n",
    "28. Strawberry_healthy\n",
    "29. Strawberry_leaf_scorch\n",
    "30. Tomato_bacterial_spot\n",
    "31. Tomato_early_blight\n",
    "32. Tomato_healthy\n",
    "33. Tomato_late_blight\n",
    "34. Tomato_leaf_mold\n",
    "35. Tomato_septoria_leaf_spot\n",
    "36. Tomato_spider_mites_two-spotted_spider_mite\n",
    "37. Tomato_target_spot\n",
    "38. Tomato_mosaic_virus\n",
    "39. Tomato_yellow_leaf_curl_virus\n",
    "    \n",
    "</div>"
   ]
  },
  {
   "cell_type": "code",
   "execution_count": null,
   "id": "4d914ec6",
   "metadata": {},
   "outputs": [],
   "source": [
    "%matplotlib inline\n",
    "\n",
    "#\n",
    "# import utilitaires\n",
    "#\n",
    "import cv2\n",
    "import h5py\n",
    "import numpy as np\n",
    "import pandas as pd\n",
    "import random\n",
    "import seaborn as sns\n",
    "\n",
    "from dataset_helpers.MetaObject import MetaObject\n",
    "from dataset_helpers.PlantVillage import PlantVillageConfig, plant_village_load\n",
    "from jupyter_helpers import display_html\n",
    "from matplotlib import pyplot as plt\n",
    "from sklearn.model_selection import train_test_split\n",
    "from tqdm.notebook import tqdm\n",
    "\n",
    "# faire en sorte que random soit deterministe\n",
    "random.seed(42)"
   ]
  },
  {
   "cell_type": "code",
   "execution_count": null,
   "id": "aba53687",
   "metadata": {},
   "outputs": [],
   "source": [
    "#\n",
    "# configurer les divers processus\n",
    "#\n",
    "pv_config = PlantVillageConfig()\n",
    "\n",
    "config_overrides = MetaObject.from_json(\"config_overrides.json\")\n",
    "if not config_overrides is None:\n",
    "    MetaObject.override_from_object(pv_config, \n",
    "                                    config_overrides.dataset)"
   ]
  },
  {
   "cell_type": "code",
   "execution_count": null,
   "id": "f80c98e9",
   "metadata": {},
   "outputs": [],
   "source": [
    "#\n",
    "# obtenir le dataset PlantVillage\n",
    "#\n",
    "pv_dataset = plant_village_load(pv_config)\n",
    "if pv_dataset is None:\n",
    "    display_html(f\"<b>Invalid dataset</b>\")\n",
    "else:\n",
    "    pv_h5 = pv_dataset.h5_file\n",
    "    pv_dataframe = pd.DataFrame(pv_dataset.data)"
   ]
  },
  {
   "cell_type": "markdown",
   "id": "2ab1b6b9",
   "metadata": {},
   "source": [
    "# Exploration"
   ]
  },
  {
   "cell_type": "code",
   "execution_count": null,
   "id": "f1cb910d",
   "metadata": {
    "cell_style": "center"
   },
   "outputs": [],
   "source": [
    "display_html(f\"<b>{pv_config.install_path}</b> - data {pv_dataframe.shape}\")\n",
    "display(pv_dataframe.head(5))"
   ]
  },
  {
   "cell_type": "code",
   "execution_count": null,
   "id": "59c92436",
   "metadata": {
    "cell_style": "center"
   },
   "outputs": [],
   "source": [
    "display_html(f\"<b>{pv_config.install_path}</b> - info\")\n",
    "pv_dataframe.info()"
   ]
  },
  {
   "cell_type": "code",
   "execution_count": null,
   "id": "937b002a",
   "metadata": {},
   "outputs": [],
   "source": [
    "species = pv_dataframe[\"species\"].unique()\n",
    "species.sort()\n",
    "display_html(f\"<b>Modalites de 'species'</b> - count: {species.size}\")\n",
    "display(list(species))"
   ]
  },
  {
   "cell_type": "code",
   "execution_count": null,
   "id": "dedd24f7",
   "metadata": {},
   "outputs": [],
   "source": [
    "labels = pv_dataframe[\"label\"].unique()\n",
    "labels.sort()\n",
    "display_html(f\"<b>Modalites de 'label'</b> - count: {len(labels)}\")\n",
    "display(list(labels))"
   ]
  },
  {
   "cell_type": "markdown",
   "id": "c5287453",
   "metadata": {},
   "source": [
    "<font class=\"comment\">\n",
    "\n",
    "**Notes**\n",
    "* Background_without_leaves a ete intentionelment enleve\n",
    "* les labels semblent avoir evolues par rapport a la liste cite ci-haut"
   ]
  },
  {
   "cell_type": "code",
   "execution_count": null,
   "id": "70046781",
   "metadata": {},
   "outputs": [],
   "source": [
    "#\n",
    "# distribution de label\n",
    "#\n",
    "FIGSIZE = (10, 4)\n",
    "\n",
    "disease_count = pv_dataframe[\"label\"].value_counts()\n",
    "disease_count.sort_values(inplace=True, ascending=False)\n",
    "\n",
    "plt.figure(figsize=FIGSIZE)\n",
    "disease_count.plot.bar(title=\"Effectifs de 'label'\",\n",
    "                       ylabel=\"count\")\n",
    "plt.show()"
   ]
  },
  {
   "cell_type": "code",
   "execution_count": null,
   "id": "4576fe9c",
   "metadata": {},
   "outputs": [],
   "source": [
    "#\n",
    "# relation species/label\n",
    "#\n",
    "doi = pv_dataframe[[\"label\", \"species\"]]\n",
    "\n",
    "disease_samples_per_species = doi.groupby(\"species\").count()\n",
    "disease_samples_per_species.sort_values(\"label\", inplace=True, ascending=False)"
   ]
  },
  {
   "cell_type": "code",
   "execution_count": null,
   "id": "bde5542c",
   "metadata": {},
   "outputs": [],
   "source": [
    "healthy_crit = doi[\"label\"].str.contains(\"healthy\")\n",
    "\n",
    "healthy = doi[healthy_crit]\n",
    "healthy = healthy \\\n",
    "            .groupby(\"species\") \\\n",
    "            .count() \\\n",
    "            .rename(columns={\"label\": \"healthy\"})\n",
    "\n",
    "not_healthy = doi[ ~healthy_crit ]\n",
    "not_healthy = not_healthy \\\n",
    "                .groupby(\"species\") \\\n",
    "                .count() \\\n",
    "                .rename(columns={\"label\": \"autres\"})\n",
    "\n",
    "healthy_vs_other_per_species = pd.merge(healthy, \n",
    "                                        not_healthy,\n",
    "                                        how=\"outer\",\n",
    "                                        on=\"species\")\n",
    "\n",
    "# for ease of comparison, keep same order \n",
    "# as disease_samples_per_species\n",
    "healthy_vs_other_per_species = healthy_vs_other_per_species \\\n",
    "                                   .reindex(disease_samples_per_species \\\n",
    "                                   .index.to_list())"
   ]
  },
  {
   "cell_type": "code",
   "execution_count": null,
   "id": "bcc89424",
   "metadata": {},
   "outputs": [],
   "source": [
    "fig = plt.figure(figsize=FIGSIZE)\n",
    "fig.suptitle(\"Effectifs de 'label' par espece de plante\")\n",
    "\n",
    "# plt.subplot(121)\n",
    "# disease_samples_per_species.plot.bar(ax=plt.gca(),\n",
    "#                                      xlabel=\"\",\n",
    "#                                      ylabel=\"count\",\n",
    "#                                      legend=False)\n",
    "\n",
    "plt.subplot(121)\n",
    "healthy_vs_other_per_species.plot.bar(ax=plt.gca(),\n",
    "                                      stacked=True, \n",
    "                                      xlabel=\"\",\n",
    "                                      ylabel=\"count\")\n",
    "plt.title(\"'healthy' vs autres\", y=1.025)\n",
    "\n",
    "plt.subplot(122)\n",
    "_, _, pcts = plt.pie(x=disease_samples_per_species.values.flatten(),\n",
    "                     labels=disease_samples_per_species.index.values,\n",
    "                     autopct='%.0f%%',\n",
    "                     radius=1.25,\n",
    "                     wedgeprops={'linewidth': 1.0, \n",
    "                                 'edgecolor': 'white'})\n",
    "plt.title(\"Toute maladies confondues\", y=1.025)\n",
    "plt.setp(pcts, color='white')\n",
    "\n",
    "plt.tight_layout()\n",
    "plt.show()"
   ]
  },
  {
   "cell_type": "code",
   "execution_count": null,
   "id": "687c86cd",
   "metadata": {},
   "outputs": [],
   "source": [
    "def load_image(path):\n",
    "    return pv_h5[path][...]"
   ]
  },
  {
   "cell_type": "code",
   "execution_count": null,
   "id": "b288c635",
   "metadata": {},
   "outputs": [],
   "source": [
    "#\n",
    "# visualize some images\n",
    "#\n",
    "SAMPLEs_GRID = (2, 7)\n",
    "\n",
    "# select some random samples\n",
    "sample_indices = random.sample(range(pv_dataframe.shape[0]), \n",
    "                               SAMPLEs_GRID[0] * SAMPLEs_GRID[1])\n",
    "sample_indices.sort() \n",
    "\n",
    "samples = pv_dataframe.loc[sample_indices].copy()"
   ]
  },
  {
   "cell_type": "code",
   "execution_count": null,
   "id": "2fca8df9",
   "metadata": {},
   "outputs": [],
   "source": [
    "samples[\"thumbnail\"] = samples[\"thumbnail_path\"].apply(load_image)\n",
    "\n",
    "fig = plt.figure(figsize=FIGSIZE)\n",
    "fig.suptitle(\"Echantillons maladies\")\n",
    "\n",
    "for i, (_, sample) in enumerate(samples.iterrows()):\n",
    "    plt.subplot(SAMPLEs_GRID[0], SAMPLEs_GRID[1], i + 1)\n",
    "    plt.axis(\"off\")\n",
    "    \n",
    "    # adjust title: some disease have very long name\n",
    "    species = sample['species']\n",
    "    disease = sample['disease'].replace(species, \"\")\n",
    "    disease = disease.split(\"_\") \n",
    "    count = len(disease) \n",
    "    if count > 2:\n",
    "        count //= 2\n",
    "        disease0 = \" \".join(disease[:count])\n",
    "        disease1 = \" \".join(disease[count:])\n",
    "        disease = f\"{disease0}\\n{disease1}\"\n",
    "    else:\n",
    "        disease = \" \".join(disease)\n",
    "    \n",
    "    plt.title(f\"{species}\\n{disease}\")    \n",
    "    plt.imshow(sample[\"thumbnail\"])\n",
    "    plt.gca().title.set_size(10)\n",
    "\n",
    "plt.tight_layout()\n",
    "fig.subplots_adjust(hspace=0.5, top=0.8)\n",
    "plt.show()"
   ]
  },
  {
   "cell_type": "markdown",
   "id": "05b7d038",
   "metadata": {},
   "source": [
    "# Modelisation\n",
    "\n",
    "Mettre un peu de bla bla pour justifier ce qu'on fait, citer les papiers et tout\n",
    "\n",
    "**TODO**\n",
    "* Train/test split\n",
    "* Pipeline de traitement - Bag of Visual Words\n",
    "    * Rescale en 256x256?\n",
    "    * Remapper 0/1 et float\n",
    "    * Threshold background/foreground    \n",
    "    * Slicer les images\n",
    "    * Detecter les features via SIFT/ORB\n",
    "    * Passer dans un KMean\n",
    "    * Mettre le tout dans notre dictionnaire\n",
    "\n",
    "* Passer test data dans pipeline\n",
    "    * Sparse vector pour une image non connue\n",
    "    * Identifier avec K Nearest Neighboor"
   ]
  },
  {
   "cell_type": "code",
   "execution_count": null,
   "id": "db81c486",
   "metadata": {},
   "outputs": [],
   "source": [
    "#\n",
    "# split train/test\n",
    "#\n",
    "train, test = train_test_split(pv_dataframe, \n",
    "                               train_size=0.8, \n",
    "                               random_state=42, \n",
    "                               stratify=pv_dataframe[\"label\"])"
   ]
  },
  {
   "cell_type": "code",
   "execution_count": null,
   "id": "acbe74a3",
   "metadata": {},
   "outputs": [],
   "source": [
    "# validation split size\n",
    "display_html(f\"<b>Dataset:</b> <font style='color:red;'>{pv_dataframe.size}</font>, \"\n",
    "             f\"<b>Train:</b> <font style='color:red;'>{train.size}</font>, \"\n",
    "             f\"<b>Test:</b> <font style='color:red;'>{test.size}</font> \"\n",
    "              \"- 80% / 20% split\")"
   ]
  },
  {
   "cell_type": "code",
   "execution_count": null,
   "id": "8a959a2e",
   "metadata": {},
   "outputs": [],
   "source": [
    "# validation split distribution\n",
    "size = pv_dataframe.shape[0]\n",
    "frequencies = pd.DataFrame({\"dataset\": disease_count / size,\n",
    "                            \"train\": train[\"label\"].value_counts() / size,\n",
    "                            \"test\": test[\"label\"].value_counts() / size})\n",
    "frequencies = frequencies.reindex(index=disease_count.index.to_list())\n",
    "\n",
    "plt.figure(figsize=FIGSIZE)\n",
    "frequencies.plot.bar(ax=plt.gca(),\n",
    "                     stacked=True,\n",
    "                     title=\"Distribution 'label' dataset vs train vs test\\n\"\n",
    "                           \"(couleurs meme taille dans chaque bar est mieux)\",\n",
    "                     ylabel=\"%\")\n",
    "plt.show()"
   ]
  },
  {
   "cell_type": "code",
   "execution_count": null,
   "id": "b3f19fc8",
   "metadata": {},
   "outputs": [],
   "source": [
    "#\n",
    "# construire les features\n",
    "#\n",
    "desc_factory = cv2.ORB_create()\n",
    "feature_list = np.empty((0, 32), dtype=np.uint8)\n",
    "\n",
    "progress = tqdm(iterable=pv_dataframe.iterrows(),\n",
    "                total=pv_dataframe.shape[0])\n",
    "\n",
    "for index, row in progress:\n",
    "    image_path = row[\"image_path\"] #row[\"thumbnail_path\"] #\n",
    "    # image = load_image(image_path)\n",
    "\n",
    "    # # tiling irait ici\n",
    "    # # detection backgroud irait ici\n",
    "    # _, descs = desc_factory.detectAndCompute(image, None)\n",
    "    # if descs is None:\n",
    "    #     continue\n",
    "    \n",
    "    # feature_list = np.append(feature_list, descs, axis=0)\n",
    "    \n",
    "#     if index > 100:\n",
    "#         break\n",
    "\n",
    "# with open('descs.pkl', 'wb') as f:\n",
    "#     pickle.dump(list(feature_list), f)\n",
    "    \n",
    "# save the data to hdf5\n",
    "print(pv_dataframe.shape[0])\n",
    "print(feature_list.shape)"
   ]
  },
  {
   "cell_type": "markdown",
   "id": "dfc313f3",
   "metadata": {},
   "source": [
    "# Evaluation\n",
    "\n",
    "* Entrainement avec les stats"
   ]
  },
  {
   "cell_type": "code",
   "execution_count": null,
   "id": "9944ae5d",
   "metadata": {},
   "outputs": [],
   "source": []
  },
  {
   "cell_type": "code",
   "execution_count": null,
   "id": "08c23688",
   "metadata": {},
   "outputs": [],
   "source": []
  }
 ],
 "metadata": {
  "kernelspec": {
   "display_name": "Python 3 (ipykernel)",
   "language": "python",
   "name": "python3"
  },
  "language_info": {
   "codemirror_mode": {
    "name": "ipython",
    "version": 3
   },
   "file_extension": ".py",
   "mimetype": "text/x-python",
   "name": "python",
   "nbconvert_exporter": "python",
   "pygments_lexer": "ipython3",
   "version": "3.9.15"
  },
  "vscode": {
   "interpreter": {
    "hash": "ad2bdc8ecc057115af97d19610ffacc2b4e99fae6737bb82f5d7fb13d2f2c186"
   }
  }
 },
 "nbformat": 4,
 "nbformat_minor": 5
}
