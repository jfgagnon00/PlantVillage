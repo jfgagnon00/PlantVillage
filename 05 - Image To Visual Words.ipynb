{
 "cells": [
  {
   "cell_type": "code",
   "execution_count": null,
   "id": "4d914ec6",
   "metadata": {},
   "outputs": [],
   "source": [
    "#\n",
    "# import utilitaires\n",
    "#\n",
    "import matplotlib.pyplot as plt\n",
    "import pandas as pd\n",
    "import random\n",
    "\n",
    "import helpers as hlp\n",
    "import helpers.dataset.PlantVillage as pv\n",
    "import helpers.features as feat\n",
    "import helpers.bovw as bovw"
   ]
  },
  {
   "cell_type": "code",
   "execution_count": null,
   "id": "2f7ef956",
   "metadata": {},
   "outputs": [],
   "source": [
    "#\n",
    "# dataset PlantVillage\n",
    "#\n",
    "config_overrides = hlp.MetaObject.from_json(\"config_overrides.json\")\n",
    "\n",
    "pv_config = pv.Config()\n",
    "if not config_overrides is None:\n",
    "    hlp.MetaObject.override_from_object(pv_config, \n",
    "                                        config_overrides.dataset)\n",
    "\n",
    "pv_dataset = pv.load(pv_config)\n",
    "pv_dataframe = pv_dataset.dataframe\n",
    "\n",
    "print(\"Dataset\", pv_dataframe.shape)\n",
    "\n",
    "#\n",
    "# features extraction orb\n",
    "#\n",
    "orb_features_config = feat.OrbFeaturesConfig()\n",
    "if not orb_features_config is None:\n",
    "    hlp.MetaObject.override_from_object(orb_features_config, \n",
    "                                        config_overrides.orb.features)\n",
    "orb_features_extraction = feat.ExtractionAdapter(orb_features_config)\n",
    "\n",
    "\n",
    "#\n",
    "# bag of visual words orb\n",
    "#\n",
    "orb_bovw_config = bovw.Config()\n",
    "if not config_overrides is None:\n",
    "    hlp.MetaObject.override_from_object(orb_bovw_config, \n",
    "                                        config_overrides.orb.bovw)\n",
    "\n",
    "orb_bovw = bovw.load(orb_bovw_config, None)\n",
    "\n",
    "print(\"ORB BoVW clusters:\", orb_bovw.model.cluster_centers_.shape)"
   ]
  },
  {
   "cell_type": "code",
   "execution_count": null,
   "id": "576048a2",
   "metadata": {},
   "outputs": [],
   "source": [
    "#\n",
    "# visualiser quelques orb keypoints\n",
    "#\n",
    "SAMPLES_GRID = (2, 4)\n",
    "FIGSIZE = (10, SAMPLES_GRID[0] * 3.5)\n",
    "\n",
    "# selectionner quelques images aleatoirement\n",
    "random.seed(72)\n",
    "image_indices = random.sample(range(pv_dataframe.shape[0]), SAMPLES_GRID[0] * SAMPLES_GRID[1])\n",
    "image_indices.sort()\n",
    "\n",
    "\n",
    "_, axes = plt.subplots(SAMPLES_GRID[0], SAMPLES_GRID[1], figsize=FIGSIZE)\n",
    "for ax, image_index in zip(axes.flatten(), image_indices):\n",
    "    plt.sca(ax)\n",
    "    \n",
    "    image = pv_dataset.get_image(image_index)    \n",
    "    image_key_points, image_features = orb_features_extraction.extract(image)\n",
    "    \n",
    "    print( image_features.shape )\n",
    "    \n",
    "    species, disease = pv_dataframe.loc[image_index, [\"species\", \"disease\"]]\n",
    "    disease = pv.attribute_prettify(species, disease)\n",
    "    title = \"\\n\".join([species, disease])\n",
    "    \n",
    "    plt.title(title)\n",
    "    plt.axis(\"off\")\n",
    "    plt.imshow(image)\n",
    "\n",
    "plt.suptitle(\"Image visual words\")\n",
    "plt.tight_layout()\n",
    "plt.show()"
   ]
  },
  {
   "cell_type": "code",
   "execution_count": null,
   "id": "77600a13",
   "metadata": {},
   "outputs": [],
   "source": []
  }
 ],
 "metadata": {
  "hide_input": false,
  "kernelspec": {
   "display_name": "Python 3 (ipykernel)",
   "language": "python",
   "name": "python3"
  },
  "language_info": {
   "codemirror_mode": {
    "name": "ipython",
    "version": 3
   },
   "file_extension": ".py",
   "mimetype": "text/x-python",
   "name": "python",
   "nbconvert_exporter": "python",
   "pygments_lexer": "ipython3",
   "version": "3.9.15"
  },
  "toc": {
   "base_numbering": 1,
   "nav_menu": {},
   "number_sections": true,
   "sideBar": true,
   "skip_h1_title": false,
   "title_cell": "Table of Contents",
   "title_sidebar": "Contents",
   "toc_cell": false,
   "toc_position": {},
   "toc_section_display": true,
   "toc_window_display": false
  },
  "vscode": {
   "interpreter": {
    "hash": "ad2bdc8ecc057115af97d19610ffacc2b4e99fae6737bb82f5d7fb13d2f2c186"
   }
  }
 },
 "nbformat": 4,
 "nbformat_minor": 5
}
