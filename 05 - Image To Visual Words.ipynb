{
 "cells": [
  {
   "cell_type": "code",
   "execution_count": 1,
   "id": "4d914ec6",
   "metadata": {},
   "outputs": [],
   "source": [
    "#\n",
    "# import utilitaires\n",
    "#\n",
    "import matplotlib.pyplot as plt\n",
    "import numpy as np\n",
    "import pandas as pd\n",
    "\n",
    "import helpers as hlp\n",
    "import helpers.dataset.PlantVillage as pv\n",
    "import helpers.features as feat\n",
    "import helpers.bovw as bovw"
   ]
  },
  {
   "cell_type": "code",
   "execution_count": 2,
   "id": "2f7ef956",
   "metadata": {},
   "outputs": [
    {
     "name": "stdout",
     "output_type": "stream",
     "text": [
      "Dataset (60343, 5)\n",
      "ORB features (20908751, 32)\n",
      "ORB BoVW clusters: (500, 32)\n"
     ]
    }
   ],
   "source": [
    "# on a besoin du dataset, des features extraction et du bovw pour faire histogram\n",
    "\n",
    "\n",
    "#\n",
    "# dataset PlantVillage\n",
    "#\n",
    "config_overrides = hlp.MetaObject.from_json(\"config_overrides.json\")\n",
    "\n",
    "pv_config = pv.Config()\n",
    "if not config_overrides is None:\n",
    "    hlp.MetaObject.override_from_object(pv_config, \n",
    "                                        config_overrides.dataset)\n",
    "\n",
    "pv_dataset = pv.load(pv_config)\n",
    "pv_dataframe = pv_dataset.dataframe\n",
    "\n",
    "print(\"Dataset\", pv_dataframe.shape)\n",
    "\n",
    "#\n",
    "# features orb\n",
    "#\n",
    "orb_features_config = feat.OrbFeaturesConfig()\n",
    "if not orb_features_config is None:\n",
    "    hlp.MetaObject.override_from_object(orb_features_config, \n",
    "                                        config_overrides.orb.features)\n",
    "orb_features = feat.load(orb_features_config, None)\n",
    "\n",
    "print(\"ORB features\", orb_features.features.shape)\n",
    "\n",
    "\n",
    "#\n",
    "# bag of visual words orb\n",
    "#\n",
    "orb_bovw_config = bovw.Config()\n",
    "if not config_overrides is None:\n",
    "    hlp.MetaObject.override_from_object(orb_bovw_config, \n",
    "                                        config_overrides.orb.bovw)\n",
    "\n",
    "orb_bovw = bovw.load(orb_bovw_config, orb_features.features)\n",
    "\n",
    "print(\"ORB BoVW clusters:\", orb_bovw.model.cluster_centers_.shape)"
   ]
  },
  {
   "cell_type": "code",
   "execution_count": null,
   "id": "576048a2",
   "metadata": {},
   "outputs": [],
   "source": []
  }
 ],
 "metadata": {
  "kernelspec": {
   "display_name": "Python 3 (ipykernel)",
   "language": "python",
   "name": "python3"
  },
  "language_info": {
   "codemirror_mode": {
    "name": "ipython",
    "version": 3
   },
   "file_extension": ".py",
   "mimetype": "text/x-python",
   "name": "python",
   "nbconvert_exporter": "python",
   "pygments_lexer": "ipython3",
   "version": "3.9.15"
  },
  "vscode": {
   "interpreter": {
    "hash": "ad2bdc8ecc057115af97d19610ffacc2b4e99fae6737bb82f5d7fb13d2f2c186"
   }
  }
 },
 "nbformat": 4,
 "nbformat_minor": 5
}
