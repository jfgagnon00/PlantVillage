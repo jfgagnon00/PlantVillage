{
 "cells": [
  {
   "cell_type": "code",
   "execution_count": 2,
   "id": "be0f1cb5",
   "metadata": {},
   "outputs": [
    {
     "data": {
      "text/html": [
       "\n",
       "<style>    \n",
       "    @import url(\"css/custom_styles.css\")\n",
       "</style>\n"
      ],
      "text/plain": [
       "<IPython.core.display.HTML object>"
      ]
     },
     "metadata": {},
     "output_type": "display_data"
    }
   ],
   "source": [
    "%%html\n",
    "\n",
    "<style>    \n",
    "    @import url(\"css/custom_styles.css\")\n",
    "</style>"
   ]
  },
  {
   "cell_type": "code",
   "execution_count": 3,
   "id": "4d914ec6",
   "metadata": {},
   "outputs": [],
   "source": [
    "%matplotlib inline\n",
    "\n",
    "#\n",
    "# import utilitaires\n",
    "#\n",
    "import os\n",
    "\n",
    "import helpers as hlp\n",
    "import helpers.bovw as bovw\n",
    "import helpers.features as feat\n",
    "\n",
    "from sklearn.cluster import MiniBatchKMeans, DBSCAN"
   ]
  },
  {
   "cell_type": "code",
   "execution_count": 4,
   "id": "973b6b17",
   "metadata": {},
   "outputs": [
    {
     "name": "stdout",
     "output_type": "stream",
     "text": [
      "ORB features (20908751, 32)\n"
     ]
    }
   ],
   "source": [
    "config_overrides = hlp.MetaObject.from_json(\"config_overrides.json\")\n",
    "\n",
    "#\n",
    "# features orb\n",
    "#\n",
    "orb_features_config = feat.OrbFeaturesConfig()\n",
    "if not orb_features_config is None:\n",
    "    hlp.MetaObject.override_from_object(orb_features_config, \n",
    "                                        config_overrides.orb.features)\n",
    "\n",
    "orb_features = feat.load(orb_features_config, None)\n",
    "\n",
    "print(\"ORB features\", orb_features.features.shape)"
   ]
  },
  {
   "cell_type": "code",
   "execution_count": 5,
   "id": "cbb53b1a",
   "metadata": {},
   "outputs": [
    {
     "name": "stdout",
     "output_type": "stream",
     "text": [
      "bovw_config\n"
     ]
    },
    {
     "data": {
      "text/plain": [
       "{'install_path': 'dataset/OrbBoVW.hd5',\n",
       " 'read_only': True,\n",
       " 'n_clusters': 200,\n",
       " 'force_generate': False}"
      ]
     },
     "metadata": {},
     "output_type": "display_data"
    }
   ],
   "source": [
    "#\n",
    "# parametres bag of visual words\n",
    "#\n",
    "bovw_config = bovw.Config()\n",
    "if not config_overrides is None:\n",
    "    hlp.MetaObject.override_from_object(bovw_config, \n",
    "                                        config_overrides.orb.bovw)\n",
    "\n",
    "print(\"bovw_config\")\n",
    "display(vars(bovw_config))"
   ]
  },
  {
   "cell_type": "code",
   "execution_count": 5,
   "id": "81843658",
   "metadata": {},
   "outputs": [
    {
     "name": "stdout",
     "output_type": "stream",
     "text": [
      "ORB BoVW process time: 238.96 s\n",
      "(1000, 32)\n"
     ]
    }
   ],
   "source": [
    "mbk_clusterer = MiniBatchKMeans(n_clusters=1000, batch_size=256 * os.cpu_count())\n",
    "\n",
    "with hlp.Profile() as orb_kmeans_profile:\n",
    "    mbk_clusterer.fit(orb_features.features)\n",
    "\n",
    "print(\"ORB BoVW process time (MiniBatchKMeans):\", orb_kmeans_profile.round_duration(), \"s\")\n",
    "print( mbk_clusterer.cluster_centers_.shape )"
   ]
  },
  {
   "cell_type": "code",
   "execution_count": 6,
   "id": "8e438426",
   "metadata": {},
   "outputs": [],
   "source": [
    "dbscan_clusterer = DBSCAN(n_jobs=-1)\n",
    "\n",
    "with hlp.Profile() as orb_kmeans_profile:\n",
    "    dbscan_clusterer.fit(orb_features.features)\n",
    "\n",
    "n_clusters_ = len(set(dbscan_clusterer.labels)) - (1 if -1 in dbscan_clusterer.labels else 0)\n",
    "\n",
    "print(\"ORB BoVW process time (DBSCAN):\", orb_kmeans_profile.round_duration(), \"s\")\n",
    "print( n_clusters_ )"
   ]
  },
  {
   "attachments": {},
   "cell_type": "markdown",
   "id": "bad8cfd5",
   "metadata": {},
   "source": [
    "*sklearn.cluster.KMeans* ne semble pas conçu pour gérer une très grande quantité de données. Il est mort dans d'atroces soufrances en 6 minutes entrainant avec lui dans le deuil un ordinateur et probablement plusieurs fichiers temporaires.\n",
    "\n",
    "*sklearn.cluster.DBSCAN* est lui aussi lent si on utilise la force brute sur OrbFeatures: pas termine après 20 minutes.\n",
    "\n",
    "Par contre *sklearn.cluster.MiniBatchKMeans* est très impressionant: tout a été ingéré en ~50s pour générer 200 clusters. Ceci dit, l'algorithme ne semble pas \"scaler\" linéairement avec le nombre de clusters (5000 clusters ne converge pas apres 15 minutes, 1000 clusters en 240s). Déterminer leur nombre optimale ne sera pas une mince affaire.\n",
    "\n",
    "Il apparait clair qu'il faut resampler les features pour en extraire le BoVW."
   ]
  }
 ],
 "metadata": {
  "hide_input": false,
  "kernelspec": {
   "display_name": "Python 3 (ipykernel)",
   "language": "python",
   "name": "python3"
  },
  "language_info": {
   "codemirror_mode": {
    "name": "ipython",
    "version": 3
   },
   "file_extension": ".py",
   "mimetype": "text/x-python",
   "name": "python",
   "nbconvert_exporter": "python",
   "pygments_lexer": "ipython3",
   "version": "3.9.15"
  },
  "toc": {
   "base_numbering": 1,
   "nav_menu": {},
   "number_sections": true,
   "sideBar": true,
   "skip_h1_title": false,
   "title_cell": "Table of Contents",
   "title_sidebar": "Contents",
   "toc_cell": false,
   "toc_position": {},
   "toc_section_display": true,
   "toc_window_display": false
  },
  "vscode": {
   "interpreter": {
    "hash": "ad2bdc8ecc057115af97d19610ffacc2b4e99fae6737bb82f5d7fb13d2f2c186"
   }
  }
 },
 "nbformat": 4,
 "nbformat_minor": 5
}
