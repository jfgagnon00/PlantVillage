{
 "cells": [
  {
   "cell_type": "code",
   "execution_count": 1,
   "id": "e781743d",
   "metadata": {},
   "outputs": [
    {
     "data": {
      "text/html": [
       "\n",
       "<style>    \n",
       "    @import url(\"css/custom_styles.css\")\n",
       "</style>\n"
      ],
      "text/plain": [
       "<IPython.core.display.HTML object>"
      ]
     },
     "metadata": {},
     "output_type": "display_data"
    }
   ],
   "source": [
    "%%html\n",
    "\n",
    "<style>    \n",
    "    @import url(\"css/custom_styles.css\")\n",
    "</style>"
   ]
  },
  {
   "cell_type": "markdown",
   "id": "35ef8f0f",
   "metadata": {},
   "source": [
    "# Rapport final"
   ]
  },
  {
   "cell_type": "markdown",
   "id": "33a7d207",
   "metadata": {},
   "source": [
    "## Jean-Francois Gagnon, Michele De La Sablonniere et Frederic Champagne"
   ]
  },
  {
   "cell_type": "markdown",
   "id": "b4922612",
   "metadata": {},
   "source": [
    "Introduction(Explication):"
   ]
  },
  {
   "cell_type": "markdown",
   "id": "b59bcdcc",
   "metadata": {},
   "source": [
    "1. On s’intéresse à développer un modèle de prédiction de classes. Identifier d’abord les classes disponibles dans le dataset que vous avez choisi."
   ]
  },
  {
   "cell_type": "markdown",
   "id": "9b128082",
   "metadata": {},
   "source": [
    "## Description\n",
    "\n",
    "Dans cette base de données, il y a 39 differentes classes d'image de feuilles. La base de donnée contient 61,486 images.\n",
    "\n",
    "Les classes sont: \n",
    "\n",
    "<br>\n",
    "<div>\n",
    "<div class=\"columns_2\">\n",
    "    \n",
    "1. Apple_scab\n",
    "2. Apple_black_rot\n",
    "3. Apple_cedar_apple_rust\n",
    "4. Apple_healthy\n",
    "5. Background_without_leaves\n",
    "6. Blueberry_healthy\n",
    "7. Cherry_powdery_mildew\n",
    "8. Cherry_healthy\n",
    "9. Corn_gray_leaf_spot\n",
    "10. Corn_common_rust\n",
    "11. Corn_northern_leaf_blight\n",
    "12. Corn_healthy\n",
    "13. Grape_black_rot\n",
    "14. Grape_black_measles\n",
    "15. Grape_leaf_blight\n",
    "16. Grape_healthy\n",
    "17. Orange_haunglongbing\n",
    "18. Peach_bacterial_spot\n",
    "19. Peach_healthy\n",
    "20. Pepper_bacterial_spot\n",
    "\n",
    "</div>\n",
    "\n",
    "<div class=\"columns_2\">\n",
    "    \n",
    "21. Pepper_healthy\n",
    "22. Potato_early_blight\n",
    "23. Potato_healthy\n",
    "24. Potato_late_blight\n",
    "25. Raspberry_healthy\n",
    "26. Soybean_healthy\n",
    "27. Squash_powdery_mildew\n",
    "28. Strawberry_healthy\n",
    "29. Strawberry_leaf_scorch\n",
    "30. Tomato_bacterial_spot\n",
    "31. Tomato_early_blight\n",
    "32. Tomato_healthy\n",
    "33. Tomato_late_blight\n",
    "34. Tomato_leaf_mold\n",
    "35. Tomato_septoria_leaf_spot\n",
    "36. Tomato_spider_mites_two-spotted_spider_mite\n",
    "37. Tomato_target_spot\n",
    "38. Tomato_mosaic_virus\n",
    "39. Tomato_yellow_leaf_curl_virus\n",
    "    \n",
    "</div>\n",
    "</div>"
   ]
  },
  {
   "cell_type": "markdown",
   "id": "bfa9e100",
   "metadata": {},
   "source": [
    "2. Procéder à une exploration du dataset et identifier des valeurs manquantes, inconnues, etc. Procéder au remplacement de ces valeurs s’il y’a lieu."
   ]
  },
  {
   "cell_type": "code",
   "execution_count": null,
   "id": "baf195d7",
   "metadata": {},
   "outputs": [],
   "source": []
  },
  {
   "cell_type": "markdown",
   "id": "d628cee0",
   "metadata": {},
   "source": [
    "3. Développer la matrice de corrélation. Interpréter vos résultats."
   ]
  },
  {
   "cell_type": "code",
   "execution_count": null,
   "id": "cd46dd12",
   "metadata": {},
   "outputs": [],
   "source": []
  },
  {
   "cell_type": "markdown",
   "id": "4db514b1",
   "metadata": {},
   "source": [
    "4. Procéder à la séparation train/test (80-20) de votre dataset original (seed 44)."
   ]
  },
  {
   "cell_type": "code",
   "execution_count": null,
   "id": "b4751d94",
   "metadata": {},
   "outputs": [],
   "source": []
  },
  {
   "cell_type": "markdown",
   "id": "27dd1ed8",
   "metadata": {},
   "source": [
    "5. Utilisation et comparaison de différents modèles."
   ]
  },
  {
   "cell_type": "code",
   "execution_count": null,
   "id": "bd079888",
   "metadata": {},
   "outputs": [],
   "source": []
  },
  {
   "cell_type": "markdown",
   "id": "131cc309",
   "metadata": {},
   "source": [
    "6. Calculer l’exactitude (Accuracy) sur la base des valeurs test."
   ]
  },
  {
   "cell_type": "code",
   "execution_count": null,
   "id": "16ecdbb3",
   "metadata": {},
   "outputs": [],
   "source": []
  },
  {
   "cell_type": "markdown",
   "id": "50720f3c",
   "metadata": {},
   "source": [
    "7. Sauvegarde du meilleur modèle pour utilisation ultérieure."
   ]
  },
  {
   "cell_type": "code",
   "execution_count": null,
   "id": "3ae94bfe",
   "metadata": {},
   "outputs": [],
   "source": []
  },
  {
   "cell_type": "markdown",
   "id": "65d56e0c",
   "metadata": {},
   "source": [
    "8. Utilisation du modèle sauvegardé pour la prédiction."
   ]
  },
  {
   "cell_type": "code",
   "execution_count": null,
   "id": "24ab63f1",
   "metadata": {},
   "outputs": [],
   "source": []
  }
 ],
 "metadata": {
  "kernelspec": {
   "display_name": "Python 3 (ipykernel)",
   "language": "python",
   "name": "python3"
  },
  "language_info": {
   "codemirror_mode": {
    "name": "ipython",
    "version": 3
   },
   "file_extension": ".py",
   "mimetype": "text/x-python",
   "name": "python",
   "nbconvert_exporter": "python",
   "pygments_lexer": "ipython3",
   "version": "3.10.9"
  }
 },
 "nbformat": 4,
 "nbformat_minor": 5
}
