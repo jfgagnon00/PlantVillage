{
 "cells": [
  {
   "cell_type": "code",
   "execution_count": 1,
   "id": "61a93a2f",
   "metadata": {},
   "outputs": [
    {
     "data": {
      "text/html": [
       "\n",
       "<style>    \n",
       "    @import url(\"css/custom_styles.css\")\n",
       "</style>\n"
      ],
      "text/plain": [
       "<IPython.core.display.HTML object>"
      ]
     },
     "metadata": {},
     "output_type": "display_data"
    }
   ],
   "source": [
    "%%html\n",
    "\n",
    "<style>    \n",
    "    @import url(\"css/custom_styles.css\")\n",
    "</style>"
   ]
  },
  {
   "cell_type": "markdown",
   "id": "f9bafcf8",
   "metadata": {},
   "source": [
    "<center>\n",
    "    <h1>\n",
    "    Projet\n",
    "    </h1>\n",
    "    PlantVillage et Bag Of Visual Words\n",
    "    <br>\n",
    "    <br>\n",
    "    <br>\n",
    "    <br>\n",
    "    <b>Frédéric Champagne</b><br>\n",
    "    <b>Jean-Francois Gagnon</b><br>\n",
    "    <b>Michèle De la Sablonière</b><br>\n",
    "    <br>\n",
    "    420-A52\n",
    "    <br>\n",
    "</center>"
   ]
  }
 ],
 "metadata": {
  "hide_input": false,
  "kernelspec": {
   "display_name": "Python 3 (ipykernel)",
   "language": "python",
   "name": "python3"
  },
  "language_info": {
   "codemirror_mode": {
    "name": "ipython",
    "version": 3
   },
   "file_extension": ".py",
   "mimetype": "text/x-python",
   "name": "python",
   "nbconvert_exporter": "python",
   "pygments_lexer": "ipython3",
   "version": "3.9.16"
  },
  "vscode": {
   "interpreter": {
    "hash": "ad2bdc8ecc057115af97d19610ffacc2b4e99fae6737bb82f5d7fb13d2f2c186"
   }
  }
 },
 "nbformat": 4,
 "nbformat_minor": 5
}
