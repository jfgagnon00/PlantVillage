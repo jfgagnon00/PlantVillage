{
 "cells": [
  {
   "cell_type": "code",
   "execution_count": 1,
   "id": "4d914ec6",
   "metadata": {
    "ExecuteTime": {
     "end_time": "2023-04-16T17:45:13.688609Z",
     "start_time": "2023-04-16T17:45:12.693324Z"
    }
   },
   "outputs": [],
   "source": [
    "#\n",
    "# import utilitaires\n",
    "#\n",
    "import helpers as hlp\n",
    "import helpers.visual_words as vw\n",
    "import helpers.features as feat"
   ]
  },
  {
   "cell_type": "code",
   "execution_count": 2,
   "id": "87afbd76",
   "metadata": {
    "ExecuteTime": {
     "end_time": "2023-04-16T17:45:13.720611Z",
     "start_time": "2023-04-16T17:45:13.690610Z"
    }
   },
   "outputs": [
    {
     "name": "stdout",
     "output_type": "stream",
     "text": [
      "ORB features (20908751, 32)\n",
      "SIFT features (14386568, 128)\n"
     ]
    }
   ],
   "source": [
    "config_overrides = hlp.MetaObject.from_json(\"config_overrides.json\")\n",
    "\n",
    "#\n",
    "# features orb\n",
    "#\n",
    "orb_features_config = feat.OrbFeaturesConfig()\n",
    "if not orb_features_config is None:\n",
    "    hlp.MetaObject.override_from_object(orb_features_config, \n",
    "                                        config_overrides.orb.features)\n",
    "\n",
    "orb_features = feat.load(orb_features_config, None)\n",
    "\n",
    "print(\"ORB features\", orb_features.features.shape)\n",
    "\n",
    "\n",
    "#\n",
    "# features sift\n",
    "#\n",
    "sift_features_config = feat.SiftFeaturesConfig()\n",
    "if not sift_features_config is None:\n",
    "    hlp.MetaObject.override_from_object(sift_features_config, \n",
    "                                        config_overrides.sift.features)\n",
    "\n",
    "sift_features = feat.load(sift_features_config, None)\n",
    "\n",
    "print(\"SIFT features\", sift_features.features.shape)"
   ]
  },
  {
   "cell_type": "code",
   "execution_count": 3,
   "id": "57b645b7",
   "metadata": {
    "ExecuteTime": {
     "end_time": "2023-04-16T17:45:13.767821Z",
     "start_time": "2023-04-16T17:45:13.721613Z"
    }
   },
   "outputs": [
    {
     "name": "stdout",
     "output_type": "stream",
     "text": [
      "orb_bovw_config\n"
     ]
    },
    {
     "data": {
      "text/plain": [
       "{'install_path': 'dataset/OrbBoVW.pkl',\n",
       " 'force_generate': False,\n",
       " 'n_clusters': 500}"
      ]
     },
     "metadata": {},
     "output_type": "display_data"
    },
    {
     "name": "stdout",
     "output_type": "stream",
     "text": [
      "ORB BoVW loading: 0.03 s\n",
      "ORB BoVW clusters: (500, 32)\n"
     ]
    }
   ],
   "source": [
    "#\n",
    "# parametres bag of visual words orb\n",
    "#\n",
    "orb_bovw_config = vw.BoVWConfig()\n",
    "if not config_overrides is None:\n",
    "    hlp.MetaObject.override_from_object(orb_bovw_config, \n",
    "                                        config_overrides.orb.bovw)\n",
    "\n",
    "print(\"orb_bovw_config\")\n",
    "display(vars(orb_bovw_config))\n",
    "\n",
    "\n",
    "# ATTENTION: cette etape peut etre longue a la 1e execution\n",
    "#            elle est sans feedback visuel, soyez patient\n",
    "with hlp.Profile() as orb_bovw_profile:\n",
    "    orb_bovw = vw.load_bovw(orb_bovw_config, orb_features.features)\n",
    "\n",
    "print(\"ORB BoVW loading:\", orb_bovw_profile.round_duration(), \"s\")\n",
    "print(\"ORB BoVW clusters:\", orb_bovw.model.cluster_centers_.shape)"
   ]
  },
  {
   "cell_type": "code",
   "execution_count": 4,
   "id": "049fef0b",
   "metadata": {
    "ExecuteTime": {
     "end_time": "2023-04-16T17:45:13.847146Z",
     "start_time": "2023-04-16T17:45:13.769824Z"
    }
   },
   "outputs": [
    {
     "name": "stdout",
     "output_type": "stream",
     "text": [
      "sift_bovw_config\n"
     ]
    },
    {
     "data": {
      "text/plain": [
       "{'install_path': 'dataset/SiftBoVW.pkl',\n",
       " 'force_generate': False,\n",
       " 'n_clusters': 500}"
      ]
     },
     "metadata": {},
     "output_type": "display_data"
    },
    {
     "name": "stdout",
     "output_type": "stream",
     "text": [
      "SIFT BoVW loading: 0.06 s\n",
      "SIFT BoVW clusters: (500, 128)\n"
     ]
    }
   ],
   "source": [
    "#\n",
    "# parametres bag of visual words sift\n",
    "#\n",
    "sift_bovw_config = vw.BoVWConfig()\n",
    "if not config_overrides is None:\n",
    "    hlp.MetaObject.override_from_object(sift_bovw_config, \n",
    "                                        config_overrides.sift.bovw)\n",
    "\n",
    "print(\"sift_bovw_config\")\n",
    "display(vars(sift_bovw_config))\n",
    "\n",
    "# ATTENTION: cette etape peut etre longue a la 1e execution\n",
    "#            elle est sans feedback visuel, soyez patient\n",
    "with hlp.Profile() as sift_bovw_profile:\n",
    "    sift_bovw = vw.load_bovw(sift_bovw_config, sift_features.features)\n",
    "\n",
    "print(\"SIFT BoVW loading:\", sift_bovw_profile.round_duration(), \"s\")\n",
    "print(\"SIFT BoVW clusters:\", sift_bovw.model.cluster_centers_.shape)"
   ]
  }
 ],
 "metadata": {
  "hide_input": false,
  "kernelspec": {
   "display_name": "Python 3 (ipykernel)",
   "language": "python",
   "name": "python3"
  },
  "language_info": {
   "codemirror_mode": {
    "name": "ipython",
    "version": 3
   },
   "file_extension": ".py",
   "mimetype": "text/x-python",
   "name": "python",
   "nbconvert_exporter": "python",
   "pygments_lexer": "ipython3",
   "version": "3.9.15"
  },
  "toc": {
   "base_numbering": 1,
   "nav_menu": {},
   "number_sections": true,
   "sideBar": true,
   "skip_h1_title": false,
   "title_cell": "Table of Contents",
   "title_sidebar": "Contents",
   "toc_cell": false,
   "toc_position": {},
   "toc_section_display": true,
   "toc_window_display": false
  },
  "vscode": {
   "interpreter": {
    "hash": "ad2bdc8ecc057115af97d19610ffacc2b4e99fae6737bb82f5d7fb13d2f2c186"
   }
  }
 },
 "nbformat": 4,
 "nbformat_minor": 5
}
