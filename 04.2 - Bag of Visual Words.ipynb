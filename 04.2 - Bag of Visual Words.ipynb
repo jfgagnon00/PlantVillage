{
 "cells": [
  {
   "cell_type": "code",
   "execution_count": 1,
   "id": "4d914ec6",
   "metadata": {
    "ExecuteTime": {
     "end_time": "2023-04-21T21:57:17.970704Z",
     "start_time": "2023-04-21T21:57:17.012452Z"
    }
   },
   "outputs": [],
   "source": [
    "#\n",
    "# import utilitaires\n",
    "#\n",
    "import helpers as hlp\n",
    "import helpers.split as split\n",
    "import helpers.visual_words as vw\n",
    "import helpers.features as feat"
   ]
  },
  {
   "cell_type": "code",
   "execution_count": 3,
   "id": "87afbd76",
   "metadata": {
    "ExecuteTime": {
     "end_time": "2023-04-21T21:57:39.937610Z",
     "start_time": "2023-04-21T21:57:39.793615Z"
    }
   },
   "outputs": [
    {
     "data": {
      "text/plain": [
       "{'h5_file': <HDF5 file \"OrbFeatures.hd5\" (mode r+)>,\n",
       " 'features': <HDF5 dataset \"features\": shape (20908751, 32), type \"|u1\">,\n",
       " 'key_points': <HDF5 dataset \"keypoints\": shape (20908751, 7), type \"<f4\">,\n",
       " 'index_to_features': <HDF5 group \"/indices/features\" (60162 members)>,\n",
       " 'index_to_key_points': <HDF5 group \"/indices/keypoints\" (60162 members)>,\n",
       " 'train_features': None,\n",
       " 'test_features': None}"
      ]
     },
     "metadata": {},
     "output_type": "display_data"
    },
    {
     "name": "stdout",
     "output_type": "stream",
     "text": [
      "ORB features (20908751, 32)\n",
      "SIFT features (14386568, 128)\n"
     ]
    }
   ],
   "source": [
    "#\n",
    "# parametres\n",
    "#\n",
    "configs = hlp.get_configs(\"config_overrides.json\")\n",
    "\n",
    "#\n",
    "# train/test sets\n",
    "# \n",
    "train, test = split.load(configs.split)\n",
    "\n",
    "\n",
    "#\n",
    "# features orb\n",
    "#\n",
    "configs.orb.read_only = False\n",
    "orb_features = feat.load(configs.orb, None)\n",
    "feat.update_train_test(orb_features, train, test)\n",
    "\n",
    "print(\"ORB features\", orb_features.features.shape)\n",
    "\n",
    "#\n",
    "# features sift\n",
    "#\n",
    "sift_features = feat.load(configs.sift, None)\n",
    "print(\"SIFT features\", sift_features.features.shape)"
   ]
  },
  {
   "cell_type": "code",
   "execution_count": null,
   "id": "57b645b7",
   "metadata": {},
   "outputs": [],
   "source": [
    "# ATTENTION: cette etape peut etre longue a la 1e execution\n",
    "#            elle est sans feedback visuel, soyez patient\n",
    "with hlp.Profile() as orb_bovw_profile:\n",
    "    # tenir en compte le train set\n",
    "    orb_bovw = vw.load_bovw(configs.orb_bovw, orb_features.features)\n",
    "\n",
    "print(\"ORB BoVW loading:\", orb_bovw_profile.round_duration(), \"s\")\n",
    "print(\"ORB BoVW clusters:\", orb_bovw.model.cluster_centers_.shape)"
   ]
  },
  {
   "cell_type": "code",
   "execution_count": null,
   "id": "049fef0b",
   "metadata": {},
   "outputs": [],
   "source": [
    "# ATTENTION: cette etape peut etre longue a la 1e execution\n",
    "#            elle est sans feedback visuel, soyez patient\n",
    "with hlp.Profile() as sift_bovw_profile:\n",
    "    sift_bovw = vw.load_bovw(configs.sift_bovw, sift_features.features)\n",
    "\n",
    "print(\"SIFT BoVW loading:\", sift_bovw_profile.round_duration(), \"s\")\n",
    "print(\"SIFT BoVW clusters:\", sift_bovw.model.cluster_centers_.shape)"
   ]
  }
 ],
 "metadata": {
  "hide_input": false,
  "kernelspec": {
   "display_name": "Python 3 (ipykernel)",
   "language": "python",
   "name": "python3"
  },
  "language_info": {
   "codemirror_mode": {
    "name": "ipython",
    "version": 3
   },
   "file_extension": ".py",
   "mimetype": "text/x-python",
   "name": "python",
   "nbconvert_exporter": "python",
   "pygments_lexer": "ipython3",
   "version": "3.9.15"
  },
  "toc": {
   "base_numbering": 1,
   "nav_menu": {},
   "number_sections": true,
   "sideBar": true,
   "skip_h1_title": false,
   "title_cell": "Table of Contents",
   "title_sidebar": "Contents",
   "toc_cell": false,
   "toc_position": {},
   "toc_section_display": true,
   "toc_window_display": false
  },
  "vscode": {
   "interpreter": {
    "hash": "ad2bdc8ecc057115af97d19610ffacc2b4e99fae6737bb82f5d7fb13d2f2c186"
   }
  }
 },
 "nbformat": 4,
 "nbformat_minor": 5
}
