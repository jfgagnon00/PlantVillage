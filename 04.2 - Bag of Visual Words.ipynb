{
 "cells": [
  {
   "cell_type": "code",
   "execution_count": 1,
   "id": "4d914ec6",
   "metadata": {
    "ExecuteTime": {
     "end_time": "2023-04-28T15:48:15.997768Z",
     "start_time": "2023-04-28T15:48:14.723868Z"
    }
   },
   "outputs": [],
   "source": [
    "%matplotlib inline\n",
    "\n",
    "#\n",
    "# import utilitaires\n",
    "#\n",
    "import matplotlib.pyplot as plt\n",
    "import numpy as np\n",
    "import os\n",
    "import pickle\n",
    "\n",
    "import helpers as hlp\n",
    "import helpers.split as split\n",
    "import helpers.visual_words as vw\n",
    "import helpers.features as feat\n",
    "\n",
    "from sklearn.pipeline import Pipeline\n",
    "from sklearn.preprocessing import StandardScaler\n",
    "from sklearn.decomposition import PCA"
   ]
  },
  {
   "cell_type": "code",
   "execution_count": 2,
   "id": "87afbd76",
   "metadata": {
    "ExecuteTime": {
     "end_time": "2023-04-28T15:48:16.602635Z",
     "start_time": "2023-04-28T15:48:15.999769Z"
    }
   },
   "outputs": [
    {
     "name": "stdout",
     "output_type": "stream",
     "text": [
      "Train size 3711\n",
      "Test size 928\n",
      "\n",
      "ORB features (20906105, 32)\n",
      "ORB train features (1435387, 32)\n",
      "ORB test features (359352, 32)\n",
      "\n",
      "SIFT features (14382049, 128)\n",
      "SIFT train features (1169216, 128)\n",
      "SIFT test features (291713, 128)\n"
     ]
    }
   ],
   "source": [
    "#\n",
    "# parametres\n",
    "#\n",
    "configs = hlp.get_configs(\"config_overrides.json\")\n",
    "\n",
    "#\n",
    "# train/test sets\n",
    "# \n",
    "train, test = split.load(configs.split)\n",
    "print(\"Train size\", len(train))\n",
    "print(\"Test size\", len(test))\n",
    "print()\n",
    "\n",
    "#\n",
    "# features orb\n",
    "#\n",
    "# mettre a jour train/test set features\n",
    "configs.orb.read_only = False\n",
    "orb_features = feat.load(configs.orb, None)\n",
    "if configs.orb.force_generate or orb_features.train_features is None:\n",
    "    feat.update_train_test(orb_features, train, test)\n",
    "\n",
    "print(\"ORB features\", orb_features.features.shape)\n",
    "print(\"ORB train features\", orb_features.train_features.shape)\n",
    "print(\"ORB test features\", orb_features.test_features.shape)\n",
    "print()\n",
    "\n",
    "#\n",
    "# features sift\n",
    "#\n",
    "configs.sift.read_only = False\n",
    "sift_features = feat.load(configs.sift, None)\n",
    "if configs.sift.force_generate or sift_features.train_features is None:\n",
    "    feat.update_train_test(sift_features, train, test)\n",
    "\n",
    "print(\"SIFT features\", sift_features.features.shape)\n",
    "print(\"SIFT train features\", sift_features.train_features.shape)\n",
    "print(\"SIFT test features\", sift_features.test_features.shape)"
   ]
  },
  {
   "cell_type": "markdown",
   "id": "950bbfa6",
   "metadata": {},
   "source": [
    "Etant donnée que les descripteurs des images représentent un apport important à la quantité de données à traiter (14 382 049 de descripteurs pour 3 711 images, plus de 3 ordres de grandeurs en quantité), nous voulons optimiser cet impact. Une analyse PCA nous permettra de les transformer pour éventuellment réduire leurs dimensions. "
   ]
  },
  {
   "cell_type": "code",
   "execution_count": 3,
   "id": "ea41efeb",
   "metadata": {
    "ExecuteTime": {
     "end_time": "2023-04-28T15:48:16.617909Z",
     "start_time": "2023-04-28T15:48:16.603633Z"
    }
   },
   "outputs": [],
   "source": [
    "def features_pca(x):\n",
    "    pca_pipeline = Pipeline([(\"scaler\", StandardScaler()),\n",
    "                             (\"pca\", PCA(svd_solver=\"full\"))])\n",
    "    pca_pipeline.fit(x)\n",
    "    return pca_pipeline\n",
    "\n",
    "def features_pca_analysis(pca_model, title_prefix, threshold=None, figsize=(5, 3)):\n",
    "    var_ratio = pca_model.explained_variance_ratio_\n",
    "    inertia = np.cumsum(var_ratio)\n",
    "\n",
    "    plt.figure(figsize=figsize)\n",
    "    plt.plot(range(inertia.shape[0]), inertia, marker=\".\")\n",
    "    if not threshold is None:\n",
    "        plt.axhline(y=threshold, color=\"red\", linestyle=\"-\")\n",
    "    plt.grid()\n",
    "    plt.title(f\"{title_prefix}\\n% variance expliquée vs # composantes\")\n",
    "    plt.show()"
   ]
  },
  {
   "cell_type": "code",
   "execution_count": 4,
   "id": "c9f069df",
   "metadata": {
    "ExecuteTime": {
     "end_time": "2023-04-28T15:48:20.971335Z",
     "start_time": "2023-04-28T15:48:16.619857Z"
    }
   },
   "outputs": [
    {
     "name": "stdout",
     "output_type": "stream",
     "text": [
      "ORB Features PCA: 4.18 s\n",
      "ORB Features PCA valeurs propres:\n",
      "[3.61653638 3.37969818 2.41892656 2.1262218  1.67973267 1.64900856\n",
      " 1.46362592 1.27370362 1.1778436  1.04776065 0.96083784 0.83446407\n",
      " 0.81480745 0.78529098 0.7249106  0.68137823 0.63593115 0.62395314\n",
      " 0.58245067 0.54491609 0.49285608 0.48452015 0.47005142 0.44450133\n",
      " 0.43151008 0.42318211 0.40417857 0.38577036 0.37314968 0.3652678\n",
      " 0.35711424 0.34592232]\n"
     ]
    },
    {
     "data": {
      "image/png": "[encoded data removed]",
      "text/plain": [
       "<Figure size 500x300 with 1 Axes>"
      ]
     },
     "metadata": {},
     "output_type": "display_data"
    }
   ],
   "source": [
    "with hlp.Profile() as orb_features_pca_profile:\n",
    "    orb_features_pca = features_pca(orb_features.train_features)\n",
    "\n",
    "print(\"ORB Features PCA:\", orb_features_pca_profile.round_duration(), \"s\")\n",
    "print(\"ORB Features PCA valeurs propres:\")\n",
    "print(orb_features_pca[\"pca\"].explained_variance_)\n",
    "\n",
    "features_pca_analysis(orb_features_pca[\"pca\"], \"ORB\", 0.95)"
   ]
  },
  {
   "cell_type": "markdown",
   "id": "94cdf623",
   "metadata": {},
   "source": [
    "Le graphique précédant n'exhibe pas de \"coude franc\". Nous établisons donc un seuil à 95% ce qui permet de garder 26 composantes sur les 32 d'origine. Ce paramètre est intégré dans notre pipeline dans l'étape suivante via les fichiers de configuration.  "
   ]
  },
  {
   "cell_type": "code",
   "execution_count": 5,
   "id": "57b645b7",
   "metadata": {
    "ExecuteTime": {
     "end_time": "2023-04-28T15:48:20.986894Z",
     "start_time": "2023-04-28T15:48:20.974332Z"
    }
   },
   "outputs": [
    {
     "name": "stdout",
     "output_type": "stream",
     "text": [
      "ORB BoVW loading: 0.0 s\n",
      "ORB BoVW clusters: (500, 26)\n"
     ]
    }
   ],
   "source": [
    "# ATTENTION: cette etape peut etre longue a la 1e execution\n",
    "#            elle est sans feedback visuel, soyez patient\n",
    "with hlp.Profile() as orb_bovw_profile:\n",
    "    orb_bovw = vw.load_bovw(configs.orb_bovw, orb_features.train_features)\n",
    "\n",
    "print(\"ORB BoVW loading:\", orb_bovw_profile.round_duration(), \"s\")\n",
    "print(\"ORB BoVW clusters:\", orb_bovw.cluster_centers.shape)"
   ]
  },
  {
   "cell_type": "code",
   "execution_count": 6,
   "id": "ba3133d8",
   "metadata": {
    "ExecuteTime": {
     "end_time": "2023-04-28T15:48:28.721718Z",
     "start_time": "2023-04-28T15:48:20.988892Z"
    }
   },
   "outputs": [],
   "source": [
    "with hlp.Profile() as sift_features_pca_profile:\n",
    "    sift_features_pca = features_pca(sift_features.train_features)"
   ]
  },
  {
   "cell_type": "code",
   "execution_count": 7,
   "id": "91e942e7",
   "metadata": {
    "ExecuteTime": {
     "end_time": "2023-04-28T15:48:28.864472Z",
     "start_time": "2023-04-28T15:48:28.723672Z"
    }
   },
   "outputs": [
    {
     "name": "stdout",
     "output_type": "stream",
     "text": [
      "ORB Features PCA: 7.73 s\n",
      "ORB Features PCA valeurs propres:\n",
      "[11.63119871  9.49010062  7.88424028  5.62626378  5.4850498   4.75940524\n",
      "  4.43607164  4.14595605  4.04722912  3.55061558  2.81722823  2.56037192\n",
      "  2.50692452  2.33739838  2.29824669  2.20936932  1.97103099  1.86914875\n",
      "  1.79687397  1.76519823  1.67053632  1.59252672  1.53873325  1.36196497\n",
      "  1.30841836  1.24974267  1.20223366  1.14035549  1.12129869  0.99891027\n",
      "  0.9740871   0.95339544  0.90427552  0.89546074  0.87531501  0.84712211\n",
      "  0.84577949  0.81870251  0.79945642  0.79644409  0.74975871  0.69788843\n",
      "  0.69273653  0.66984611  0.6571942   0.63593912  0.60617717  0.58823751\n",
      "  0.56282121  0.53925823  0.51591009  0.50663094  0.49002343  0.47084705\n",
      "  0.47005058  0.43719488  0.4182962   0.40361947  0.39765727  0.39526953\n",
      "  0.38825703  0.3714466   0.36265165  0.35479141  0.35398138  0.34566124\n",
      "  0.33824561  0.33407152  0.31462776  0.31291107  0.30461405  0.29714688\n",
      "  0.29388441  0.29318525  0.2822817   0.26622975  0.25581966  0.23430349\n",
      "  0.22717424  0.22130476  0.22020691  0.21591929  0.20953053  0.20215608\n",
      "  0.1961265   0.19384535  0.19344415  0.18644161  0.18342214  0.17468666\n",
      "  0.17063616  0.1698385   0.16371997  0.15539978  0.15373301  0.145281\n",
      "  0.14156443  0.13359977  0.13179055  0.12702906  0.12440795  0.12054626\n",
      "  0.1132879   0.11298026  0.10999838  0.10761307  0.1056851   0.10354907\n",
      "  0.1017313   0.0973523   0.09205713  0.09188458  0.09103358  0.08896479\n",
      "  0.08807173  0.08518608  0.08093574  0.07559617  0.07457959  0.07298491\n",
      "  0.06970093  0.06624614  0.06206603  0.05637186  0.05576051  0.05398992\n",
      "  0.04921248  0.03930593]\n"
     ]
    },
    {
     "data": {
      "image/png": "[encoded data removed]",
      "text/plain": [
       "<Figure size 800x400 with 1 Axes>"
      ]
     },
     "metadata": {},
     "output_type": "display_data"
    }
   ],
   "source": [
    "print(\"ORB Features PCA:\", sift_features_pca_profile.round_duration(), \"s\")\n",
    "print(\"ORB Features PCA valeurs propres:\")\n",
    "print(sift_features_pca[\"pca\"].explained_variance_)\n",
    "\n",
    "features_pca_analysis(sift_features_pca[\"pca\"], \"SIFT\", 0.95, (8, 4))"
   ]
  },
  {
   "cell_type": "markdown",
   "id": "35d71d35",
   "metadata": {},
   "source": [
    "De la même manière que précédement, nous établisons donc un seuil à 95% ce qui permet de garder 80 composantes sur les 128 d'origine. Ce paramètre est intégré dans notre pipeline dans l'étape suivante via les fichiers de configuration."
   ]
  },
  {
   "cell_type": "code",
   "execution_count": 8,
   "id": "049fef0b",
   "metadata": {
    "ExecuteTime": {
     "end_time": "2023-04-28T15:48:28.880473Z",
     "start_time": "2023-04-28T15:48:28.867474Z"
    }
   },
   "outputs": [
    {
     "name": "stdout",
     "output_type": "stream",
     "text": [
      "SIFT BoVW loading: 0.0 s\n",
      "SIFT BoVW clusters: (500, 80)\n"
     ]
    }
   ],
   "source": [
    "# ATTENTION: cette etape peut etre longue a la 1e execution\n",
    "#            elle est sans feedback visuel, soyez patient\n",
    "with hlp.Profile() as sift_bovw_profile:\n",
    "    sift_bovw = vw.load_bovw(configs.sift_bovw, sift_features.train_features)\n",
    "\n",
    "print(\"SIFT BoVW loading:\", sift_bovw_profile.round_duration(), \"s\")\n",
    "print(\"SIFT BoVW clusters:\", sift_bovw.cluster_centers.shape)"
   ]
  }
 ],
 "metadata": {
  "hide_input": false,
  "kernelspec": {
   "display_name": "Python 3 (ipykernel)",
   "language": "python",
   "name": "python3"
  },
  "language_info": {
   "codemirror_mode": {
    "name": "ipython",
    "version": 3
   },
   "file_extension": ".py",
   "mimetype": "text/x-python",
   "name": "python",
   "nbconvert_exporter": "python",
   "pygments_lexer": "ipython3",
   "version": "3.9.16"
  },
  "toc": {
   "base_numbering": 1,
   "nav_menu": {},
   "number_sections": true,
   "sideBar": true,
   "skip_h1_title": false,
   "title_cell": "Table of Contents",
   "title_sidebar": "Contents",
   "toc_cell": false,
   "toc_position": {},
   "toc_section_display": true,
   "toc_window_display": false
  },
  "vscode": {
   "interpreter": {
    "hash": "ad2bdc8ecc057115af97d19610ffacc2b4e99fae6737bb82f5d7fb13d2f2c186"
   }
  }
 },
 "nbformat": 4,
 "nbformat_minor": 5
}
