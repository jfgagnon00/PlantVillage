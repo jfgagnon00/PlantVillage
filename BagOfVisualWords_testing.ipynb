{
 "cells": [
  {
   "cell_type": "code",
   "execution_count": null,
   "id": "4d914ec6",
   "metadata": {},
   "outputs": [],
   "source": [
    "%matplotlib inline\n",
    "\n",
    "#\n",
    "# import utilitaires\n",
    "#\n",
    "import cv2\n",
    "import random\n",
    "import numpy as np\n",
    "import matplotlib.pyplot as plt\n",
    "import os\n",
    "import pandas as pd\n",
    "\n",
    "import helpers as hlp\n",
    "import helpers.dataset.PlantVillage as pv\n",
    "import helpers.features as feat\n",
    "\n",
    "\n",
    "#\n",
    "# parametres dataset PlantVillage\n",
    "#\n",
    "config_overrides = hlp.MetaObject.from_json(\"config_overrides.json\")\n",
    "executor = hlp.create_thread_pool_executor()\n",
    "\n",
    "pv_config = pv.Config(executor)\n",
    "if not config_overrides is None:\n",
    "    hlp.MetaObject.override_from_object(pv_config, \n",
    "                                        config_overrides.dataset)\n",
    "\n",
    "print(\"pv_config\")\n",
    "display(vars(pv_config))\n",
    "\n",
    "\n",
    "#\n",
    "# obtenir le dataset PlantVillage\n",
    "#\n",
    "pv_dataset = pv.load(pv_config)\n",
    "pv_dataframe = pv_dataset.dataframe\n",
    "\n",
    "print(\"PlantVillage\", pv_dataframe.shape)"
   ]
  },
  {
   "cell_type": "code",
   "execution_count": null,
   "id": "6cfec814",
   "metadata": {},
   "outputs": [],
   "source": [
    "#\n",
    "# get some images\n",
    "#\n",
    "# pv_image_indices = [random.randint(0, pv_dataframe.shape[0]) for _ in range(12)]\n",
    "pv_image_indices = [46764, 21155, 18039, 7483, 6065, 39987, 841, 52365, 46308, 55725, 58270, 60308]\n",
    "pv_image_labels = pv_dataframe.loc[pv_image_indices, \"label\"].values\n",
    "pv_images = [pv_dataset.get_image(i) for i in pv_image_indices]\n",
    "\n",
    "print(pv_image_indices)\n",
    "print(pv_image_labels)"
   ]
  },
  {
   "cell_type": "code",
   "execution_count": null,
   "id": "884e9425",
   "metadata": {},
   "outputs": [],
   "source": [
    "_, axes = plt.subplots(3, 4, figsize=(12, 3 * 4))\n",
    "for ax, image, label in zip(axes.flatten(), pv_images, pv_image_labels):\n",
    "    plt.sca(ax)\n",
    "    label = label.replace(\"_\", \"\\n\")\n",
    "    plt.title(label)\n",
    "    plt.imshow(image)\n",
    "\n",
    "plt.suptitle(\"ORB\")\n",
    "plt.tight_layout()\n",
    "plt.show()"
   ]
  },
  {
   "cell_type": "code",
   "execution_count": null,
   "id": "98c318a9",
   "metadata": {},
   "outputs": [],
   "source": []
  }
 ],
 "metadata": {
  "kernelspec": {
   "display_name": "Python 3 (ipykernel)",
   "language": "python",
   "name": "python3"
  },
  "language_info": {
   "codemirror_mode": {
    "name": "ipython",
    "version": 3
   },
   "file_extension": ".py",
   "mimetype": "text/x-python",
   "name": "python",
   "nbconvert_exporter": "python",
   "pygments_lexer": "ipython3",
   "version": "3.9.15"
  },
  "vscode": {
   "interpreter": {
    "hash": "ad2bdc8ecc057115af97d19610ffacc2b4e99fae6737bb82f5d7fb13d2f2c186"
   }
  }
 },
 "nbformat": 4,
 "nbformat_minor": 5
}
