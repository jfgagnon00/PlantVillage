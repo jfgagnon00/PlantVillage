{
 "cells": [
  {
   "cell_type": "code",
   "execution_count": 1,
   "id": "4d914ec6",
   "metadata": {},
   "outputs": [],
   "source": [
    "%matplotlib inline\n",
    "\n",
    "#\n",
    "# import utilitaires\n",
    "#\n",
    "import numpy as np\n",
    "import pandas as pd\n",
    "\n",
    "from helpers.Concurrent import create_thread_pool_executor\n",
    "from helpers.MetaObject import MetaObject\n",
    "from helpers.Profile import Profile\n",
    "from helpers.Jupyter import display_html\n",
    "\n",
    "from helpers.features.Orb import OrbFeaturesConfig, orb_features_load\n",
    "from helpers.dataset.PlantVillage import PlantVillageConfig, plant_village_load\n",
    "\n",
    "from sklearn.cluster import KMeans\n",
    "from time import time"
   ]
  },
  {
   "cell_type": "code",
   "execution_count": 2,
   "id": "aba53687",
   "metadata": {},
   "outputs": [
    {
     "name": "stdout",
     "output_type": "stream",
     "text": [
      "pv_config\n"
     ]
    },
    {
     "data": {
      "text/plain": [
       "{'url': 'https://tinyurl.com/22tas3na',\n",
       " 'install_path': 'dataset/PlantVillage.hd5',\n",
       " 'species_disease_re': '(.*)(?:___)(.*)',\n",
       " 'species_re': '(.*)(?:,_|_)(.*)',\n",
       " 'label_separator': '_',\n",
       " 'thumbnail_scale': 0.25,\n",
       " 'force_download': False,\n",
       " 'keep_download': True,\n",
       " 'extract_one_folder_up': True,\n",
       " 'allow_update': False,\n",
       " 'executor': <concurrent.futures.thread.ThreadPoolExecutor at 0x208ccba53d0>,\n",
       " 'force_install': False}"
      ]
     },
     "metadata": {},
     "output_type": "display_data"
    }
   ],
   "source": [
    "#\n",
    "# parametres dataset PlantVillage\n",
    "#\n",
    "config_overrides = MetaObject.from_json(\"config_overrides.json\")\n",
    "executor = create_thread_pool_executor()\n",
    "\n",
    "pv_config = PlantVillageConfig(executor)\n",
    "if not config_overrides is None:\n",
    "    MetaObject.override_from_object(pv_config, \n",
    "                                    config_overrides.dataset)\n",
    "\n",
    "print(\"pv_config\")\n",
    "display(pv_config.__dict__)"
   ]
  },
  {
   "cell_type": "code",
   "execution_count": 3,
   "id": "f80c98e9",
   "metadata": {},
   "outputs": [
    {
     "data": {
      "text/plain": [
       "(60343, 5)"
      ]
     },
     "metadata": {},
     "output_type": "display_data"
    },
    {
     "data": {
      "text/html": [
       "<div>\n",
       "<style scoped>\n",
       "    .dataframe tbody tr th:only-of-type {\n",
       "        vertical-align: middle;\n",
       "    }\n",
       "\n",
       "    .dataframe tbody tr th {\n",
       "        vertical-align: top;\n",
       "    }\n",
       "\n",
       "    .dataframe thead th {\n",
       "        text-align: right;\n",
       "    }\n",
       "</style>\n",
       "<table border=\"1\" class=\"dataframe\">\n",
       "  <thead>\n",
       "    <tr style=\"text-align: right;\">\n",
       "      <th></th>\n",
       "      <th>species</th>\n",
       "      <th>disease</th>\n",
       "      <th>image_path</th>\n",
       "      <th>thumbnail_path</th>\n",
       "      <th>label</th>\n",
       "    </tr>\n",
       "  </thead>\n",
       "  <tbody>\n",
       "    <tr>\n",
       "      <th>0</th>\n",
       "      <td>Apple</td>\n",
       "      <td>Apple_scab</td>\n",
       "      <td>images/Apple___Apple_scab/image (123).JPG</td>\n",
       "      <td>thumbnails/Apple___Apple_scab/image (123).JPG</td>\n",
       "      <td>Apple_scab</td>\n",
       "    </tr>\n",
       "    <tr>\n",
       "      <th>1</th>\n",
       "      <td>Apple</td>\n",
       "      <td>Apple_scab</td>\n",
       "      <td>images/Apple___Apple_scab/image (11).JPG</td>\n",
       "      <td>thumbnails/Apple___Apple_scab/image (11).JPG</td>\n",
       "      <td>Apple_scab</td>\n",
       "    </tr>\n",
       "    <tr>\n",
       "      <th>2</th>\n",
       "      <td>Apple</td>\n",
       "      <td>Apple_scab</td>\n",
       "      <td>images/Apple___Apple_scab/image (111).JPG</td>\n",
       "      <td>thumbnails/Apple___Apple_scab/image (111).JPG</td>\n",
       "      <td>Apple_scab</td>\n",
       "    </tr>\n",
       "    <tr>\n",
       "      <th>3</th>\n",
       "      <td>Apple</td>\n",
       "      <td>Apple_scab</td>\n",
       "      <td>images/Apple___Apple_scab/image (115).JPG</td>\n",
       "      <td>thumbnails/Apple___Apple_scab/image (115).JPG</td>\n",
       "      <td>Apple_scab</td>\n",
       "    </tr>\n",
       "    <tr>\n",
       "      <th>4</th>\n",
       "      <td>Apple</td>\n",
       "      <td>Apple_scab</td>\n",
       "      <td>images/Apple___Apple_scab/image (122).JPG</td>\n",
       "      <td>thumbnails/Apple___Apple_scab/image (122).JPG</td>\n",
       "      <td>Apple_scab</td>\n",
       "    </tr>\n",
       "  </tbody>\n",
       "</table>\n",
       "</div>"
      ],
      "text/plain": [
       "  species     disease                                 image_path  \\\n",
       "0   Apple  Apple_scab  images/Apple___Apple_scab/image (123).JPG   \n",
       "1   Apple  Apple_scab   images/Apple___Apple_scab/image (11).JPG   \n",
       "2   Apple  Apple_scab  images/Apple___Apple_scab/image (111).JPG   \n",
       "3   Apple  Apple_scab  images/Apple___Apple_scab/image (115).JPG   \n",
       "4   Apple  Apple_scab  images/Apple___Apple_scab/image (122).JPG   \n",
       "\n",
       "                                  thumbnail_path       label  \n",
       "0  thumbnails/Apple___Apple_scab/image (123).JPG  Apple_scab  \n",
       "1   thumbnails/Apple___Apple_scab/image (11).JPG  Apple_scab  \n",
       "2  thumbnails/Apple___Apple_scab/image (111).JPG  Apple_scab  \n",
       "3  thumbnails/Apple___Apple_scab/image (115).JPG  Apple_scab  \n",
       "4  thumbnails/Apple___Apple_scab/image (122).JPG  Apple_scab  "
      ]
     },
     "metadata": {},
     "output_type": "display_data"
    }
   ],
   "source": [
    "#\n",
    "# obtenir le dataset PlantVillage\n",
    "#\n",
    "pv_dataset = plant_village_load(pv_config)\n",
    "if pv_dataset is None:\n",
    "    display_html(f\"<b>Invalid dataset</b>\")\n",
    "else:\n",
    "    pv_h5_file = pv_dataset.h5_file\n",
    "    pv_dataframe = pd.DataFrame(pv_dataset.data)\n",
    "\n",
    "display( pv_dataframe.shape )  \n",
    "display( pv_dataframe.head() )"
   ]
  },
  {
   "cell_type": "code",
   "execution_count": 4,
   "id": "c8b2b919",
   "metadata": {},
   "outputs": [
    {
     "name": "stdout",
     "output_type": "stream",
     "text": [
      "features_config\n"
     ]
    },
    {
     "data": {
      "text/plain": [
       "{'install_path': 'dataset/OrbFeatures.hd5',\n",
       " 'force_generate': False,\n",
       " 'allow_update': False,\n",
       " 'nfeatures': 10,\n",
       " 'image_iterable': None,\n",
       " 'image_h5': None,\n",
       " 'image_count': 0,\n",
       " 'executor': <concurrent.futures.thread.ThreadPoolExecutor at 0x208ccba53d0>,\n",
       " 'chunk_size': 150}"
      ]
     },
     "metadata": {},
     "output_type": "display_data"
    }
   ],
   "source": [
    "#\n",
    "# parametres pour features\n",
    "#\n",
    "features_config = OrbFeaturesConfig(executor)\n",
    "if not config_overrides is None:\n",
    "    MetaObject.override_from_object(features_config, \n",
    "                                    config_overrides.orb_features)\n",
    "\n",
    "print(\"features_config\")\n",
    "display(features_config.__dict__)"
   ]
  },
  {
   "cell_type": "code",
   "execution_count": 5,
   "id": "529cc153",
   "metadata": {},
   "outputs": [
    {
     "name": "stdout",
     "output_type": "stream",
     "text": [
      "ORB Features: (571117, 32) uint8\n",
      "ORB Indices (dans PlantVillage): (571117,) uint16\n"
     ]
    }
   ],
   "source": [
    "#\n",
    "# obtenir les features pour chaque image\n",
    "#\n",
    "features_config.image_count = pv_dataframe.shape[0]\n",
    "features_config.image_iterable = pv_dataframe[\"image_path\"]\n",
    "features_config.image_h5 = pv_h5_file\n",
    "orb = orb_features_load(features_config)\n",
    "\n",
    "if orb is None:\n",
    "    display_html(f\"<b>Invalid features</b>\")\n",
    "else:\n",
    "    print(\"ORB Features:\", orb.features.shape, orb.features.dtype)\n",
    "    print(\"ORB Indices (dans PlantVillage):\", orb.indices.shape, orb.indices.dtype)"
   ]
  },
  {
   "cell_type": "code",
   "execution_count": 6,
   "id": "a629623b",
   "metadata": {},
   "outputs": [
    {
     "data": {
      "text/plain": [
       "(571117, 32)"
      ]
     },
     "metadata": {},
     "output_type": "display_data"
    },
    {
     "data": {
      "text/html": [
       "<div>\n",
       "<style scoped>\n",
       "    .dataframe tbody tr th:only-of-type {\n",
       "        vertical-align: middle;\n",
       "    }\n",
       "\n",
       "    .dataframe tbody tr th {\n",
       "        vertical-align: top;\n",
       "    }\n",
       "\n",
       "    .dataframe thead th {\n",
       "        text-align: right;\n",
       "    }\n",
       "</style>\n",
       "<table border=\"1\" class=\"dataframe\">\n",
       "  <thead>\n",
       "    <tr style=\"text-align: right;\">\n",
       "      <th></th>\n",
       "      <th>0</th>\n",
       "      <th>1</th>\n",
       "      <th>2</th>\n",
       "      <th>3</th>\n",
       "      <th>4</th>\n",
       "      <th>5</th>\n",
       "      <th>6</th>\n",
       "      <th>7</th>\n",
       "      <th>8</th>\n",
       "      <th>9</th>\n",
       "      <th>...</th>\n",
       "      <th>22</th>\n",
       "      <th>23</th>\n",
       "      <th>24</th>\n",
       "      <th>25</th>\n",
       "      <th>26</th>\n",
       "      <th>27</th>\n",
       "      <th>28</th>\n",
       "      <th>29</th>\n",
       "      <th>30</th>\n",
       "      <th>31</th>\n",
       "    </tr>\n",
       "  </thead>\n",
       "  <tbody>\n",
       "    <tr>\n",
       "      <th>0</th>\n",
       "      <td>159</td>\n",
       "      <td>88</td>\n",
       "      <td>71</td>\n",
       "      <td>175</td>\n",
       "      <td>6</td>\n",
       "      <td>18</td>\n",
       "      <td>238</td>\n",
       "      <td>112</td>\n",
       "      <td>165</td>\n",
       "      <td>194</td>\n",
       "      <td>...</td>\n",
       "      <td>53</td>\n",
       "      <td>236</td>\n",
       "      <td>146</td>\n",
       "      <td>107</td>\n",
       "      <td>234</td>\n",
       "      <td>128</td>\n",
       "      <td>47</td>\n",
       "      <td>183</td>\n",
       "      <td>57</td>\n",
       "      <td>212</td>\n",
       "    </tr>\n",
       "    <tr>\n",
       "      <th>1</th>\n",
       "      <td>222</td>\n",
       "      <td>86</td>\n",
       "      <td>231</td>\n",
       "      <td>229</td>\n",
       "      <td>54</td>\n",
       "      <td>2</td>\n",
       "      <td>122</td>\n",
       "      <td>56</td>\n",
       "      <td>37</td>\n",
       "      <td>236</td>\n",
       "      <td>...</td>\n",
       "      <td>133</td>\n",
       "      <td>206</td>\n",
       "      <td>242</td>\n",
       "      <td>233</td>\n",
       "      <td>175</td>\n",
       "      <td>132</td>\n",
       "      <td>39</td>\n",
       "      <td>183</td>\n",
       "      <td>53</td>\n",
       "      <td>81</td>\n",
       "    </tr>\n",
       "    <tr>\n",
       "      <th>2</th>\n",
       "      <td>215</td>\n",
       "      <td>66</td>\n",
       "      <td>71</td>\n",
       "      <td>165</td>\n",
       "      <td>38</td>\n",
       "      <td>2</td>\n",
       "      <td>107</td>\n",
       "      <td>48</td>\n",
       "      <td>45</td>\n",
       "      <td>162</td>\n",
       "      <td>...</td>\n",
       "      <td>133</td>\n",
       "      <td>202</td>\n",
       "      <td>144</td>\n",
       "      <td>235</td>\n",
       "      <td>239</td>\n",
       "      <td>132</td>\n",
       "      <td>45</td>\n",
       "      <td>171</td>\n",
       "      <td>113</td>\n",
       "      <td>33</td>\n",
       "    </tr>\n",
       "    <tr>\n",
       "      <th>3</th>\n",
       "      <td>95</td>\n",
       "      <td>72</td>\n",
       "      <td>231</td>\n",
       "      <td>143</td>\n",
       "      <td>38</td>\n",
       "      <td>82</td>\n",
       "      <td>107</td>\n",
       "      <td>80</td>\n",
       "      <td>229</td>\n",
       "      <td>202</td>\n",
       "      <td>...</td>\n",
       "      <td>173</td>\n",
       "      <td>232</td>\n",
       "      <td>146</td>\n",
       "      <td>106</td>\n",
       "      <td>235</td>\n",
       "      <td>128</td>\n",
       "      <td>47</td>\n",
       "      <td>183</td>\n",
       "      <td>113</td>\n",
       "      <td>117</td>\n",
       "    </tr>\n",
       "    <tr>\n",
       "      <th>4</th>\n",
       "      <td>38</td>\n",
       "      <td>150</td>\n",
       "      <td>117</td>\n",
       "      <td>234</td>\n",
       "      <td>124</td>\n",
       "      <td>243</td>\n",
       "      <td>250</td>\n",
       "      <td>216</td>\n",
       "      <td>143</td>\n",
       "      <td>25</td>\n",
       "      <td>...</td>\n",
       "      <td>78</td>\n",
       "      <td>245</td>\n",
       "      <td>30</td>\n",
       "      <td>92</td>\n",
       "      <td>171</td>\n",
       "      <td>255</td>\n",
       "      <td>151</td>\n",
       "      <td>143</td>\n",
       "      <td>125</td>\n",
       "      <td>183</td>\n",
       "    </tr>\n",
       "  </tbody>\n",
       "</table>\n",
       "<p>5 rows × 32 columns</p>\n",
       "</div>"
      ],
      "text/plain": [
       "    0    1    2    3    4    5    6    7    8    9   ...   22   23   24   25  \\\n",
       "0  159   88   71  175    6   18  238  112  165  194  ...   53  236  146  107   \n",
       "1  222   86  231  229   54    2  122   56   37  236  ...  133  206  242  233   \n",
       "2  215   66   71  165   38    2  107   48   45  162  ...  133  202  144  235   \n",
       "3   95   72  231  143   38   82  107   80  229  202  ...  173  232  146  106   \n",
       "4   38  150  117  234  124  243  250  216  143   25  ...   78  245   30   92   \n",
       "\n",
       "    26   27   28   29   30   31  \n",
       "0  234  128   47  183   57  212  \n",
       "1  175  132   39  183   53   81  \n",
       "2  239  132   45  171  113   33  \n",
       "3  235  128   47  183  113  117  \n",
       "4  171  255  151  143  125  183  \n",
       "\n",
       "[5 rows x 32 columns]"
      ]
     },
     "metadata": {},
     "output_type": "display_data"
    }
   ],
   "source": [
    "orb_dataframe = pd.DataFrame(orb.features)\n",
    "\n",
    "display(orb_dataframe.shape)\n",
    "display(orb_dataframe.head())"
   ]
  },
  {
   "cell_type": "code",
   "execution_count": null,
   "id": "cafcf9ba",
   "metadata": {},
   "outputs": [],
   "source": [
    "vocabulary = KMeans(1000, random_state=42, verbose=0)\n",
    "\n",
    "with Profile() as kmeans_fit:\n",
    "    vocabulary.fit(orb_dataframe)\n",
    "    "
   ]
  },
  {
   "cell_type": "code",
   "execution_count": 9,
   "id": "8cca019f",
   "metadata": {},
   "outputs": [
    {
     "name": "stdout",
     "output_type": "stream",
     "text": [
      "4351 s\n"
     ]
    }
   ],
   "source": [
    "print(round(kmeans_fit.duration), \"s\")"
   ]
  },
  {
   "cell_type": "code",
   "execution_count": 12,
   "id": "b2d63e5c",
   "metadata": {},
   "outputs": [
    {
     "data": {
      "text/plain": [
       "dtype('float64')"
      ]
     },
     "execution_count": 12,
     "metadata": {},
     "output_type": "execute_result"
    }
   ],
   "source": [
    "vocabulary.cluster_centers_.shape\n",
    "vocabulary.cluster_centers_.dtype"
   ]
  },
  {
   "cell_type": "code",
   "execution_count": null,
   "id": "0820df05",
   "metadata": {},
   "outputs": [],
   "source": [
    "vocabulary."
   ]
  }
 ],
 "metadata": {
  "kernelspec": {
   "display_name": "Python 3 (ipykernel)",
   "language": "python",
   "name": "python3"
  },
  "language_info": {
   "codemirror_mode": {
    "name": "ipython",
    "version": 3
   },
   "file_extension": ".py",
   "mimetype": "text/x-python",
   "name": "python",
   "nbconvert_exporter": "python",
   "pygments_lexer": "ipython3",
   "version": "3.9.15"
  },
  "vscode": {
   "interpreter": {
    "hash": "ad2bdc8ecc057115af97d19610ffacc2b4e99fae6737bb82f5d7fb13d2f2c186"
   }
  }
 },
 "nbformat": 4,
 "nbformat_minor": 5
}
