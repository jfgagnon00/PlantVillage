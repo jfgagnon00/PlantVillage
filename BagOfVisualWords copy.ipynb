{
 "cells": [
  {
   "cell_type": "code",
   "execution_count": 1,
   "id": "8b2a6876",
   "metadata": {},
   "outputs": [
    {
     "data": {
      "text/html": [
       "<style>\n",
       "    /* identifier les reponse aux questions */\n",
       "    .comment {\n",
       "        color:blue;\n",
       "    }\n",
       "    \n",
       "    /* utilitaire pour faire des colonnes */\n",
       "    .column {\n",
       "        float:left;\n",
       "        width:50%;\n",
       "    }\n",
       "</style>\n"
      ],
      "text/plain": [
       "<IPython.core.display.HTML object>"
      ]
     },
     "metadata": {},
     "output_type": "display_data"
    }
   ],
   "source": [
    "%%html\n",
    "<style>\n",
    "    /* identifier les reponse aux questions */\n",
    "    .comment {\n",
    "        color:blue;\n",
    "    }\n",
    "    \n",
    "    /* utilitaire pour faire des colonnes */\n",
    "    .column {\n",
    "        float:left;\n",
    "        width:50%;\n",
    "    }\n",
    "</style>"
   ]
  },
  {
   "cell_type": "markdown",
   "id": "70b8b245",
   "metadata": {},
   "source": [
    "# Dataset\n",
    "[Plant Village](https://data.mendeley.com/datasets/tywbtsjrjv/1)"
   ]
  },
  {
   "cell_type": "markdown",
   "id": "289d8312",
   "metadata": {},
   "source": [
    "## Description\n",
    "\n",
    "In this data-set, 39 different classes of plant leaf and background images are available. The data-set containing 61,486 images. We used six different augmentation techniques for increasing the data-set size. The techniques are image flipping, Gamma correction, noise injection, PCA color augmentation, rotation, and Scaling.\n",
    "\n",
    "The classes are: \n",
    "\n",
    "<br>\n",
    "\n",
    "<div class=\"column\">\n",
    "\n",
    "1. Apple_scab\n",
    "2. Apple_black_rot\n",
    "3. Apple_cedar_apple_rust\n",
    "4. Apple_healthy\n",
    "5. Background_without_leaves\n",
    "6. Blueberry_healthy\n",
    "7. Cherry_powdery_mildew\n",
    "8. Cherry_healthy\n",
    "9. Corn_gray_leaf_spot\n",
    "10. Corn_common_rust\n",
    "11. Corn_northern_leaf_blight\n",
    "12. Corn_healthy\n",
    "13. Grape_black_rot\n",
    "14. Grape_black_measles\n",
    "15. Grape_leaf_blight\n",
    "16. Grape_healthy\n",
    "17. Orange_haunglongbing\n",
    "18. Peach_bacterial_spot\n",
    "19. Peach_healthy\n",
    "20. Pepper_bacterial_spot\n",
    "\n",
    "</div>\n",
    "\n",
    "<div class=\"column\">\n",
    "    \n",
    "21. Pepper_healthy\n",
    "22. Potato_early_blight\n",
    "23. Potato_healthy\n",
    "24. Potato_late_blight\n",
    "25. Raspberry_healthy\n",
    "26. Soybean_healthy\n",
    "27. Squash_powdery_mildew\n",
    "28. Strawberry_healthy\n",
    "29. Strawberry_leaf_scorch\n",
    "30. Tomato_bacterial_spot\n",
    "31. Tomato_early_blight\n",
    "32. Tomato_healthy\n",
    "33. Tomato_late_blight\n",
    "34. Tomato_leaf_mold\n",
    "35. Tomato_septoria_leaf_spot\n",
    "36. Tomato_spider_mites_two-spotted_spider_mite\n",
    "37. Tomato_target_spot\n",
    "38. Tomato_mosaic_virus\n",
    "39. Tomato_yellow_leaf_curl_virus\n",
    "    \n",
    "</div>"
   ]
  },
  {
   "cell_type": "code",
   "execution_count": 1,
   "id": "4d914ec6",
   "metadata": {},
   "outputs": [],
   "source": [
    "%matplotlib inline\n",
    "\n",
    "#\n",
    "# import utilitaires\n",
    "#\n",
    "import cv2\n",
    "import numpy as np\n",
    "import pandas as pd\n",
    "import random\n",
    "import seaborn as sns\n",
    "\n",
    "from dataset_helpers import dataset_load_config, dataset_load\n",
    "from jupyter_helpers import display_html\n",
    "from matplotlib import pyplot as plt\n",
    "from sklearn.model_selection import train_test_split\n",
    "from tqdm.notebook import tqdm\n",
    "\n",
    "# make random deterministic\n",
    "random.seed(42)"
   ]
  },
  {
   "cell_type": "code",
   "execution_count": 2,
   "id": "aba53687",
   "metadata": {},
   "outputs": [],
   "source": [
    "#\n",
    "# retreive dataset PlantVillage\n",
    "# does necessary work to get final .csv\n",
    "# some preliminary cleanup is done\n",
    "#\n",
    "dataset_config = dataset_load_config(\"PlantVillage_Config.json\")\n",
    "if dataset_config is None:\n",
    "    display_html(f\"<b>Invalid dataset config</b>\")"
   ]
  },
  {
   "cell_type": "code",
   "execution_count": 5,
   "id": "60823c2a",
   "metadata": {},
   "outputs": [
    {
     "data": {
      "text/html": [
       "<b>Installing Dataset</b>"
      ],
      "text/plain": [
       "<IPython.core.display.HTML object>"
      ]
     },
     "metadata": {},
     "output_type": "display_data"
    },
    {
     "data": {
      "text/html": [
       "<b>Downloading</b> <i>https://tinyurl.com/22tas3na</i>"
      ],
      "text/plain": [
       "<IPython.core.display.HTML object>"
      ]
     },
     "metadata": {},
     "output_type": "display_data"
    },
    {
     "data": {
      "text/html": [
       "<b>Extracting</b> <i>dataset\\Plant_leaf_diseases_dataset_with_augmentation.zip</i>"
      ],
      "text/plain": [
       "<IPython.core.display.HTML object>"
      ]
     },
     "metadata": {},
     "output_type": "display_data"
    },
    {
     "data": {
      "text/html": [
       "<b>Cleaning</b>"
      ],
      "text/plain": [
       "<IPython.core.display.HTML object>"
      ]
     },
     "metadata": {},
     "output_type": "display_data"
    },
    {
     "data": {
      "text/html": [
       "<b>Dataset installed</b>"
      ],
      "text/plain": [
       "<IPython.core.display.HTML object>"
      ]
     },
     "metadata": {},
     "output_type": "display_data"
    },
    {
     "data": {
      "text/html": [
       "<b>Dataset preprocessing thumbnails</b>"
      ],
      "text/plain": [
       "<IPython.core.display.HTML object>"
      ]
     },
     "metadata": {},
     "output_type": "display_data"
    },
    {
     "data": {
      "application/vnd.jupyter.widget-view+json": {
       "model_id": "a8532e70bcb742658089140cdb47b5df",
       "version_major": 2,
       "version_minor": 0
      },
      "text/plain": [
       "  0%|          "
      ]
     },
     "metadata": {},
     "output_type": "display_data"
    },
    {
     "ename": "AttributeError",
     "evalue": "'str' object has no attribute 'name'",
     "output_type": "error",
     "traceback": [
      "\u001b[1;31m---------------------------------------------------------------------------\u001b[0m",
      "\u001b[1;31mAttributeError\u001b[0m                            Traceback (most recent call last)",
      "\u001b[1;32m~\\AppData\\Local\\Temp\\ipykernel_9980\\3384777459.py\u001b[0m in \u001b[0;36m<module>\u001b[1;34m\u001b[0m\n\u001b[1;32m----> 1\u001b[1;33m plantvillage = dataset_load(dataset_config.dataset, \n\u001b[0m\u001b[0;32m      2\u001b[0m                             \u001b[0mkeep_download\u001b[0m\u001b[1;33m=\u001b[0m\u001b[1;32mTrue\u001b[0m\u001b[1;33m,\u001b[0m\u001b[1;33m\u001b[0m\u001b[1;33m\u001b[0m\u001b[0m\n\u001b[0;32m      3\u001b[0m                             force_thumbnail_generation=True)\n\u001b[0;32m      4\u001b[0m \u001b[1;32mif\u001b[0m \u001b[0mplantvillage\u001b[0m \u001b[1;32mis\u001b[0m \u001b[1;32mNone\u001b[0m\u001b[1;33m:\u001b[0m\u001b[1;33m\u001b[0m\u001b[1;33m\u001b[0m\u001b[0m\n\u001b[0;32m      5\u001b[0m     \u001b[0mdisplay_html\u001b[0m\u001b[1;33m(\u001b[0m\u001b[1;34mf\"<b>Invalid dataset</b>\"\u001b[0m\u001b[1;33m)\u001b[0m\u001b[1;33m\u001b[0m\u001b[1;33m\u001b[0m\u001b[0m\n",
      "\u001b[1;32mc:\\Users\\jfgag\\Projects\\PlantVillage\\dataset_helpers.py\u001b[0m in \u001b[0;36mdataset_load\u001b[1;34m(dataset_config, **kwargs)\u001b[0m\n\u001b[0;32m    291\u001b[0m     \u001b[1;32mwith\u001b[0m \u001b[0mh5py\u001b[0m\u001b[1;33m.\u001b[0m\u001b[0mFile\u001b[0m\u001b[1;33m(\u001b[0m\u001b[0mdataset_config\u001b[0m\u001b[1;33m.\u001b[0m\u001b[0minstall_path\u001b[0m\u001b[1;33m,\u001b[0m \u001b[1;34m\"r+\"\u001b[0m\u001b[1;33m)\u001b[0m \u001b[1;32mas\u001b[0m \u001b[0mh5_file\u001b[0m\u001b[1;33m:\u001b[0m\u001b[1;33m\u001b[0m\u001b[1;33m\u001b[0m\u001b[0m\n\u001b[0;32m    292\u001b[0m         \u001b[0mdisplay_html\u001b[0m\u001b[1;33m(\u001b[0m\u001b[1;34m\"<b>Dataset preprocessing thumbnails</b>\"\u001b[0m\u001b[1;33m)\u001b[0m\u001b[1;33m\u001b[0m\u001b[1;33m\u001b[0m\u001b[0m\n\u001b[1;32m--> 293\u001b[1;33m         _preprocess_thumbnail(dataset_config,\n\u001b[0m\u001b[0;32m    294\u001b[0m                               \u001b[0mh5_file\u001b[0m\u001b[1;33m,\u001b[0m\u001b[1;33m\u001b[0m\u001b[1;33m\u001b[0m\u001b[0m\n\u001b[0;32m    295\u001b[0m                               **kwargs)\n",
      "\u001b[1;32mc:\\Users\\jfgag\\Projects\\PlantVillage\\dataset_helpers.py\u001b[0m in \u001b[0;36m_preprocess_thumbnail\u001b[1;34m(dataset_config, h5_file, force_thumbnail_generation, **kwargs)\u001b[0m\n\u001b[0;32m    225\u001b[0m                                          data=thumbnail)\n\u001b[0;32m    226\u001b[0m \u001b[1;33m\u001b[0m\u001b[0m\n\u001b[1;32m--> 227\u001b[1;33m     \u001b[0mh5_images\u001b[0m\u001b[1;33m.\u001b[0m\u001b[0mvisit\u001b[0m\u001b[1;33m(\u001b[0m\u001b[0mgenerate_thumbnail\u001b[0m\u001b[1;33m)\u001b[0m\u001b[1;33m\u001b[0m\u001b[1;33m\u001b[0m\u001b[0m\n\u001b[0m\u001b[0;32m    228\u001b[0m \u001b[1;33m\u001b[0m\u001b[0m\n\u001b[0;32m    229\u001b[0m \u001b[1;32mdef\u001b[0m \u001b[0mdataset_load_config\u001b[0m\u001b[1;33m(\u001b[0m\u001b[0mfilename\u001b[0m\u001b[1;33m)\u001b[0m\u001b[1;33m:\u001b[0m\u001b[1;33m\u001b[0m\u001b[1;33m\u001b[0m\u001b[0m\n",
      "\u001b[1;32mc:\\ProgramData\\Anaconda3\\lib\\site-packages\\h5py\\_hl\\group.py\u001b[0m in \u001b[0;36mvisit\u001b[1;34m(self, func)\u001b[0m\n\u001b[0;32m    603\u001b[0m                 \u001b[1;34m\"\"\" Call the function with the text name, not bytes \"\"\"\u001b[0m\u001b[1;33m\u001b[0m\u001b[1;33m\u001b[0m\u001b[0m\n\u001b[0;32m    604\u001b[0m                 \u001b[1;32mreturn\u001b[0m \u001b[0mfunc\u001b[0m\u001b[1;33m(\u001b[0m\u001b[0mself\u001b[0m\u001b[1;33m.\u001b[0m\u001b[0m_d\u001b[0m\u001b[1;33m(\u001b[0m\u001b[0mname\u001b[0m\u001b[1;33m)\u001b[0m\u001b[1;33m)\u001b[0m\u001b[1;33m\u001b[0m\u001b[1;33m\u001b[0m\u001b[0m\n\u001b[1;32m--> 605\u001b[1;33m             \u001b[1;32mreturn\u001b[0m \u001b[0mh5o\u001b[0m\u001b[1;33m.\u001b[0m\u001b[0mvisit\u001b[0m\u001b[1;33m(\u001b[0m\u001b[0mself\u001b[0m\u001b[1;33m.\u001b[0m\u001b[0mid\u001b[0m\u001b[1;33m,\u001b[0m \u001b[0mproxy\u001b[0m\u001b[1;33m)\u001b[0m\u001b[1;33m\u001b[0m\u001b[1;33m\u001b[0m\u001b[0m\n\u001b[0m\u001b[0;32m    606\u001b[0m \u001b[1;33m\u001b[0m\u001b[0m\n\u001b[0;32m    607\u001b[0m     \u001b[1;32mdef\u001b[0m \u001b[0mvisititems\u001b[0m\u001b[1;33m(\u001b[0m\u001b[0mself\u001b[0m\u001b[1;33m,\u001b[0m \u001b[0mfunc\u001b[0m\u001b[1;33m)\u001b[0m\u001b[1;33m:\u001b[0m\u001b[1;33m\u001b[0m\u001b[1;33m\u001b[0m\u001b[0m\n",
      "\u001b[1;32mh5py\\_objects.pyx\u001b[0m in \u001b[0;36mh5py._objects.with_phil.wrapper\u001b[1;34m()\u001b[0m\n",
      "\u001b[1;32mh5py\\_objects.pyx\u001b[0m in \u001b[0;36mh5py._objects.with_phil.wrapper\u001b[1;34m()\u001b[0m\n",
      "\u001b[1;32mh5py\\h5o.pyx\u001b[0m in \u001b[0;36mh5py.h5o.visit\u001b[1;34m()\u001b[0m\n",
      "\u001b[1;32mh5py\\h5o.pyx\u001b[0m in \u001b[0;36mh5py.h5o.cb_obj_simple\u001b[1;34m()\u001b[0m\n",
      "\u001b[1;32mc:\\ProgramData\\Anaconda3\\lib\\site-packages\\h5py\\_hl\\group.py\u001b[0m in \u001b[0;36mproxy\u001b[1;34m(name)\u001b[0m\n\u001b[0;32m    602\u001b[0m             \u001b[1;32mdef\u001b[0m \u001b[0mproxy\u001b[0m\u001b[1;33m(\u001b[0m\u001b[0mname\u001b[0m\u001b[1;33m)\u001b[0m\u001b[1;33m:\u001b[0m\u001b[1;33m\u001b[0m\u001b[1;33m\u001b[0m\u001b[0m\n\u001b[0;32m    603\u001b[0m                 \u001b[1;34m\"\"\" Call the function with the text name, not bytes \"\"\"\u001b[0m\u001b[1;33m\u001b[0m\u001b[1;33m\u001b[0m\u001b[0m\n\u001b[1;32m--> 604\u001b[1;33m                 \u001b[1;32mreturn\u001b[0m \u001b[0mfunc\u001b[0m\u001b[1;33m(\u001b[0m\u001b[0mself\u001b[0m\u001b[1;33m.\u001b[0m\u001b[0m_d\u001b[0m\u001b[1;33m(\u001b[0m\u001b[0mname\u001b[0m\u001b[1;33m)\u001b[0m\u001b[1;33m)\u001b[0m\u001b[1;33m\u001b[0m\u001b[1;33m\u001b[0m\u001b[0m\n\u001b[0m\u001b[0;32m    605\u001b[0m             \u001b[1;32mreturn\u001b[0m \u001b[0mh5o\u001b[0m\u001b[1;33m.\u001b[0m\u001b[0mvisit\u001b[0m\u001b[1;33m(\u001b[0m\u001b[0mself\u001b[0m\u001b[1;33m.\u001b[0m\u001b[0mid\u001b[0m\u001b[1;33m,\u001b[0m \u001b[0mproxy\u001b[0m\u001b[1;33m)\u001b[0m\u001b[1;33m\u001b[0m\u001b[1;33m\u001b[0m\u001b[0m\n\u001b[0;32m    606\u001b[0m \u001b[1;33m\u001b[0m\u001b[0m\n",
      "\u001b[1;32mc:\\Users\\jfgag\\Projects\\PlantVillage\\dataset_helpers.py\u001b[0m in \u001b[0;36mgenerate_thumbnail\u001b[1;34m(h5_node)\u001b[0m\n\u001b[0;32m    212\u001b[0m     \u001b[1;32mdef\u001b[0m \u001b[0mgenerate_thumbnail\u001b[0m\u001b[1;33m(\u001b[0m\u001b[0mh5_node\u001b[0m\u001b[1;33m)\u001b[0m\u001b[1;33m:\u001b[0m\u001b[1;33m\u001b[0m\u001b[1;33m\u001b[0m\u001b[0m\n\u001b[0;32m    213\u001b[0m         \u001b[1;31m# remove _IMAGES_KEY part from node name\u001b[0m\u001b[1;33m\u001b[0m\u001b[1;33m\u001b[0m\u001b[0m\n\u001b[1;32m--> 214\u001b[1;33m         \u001b[0mnode_name\u001b[0m \u001b[1;33m=\u001b[0m\u001b[0mthumbnail_name\u001b[0m \u001b[1;33m=\u001b[0m \u001b[0mh5_node\u001b[0m\u001b[1;33m.\u001b[0m\u001b[0mname\u001b[0m\u001b[1;33m.\u001b[0m\u001b[0msplit\u001b[0m\u001b[1;33m(\u001b[0m\u001b[1;34m\"/\"\u001b[0m\u001b[1;33m)\u001b[0m\u001b[1;33m[\u001b[0m\u001b[1;36m2\u001b[0m\u001b[1;33m:\u001b[0m\u001b[1;33m]\u001b[0m\u001b[1;33m\u001b[0m\u001b[1;33m\u001b[0m\u001b[0m\n\u001b[0m\u001b[0;32m    215\u001b[0m         \u001b[0mnode_name\u001b[0m \u001b[1;33m=\u001b[0m \u001b[1;34m\"/\"\u001b[0m\u001b[1;33m.\u001b[0m\u001b[0mjoin\u001b[0m\u001b[1;33m(\u001b[0m\u001b[0mnode_name\u001b[0m\u001b[1;33m)\u001b[0m\u001b[1;33m\u001b[0m\u001b[1;33m\u001b[0m\u001b[0m\n\u001b[0;32m    216\u001b[0m \u001b[1;33m\u001b[0m\u001b[0m\n",
      "\u001b[1;31mAttributeError\u001b[0m: 'str' object has no attribute 'name'"
     ]
    }
   ],
   "source": [
    "plantvillage = dataset_load(dataset_config.dataset, \n",
    "                            keep_download=True,\n",
    "                            force_thumbnail_generation=True)\n",
    "if plantvillage is None:\n",
    "    display_html(f\"<b>Invalid dataset</b>\")"
   ]
  },
  {
   "cell_type": "markdown",
   "id": "2ab1b6b9",
   "metadata": {},
   "source": [
    "# Exploration"
   ]
  },
  {
   "cell_type": "code",
   "execution_count": null,
   "id": "f1cb910d",
   "metadata": {
    "cell_style": "center"
   },
   "outputs": [],
   "source": [
    "display_html(f\"<b>{dataset_config.preprocess_path}</b> - data {plantvillage.shape}\")\n",
    "display(plantvillage.head(5))"
   ]
  },
  {
   "cell_type": "code",
   "execution_count": null,
   "id": "59c92436",
   "metadata": {
    "cell_style": "center"
   },
   "outputs": [],
   "source": [
    "display_html(f\"<b>{dataset_config.preprocess_path}</b> - info\")\n",
    "plantvillage.info()"
   ]
  },
  {
   "cell_type": "code",
   "execution_count": null,
   "id": "937b002a",
   "metadata": {},
   "outputs": [],
   "source": [
    "species = plantvillage[\"species\"].unique()\n",
    "species.sort()\n",
    "display_html(f\"<b>Modalites de 'species'</b> - count: {species.size}\")\n",
    "display(list(species))"
   ]
  },
  {
   "cell_type": "code",
   "execution_count": null,
   "id": "dedd24f7",
   "metadata": {},
   "outputs": [],
   "source": [
    "labels = plantvillage[\"label\"].unique()\n",
    "labels.sort()\n",
    "display_html(f\"<b>Modalites de 'label'</b> - count: {len(labels)}\")\n",
    "display(list(labels))"
   ]
  },
  {
   "cell_type": "markdown",
   "id": "c5287453",
   "metadata": {},
   "source": [
    "<font class=\"comment\">\n",
    "\n",
    "**Notes**\n",
    "* Background_without_leaves a ete intentionelment enleve\n",
    "* les labels semblent avoir evolues par rapport a la liste cite ci-haut"
   ]
  },
  {
   "cell_type": "code",
   "execution_count": null,
   "id": "70046781",
   "metadata": {},
   "outputs": [],
   "source": [
    "#\n",
    "# distribution de label\n",
    "#\n",
    "FIGSIZE = (10, 4)\n",
    "\n",
    "disease_count = plantvillage[\"label\"].value_counts()\n",
    "disease_count.sort_values(inplace=True, ascending=False)\n",
    "\n",
    "plt.figure(figsize=FIGSIZE)\n",
    "disease_count.plot.bar(title=\"Effectifs de 'label'\",\n",
    "                       ylabel=\"count\")\n",
    "plt.show()"
   ]
  },
  {
   "cell_type": "code",
   "execution_count": null,
   "id": "4576fe9c",
   "metadata": {},
   "outputs": [],
   "source": [
    "#\n",
    "# relation species/label\n",
    "#\n",
    "doi = plantvillage[[\"label\", \"species\"]]\n",
    "\n",
    "disease_samples_per_species = doi.groupby(\"species\").count()\n",
    "disease_samples_per_species.sort_values(\"label\", inplace=True, ascending=False)"
   ]
  },
  {
   "cell_type": "code",
   "execution_count": null,
   "id": "bde5542c",
   "metadata": {},
   "outputs": [],
   "source": [
    "healthy_crit = doi[\"label\"].str.contains(\"healthy\")\n",
    "\n",
    "healthy = doi[healthy_crit]\n",
    "healthy = healthy \\\n",
    "            .groupby(\"species\") \\\n",
    "            .count() \\\n",
    "            .rename(columns={\"label\": \"healthy\"})\n",
    "\n",
    "not_healthy = doi[ ~healthy_crit ]\n",
    "not_healthy = not_healthy \\\n",
    "                .groupby(\"species\") \\\n",
    "                .count() \\\n",
    "                .rename(columns={\"label\": \"autres\"})\n",
    "\n",
    "healthy_vs_other_per_species = pd.merge(healthy, \n",
    "                                        not_healthy,\n",
    "                                        how=\"outer\",\n",
    "                                        on=\"species\")\n",
    "\n",
    "# for ease of comparison, keep same order \n",
    "# as disease_samples_per_species\n",
    "healthy_vs_other_per_species = healthy_vs_other_per_species \\\n",
    "                                   .reindex(disease_samples_per_species \\\n",
    "                                                .index.to_list())"
   ]
  },
  {
   "cell_type": "code",
   "execution_count": null,
   "id": "bcc89424",
   "metadata": {},
   "outputs": [],
   "source": [
    "fig = plt.figure(figsize=FIGSIZE)\n",
    "fig.suptitle(\"Effectifs de 'label' par espece de plante\")\n",
    "\n",
    "# plt.subplot(121)\n",
    "# disease_samples_per_species.plot.bar(ax=plt.gca(),\n",
    "#                                      xlabel=\"\",\n",
    "#                                      ylabel=\"count\",\n",
    "#                                      legend=False)\n",
    "\n",
    "plt.subplot(121)\n",
    "healthy_vs_other_per_species.plot.bar(ax=plt.gca(),\n",
    "                                      stacked=True, \n",
    "                                      xlabel=\"\",\n",
    "                                      ylabel=\"count\")\n",
    "plt.title(\"'healthy' vs autres\", y=1.025)\n",
    "\n",
    "plt.subplot(122)\n",
    "_, _, pcts = plt.pie(x=disease_samples_per_species.values.flatten(),\n",
    "                     labels=disease_samples_per_species.index.values,\n",
    "                     autopct='%.0f%%',\n",
    "                     radius=1.25,\n",
    "                     wedgeprops={'linewidth': 1.0, \n",
    "                                 'edgecolor': 'white'})\n",
    "plt.title(\"Toute maladies confondues\", y=1.025)\n",
    "plt.setp(pcts, color='white')\n",
    "\n",
    "plt.tight_layout()\n",
    "plt.show()"
   ]
  },
  {
   "cell_type": "code",
   "execution_count": null,
   "id": "ba4c2aa2",
   "metadata": {},
   "outputs": [],
   "source": [
    "def load_image(filename):\n",
    "    image = cv2.imread(filename)\n",
    "    return cv2.cvtColor(image, cv2.COLOR_BGR2RGB)"
   ]
  },
  {
   "cell_type": "code",
   "execution_count": null,
   "id": "52c5dfe6",
   "metadata": {},
   "outputs": [],
   "source": [
    "#\n",
    "# visualize some images\n",
    "#\n",
    "SAMPLEs_GRID = (2, 7)\n",
    "\n",
    "# select some random samples\n",
    "sample_indices = random.sample(range(plantvillage.shape[0]), SAMPLEs_GRID[0] * SAMPLEs_GRID[1])\n",
    "sample_indices.sort() \n",
    "\n",
    "samples = plantvillage.loc[sample_indices].copy()\n",
    "samples[\"thumbnail\"] = samples[\"thumbnail_path\"].apply(load_image)\n",
    "\n",
    "fig = plt.figure(figsize=FIGSIZE)\n",
    "fig.suptitle(\"Echantillons maladies\")\n",
    "\n",
    "for i, (_, sample) in enumerate(samples.iterrows()):\n",
    "    plt.subplot(SAMPLEs_GRID[0], SAMPLEs_GRID[1], i + 1)\n",
    "    plt.axis(\"off\")\n",
    "    \n",
    "    # adjust title: some disease have very long name\n",
    "    species = sample['species']\n",
    "    disease = sample['disease'].replace(species, \"\")\n",
    "    disease = disease.split(\"_\") \n",
    "    count = len(disease) \n",
    "    if count > 2:\n",
    "        count //= 2\n",
    "        disease0 = \" \".join(disease[:count])\n",
    "        disease1 = \" \".join(disease[count:])\n",
    "        disease = f\"{disease0}\\n{disease1}\"\n",
    "    else:\n",
    "        disease = \" \".join(disease)\n",
    "    \n",
    "    plt.title(f\"{species}\\n{disease}\")    \n",
    "    plt.imshow(sample[\"thumbnail\"])\n",
    "    plt.gca().title.set_size(10)\n",
    "\n",
    "plt.tight_layout()\n",
    "fig.subplots_adjust(hspace=0.5, top=0.8)\n",
    "plt.show()"
   ]
  },
  {
   "cell_type": "markdown",
   "id": "05b7d038",
   "metadata": {},
   "source": [
    "# Modelisation\n",
    "\n",
    "Mettre un peu de bla bla pour justifier ce qu'on fait, citer les papiers et tout\n",
    "\n",
    "**TODO**\n",
    "* Train/test split\n",
    "* Pipeline de traitement - Bag of Visual Words\n",
    "    * Rescale en 256x256?\n",
    "    * Remapper 0/1 et float\n",
    "    * Threshold background/foreground    \n",
    "    * Slicer les images\n",
    "    * Detecter les features via SIFT/ORB\n",
    "    * Passer dans un KMean\n",
    "    * Mettre le tout dans notre dictionnaire\n",
    "\n",
    "* Passer test data dans pipeline\n",
    "    * Sparse vector pour une image non connue\n",
    "    * Identifier avec K Nearest Neighboor"
   ]
  },
  {
   "cell_type": "code",
   "execution_count": null,
   "id": "db81c486",
   "metadata": {},
   "outputs": [],
   "source": [
    "#\n",
    "# split train/test\n",
    "#\n",
    "train, test = train_test_split(plantvillage, \n",
    "                               train_size=0.8, \n",
    "                               random_state=42, \n",
    "                               stratify=plantvillage[\"label\"])"
   ]
  },
  {
   "cell_type": "code",
   "execution_count": null,
   "id": "acbe74a3",
   "metadata": {},
   "outputs": [],
   "source": [
    "# validation split size\n",
    "display_html(f\"<b>Dataset:</b> <font style='color:red;'>{plantvillage.size}</font>, \"\n",
    "             f\"<b>Train:</b> <font style='color:red;'>{train.size}</font>, \"\n",
    "             f\"<b>Test:</b> <font style='color:red;'>{test.size}</font> \"\n",
    "              \"- 80% / 20% split\")"
   ]
  },
  {
   "cell_type": "code",
   "execution_count": null,
   "id": "8a959a2e",
   "metadata": {},
   "outputs": [],
   "source": [
    "# validation split distribution\n",
    "size = plantvillage.shape[0]\n",
    "frequencies = pd.DataFrame({\"dataset\": disease_count / size,\n",
    "                            \"train\": train[\"label\"].value_counts() / size,\n",
    "                            \"test\": test[\"label\"].value_counts() / size})\n",
    "frequencies = frequencies.reindex(index=disease_count.index.to_list())\n",
    "\n",
    "plt.figure(figsize=FIGSIZE)\n",
    "frequencies.plot.bar(ax=plt.gca(),\n",
    "                     stacked=True,\n",
    "                     title=\"Distribution 'label' dataset vs train vs test\\n\"\n",
    "                           \"(couleurs meme taille dans chaque bar est mieux)\",\n",
    "                     ylabel=\"%\")\n",
    "plt.show()"
   ]
  },
  {
   "cell_type": "code",
   "execution_count": null,
   "id": "b3f19fc8",
   "metadata": {},
   "outputs": [],
   "source": [
    "#\n",
    "# construire les features\n",
    "#\n",
    "desc_factory = cv2.ORB_create()\n",
    "feature_list = np.empty((0, 32), dtype=np.uint8)\n",
    "\n",
    "progress = tqdm(iterable=plantvillage.iterrows(),\n",
    "                total=plantvillage.shape[0],\n",
    "                bar_format=\"{l_bar}{bar}{postfix}\")\n",
    "\n",
    "for index, row in progress:\n",
    "    image_path = row[\"image_path\"]\n",
    "    progress.set_postfix_str(image_path)\n",
    "    \n",
    "    image = load_image(image_path)\n",
    "\n",
    "    # tiling irait ici\n",
    "    # detection backgroud irait ici\n",
    "    _, descs = desc_factory.detectAndCompute(image, None)\n",
    "    if descs is None:\n",
    "        continue\n",
    "    \n",
    "    feature_list = np.append(feature_list, descs, axis=0)\n",
    "    \n",
    "    del image\n",
    "    \n",
    "#     if index > 100:\n",
    "#         break\n",
    "\n",
    "with open('descs.pkl', 'wb') as f:\n",
    "    pickle.dump(list(feature_list), f)\n",
    "    \n",
    "# save the data to hdf5\n",
    "print(plantvillage.shape[0])\n",
    "print(feature_list.shape)"
   ]
  },
  {
   "cell_type": "markdown",
   "id": "dfc313f3",
   "metadata": {},
   "source": [
    "# Evaluation\n",
    "\n",
    "* Entrainement avec les stats"
   ]
  },
  {
   "cell_type": "code",
   "execution_count": null,
   "id": "9944ae5d",
   "metadata": {},
   "outputs": [],
   "source": []
  },
  {
   "cell_type": "code",
   "execution_count": null,
   "id": "08c23688",
   "metadata": {},
   "outputs": [],
   "source": []
  }
 ],
 "metadata": {
  "kernelspec": {
   "display_name": "Python 3 (ipykernel)",
   "language": "python",
   "name": "python3"
  },
  "language_info": {
   "codemirror_mode": {
    "name": "ipython",
    "version": 3
   },
   "file_extension": ".py",
   "mimetype": "text/x-python",
   "name": "python",
   "nbconvert_exporter": "python",
   "pygments_lexer": "ipython3",
   "version": "3.9.15"
  },
  "vscode": {
   "interpreter": {
    "hash": "ad2bdc8ecc057115af97d19610ffacc2b4e99fae6737bb82f5d7fb13d2f2c186"
   }
  }
 },
 "nbformat": 4,
 "nbformat_minor": 5
}
