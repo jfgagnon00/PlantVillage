{
 "cells": [
  {
   "cell_type": "code",
   "execution_count": 4,
   "id": "4d914ec6",
   "metadata": {
    "ExecuteTime": {
     "end_time": "2023-04-22T13:29:58.680461Z",
     "start_time": "2023-04-22T13:29:58.667276Z"
    }
   },
   "outputs": [],
   "source": [
    "%matplotlib inline\n",
    "\n",
    "#\n",
    "# import utilitaires\n",
    "#\n",
    "import matplotlib.pyplot as plt\n",
    "\n",
    "import helpers as hlp\n",
    "import helpers.features as feat\n",
    "import helpers.dataset.PlantVillage as pv\n",
    "import helpers.split as split\n",
    "import helpers.visual_words as vw\n",
    "\n",
    "from sklearn.ensemble import RandomForestClassifier\n",
    "from sklearn.neighbors import KNeighborsClassifier"
   ]
  },
  {
   "cell_type": "code",
   "execution_count": 5,
   "id": "1a0362b9",
   "metadata": {
    "ExecuteTime": {
     "end_time": "2023-04-22T13:29:59.692666Z",
     "start_time": "2023-04-22T13:29:59.044943Z"
    }
   },
   "outputs": [
    {
     "name": "stdout",
     "output_type": "stream",
     "text": [
      "Dataset (60343, 5)\n",
      "\n",
      "Train size: 3711\n",
      "Test size: 928\n",
      "\n",
      "ORB BoVW clusters: (500, 32)\n",
      "ORB PlantVillage Visual Words: (3711, 500)\n",
      "\n",
      "Sift BoVW clusters: (500, 128)\n",
      "Sift PlantVillage Visual Words: (3711, 500)\n"
     ]
    }
   ],
   "source": [
    "#\n",
    "# parametres\n",
    "#\n",
    "configs = hlp.get_configs(\"config_overrides.json\")\n",
    "\n",
    "\n",
    "#\n",
    "# dataset PlantVillage\n",
    "#\n",
    "pv_dataset = pv.load(configs.plant_village)\n",
    "pv_dataframe = pv_dataset.dataframe\n",
    "\n",
    "print(\"Dataset\", pv_dataframe.shape)\n",
    "print()\n",
    "\n",
    "\n",
    "#\n",
    "# train/test\n",
    "#\n",
    "train, test = split.load(configs.split)\n",
    "\n",
    "print(\"Train size:\", len(train))\n",
    "print(\"Test size:\", len(test))\n",
    "print()\n",
    "\n",
    "\n",
    "#\n",
    "# orb\n",
    "#\n",
    "orb_bovw = vw.load_bovw(configs.orb_bovw, None)\n",
    "orb_pv_vw = vw.load_dataset_vw(configs.orb_dataset_vw, \\\n",
    "                               None, \\\n",
    "                               None, \\\n",
    "                               None)\n",
    "    \n",
    "print(\"ORB BoVW clusters:\", orb_bovw.model.cluster_centers_.shape)\n",
    "print(\"ORB PlantVillage Visual Words:\", orb_pv_vw.h5_vw_freqs.shape)\n",
    "print()\n",
    "\n",
    "\n",
    "#\n",
    "# sift\n",
    "#\n",
    "sift_bovw = vw.load_bovw(configs.sift_bovw, None)\n",
    "sift_pv_vw = vw.load_dataset_vw(configs.sift_dataset_vw, \\\n",
    "                                None, \\\n",
    "                                None, \\\n",
    "                                None)\n",
    "\n",
    "print(\"Sift BoVW clusters:\", sift_bovw.model.cluster_centers_.shape)\n",
    "print(\"Sift PlantVillage Visual Words:\", sift_pv_vw.h5_vw_freqs.shape)"
   ]
  },
  {
   "cell_type": "code",
   "execution_count": 16,
   "id": "c65da859",
   "metadata": {
    "ExecuteTime": {
     "end_time": "2023-04-22T13:40:27.466621Z",
     "start_time": "2023-04-22T13:40:27.450311Z"
    }
   },
   "outputs": [],
   "source": [
    "#\n",
    "# mettre le data dans une forme acceptable pour sklear\n",
    "#\n",
    "y = pv_dataframe.loc[train, \"label\"]\n",
    "\n",
    "words = sift_pv_vw.h5_index_to_vw_freqs.keys()\n",
    "\n",
    "# display( sift_pv_vw.h5_file.keys() )"
   ]
  },
  {
   "cell_type": "code",
   "execution_count": null,
   "id": "f70a425c",
   "metadata": {},
   "outputs": [],
   "source": [
    "#\n",
    "# entrainer KNN\n",
    "#\n",
    "# on veut cross validation pour determiner le meilleur K et la meilleur accuracy\n",
    "# knn_classifier = KNeighborsClassifier(n_neighbors=5)"
   ]
  }
 ],
 "metadata": {
  "hide_input": false,
  "kernelspec": {
   "display_name": "Python 3 (ipykernel)",
   "language": "python",
   "name": "python3"
  },
  "language_info": {
   "codemirror_mode": {
    "name": "ipython",
    "version": 3
   },
   "file_extension": ".py",
   "mimetype": "text/x-python",
   "name": "python",
   "nbconvert_exporter": "python",
   "pygments_lexer": "ipython3",
   "version": "3.9.15"
  },
  "vscode": {
   "interpreter": {
    "hash": "ad2bdc8ecc057115af97d19610ffacc2b4e99fae6737bb82f5d7fb13d2f2c186"
   }
  }
 },
 "nbformat": 4,
 "nbformat_minor": 5
}
