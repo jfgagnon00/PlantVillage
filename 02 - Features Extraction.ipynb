{
 "cells": [
  {
   "cell_type": "code",
   "execution_count": null,
   "id": "4d914ec6",
   "metadata": {},
   "outputs": [],
   "source": [
    "%matplotlib inline\n",
    "\n",
    "#\n",
    "# import utilitaires\n",
    "#\n",
    "import matplotlib.pyplot as plt\n",
    "import numpy as np\n",
    "import os\n",
    "import pandas as pd\n",
    "import random\n",
    "\n",
    "import helpers as hlp\n",
    "import helpers.dataset.PlantVillage as pv\n",
    "import helpers.features as feat"
   ]
  },
  {
   "cell_type": "code",
   "execution_count": null,
   "id": "aba53687",
   "metadata": {},
   "outputs": [],
   "source": [
    "#\n",
    "# parametres dataset PlantVillage\n",
    "#\n",
    "config_overrides = hlp.MetaObject.from_json(\"config_overrides.json\")\n",
    "executor = hlp.create_thread_pool_executor(max_workers=None)\n",
    "\n",
    "pv_config = pv.Config(executor)\n",
    "if not config_overrides is None:\n",
    "    hlp.MetaObject.override_from_object(pv_config, \n",
    "                                        config_overrides.dataset)\n",
    "\n",
    "print(\"pv_config\")\n",
    "display(vars(pv_config))"
   ]
  },
  {
   "cell_type": "code",
   "execution_count": null,
   "id": "93d29342",
   "metadata": {},
   "outputs": [],
   "source": [
    "#\n",
    "# obtenir le dataset PlantVillage\n",
    "#\n",
    "if False:\n",
    "    %prun pv_dataset = pv.load(pv_config)\n",
    "else:\n",
    "    pv_dataset = pv.load(pv_config)\n",
    "    \n",
    "if pv_dataset is None:\n",
    "    print(\"Invalid dataset\")\n",
    "else:\n",
    "    pv_dataframe = pv_dataset.dataframe\n",
    "\n",
    "print(\"PlantVillage\", pv_dataframe.shape)\n",
    "display( pv_dataframe.head() )"
   ]
  },
  {
   "cell_type": "code",
   "execution_count": null,
   "id": "529cc153",
   "metadata": {},
   "outputs": [],
   "source": [
    "#\n",
    "# parametres pour features\n",
    "#\n",
    "features_config = feat.OrbFeaturesConfig(executor)\n",
    "if not config_overrides is None:\n",
    "    hlp.MetaObject.override_from_object(features_config, \n",
    "                                        config_overrides.orb_features)\n",
    "\n",
    "print(\"features_config\")\n",
    "display(vars(features_config))\n",
    "\n",
    "#\n",
    "# obtenir les features pour chaque image\n",
    "#\n",
    "orb_iter = feat.DatasetIter(pv_dataset, \n",
    "                            pv_dataframe[\"image_path\"].iteritems(),\n",
    "                            pv_dataframe.shape[0])\n",
    "\n",
    "if \"features_orb\" in locals():\n",
    "    del features_orb\n",
    "\n",
    "if False:\n",
    "    %prun features_orb = feat.load(features_config, orb_iter)\n",
    "else:\n",
    "    features_orb = feat.load(features_config, orb_iter)\n",
    "\n",
    "print(\"ORB features\", features_orb.features.shape)\n",
    "print(\"ORB keypoints\", features_orb.key_points.shape)"
   ]
  },
  {
   "cell_type": "code",
   "execution_count": null,
   "id": "4d2f2787",
   "metadata": {},
   "outputs": [],
   "source": [
    "index_start = random.randint(0, pv_dataframe.shape[0])\n",
    "index_count = 3 * 4\n",
    "\n",
    "indices = slice(index_start, index_start + index_count - 1)\n",
    "\n",
    "orb_iter = feat.DatasetIter(pv_dataset, \n",
    "                            pv_dataframe.loc[indices, \"image_path\"].iteritems())\n",
    "\n",
    "num_rows = int(index_count / 3 + 0.5)\n",
    "_, axes = plt.subplots(num_rows, 3, figsize=(12, num_rows * 4))\n",
    "for ax, \\\n",
    "   (image_index, \\\n",
    "    image_path, \\\n",
    "    key_points_count, \\\n",
    "    key_points_image) in zip(axes.flatten(), feat.key_points_iter(features_orb, orb_iter)):\n",
    "    plt.sca(ax)\n",
    "    \n",
    "    head, tail = os.path.split(image_path)\n",
    "    _, head = os.path.split(head)\n",
    "    \n",
    "    plt.title(head + \"\\n\" + tail + \"\\n\" + str(key_points_count))\n",
    "    plt.imshow(key_points_image)\n",
    "\n",
    "plt.suptitle(\"ORB\")\n",
    "plt.tight_layout()\n",
    "plt.show()"
   ]
  },
  {
   "cell_type": "code",
   "execution_count": null,
   "id": "38c60e05",
   "metadata": {},
   "outputs": [],
   "source": [
    "#\n",
    "# reduire la quantity de features avec KMeans \n",
    "#"
   ]
  },
  {
   "cell_type": "code",
   "execution_count": null,
   "id": "db81c486",
   "metadata": {},
   "outputs": [],
   "source": [
    "# #\n",
    "# # split train/test\n",
    "# #\n",
    "# train, test = train_test_split(pv_dataframe, \n",
    "#                                train_size=0.8, \n",
    "#                                random_state=42, \n",
    "#                                stratify=pv_dataframe[\"label\"])\n",
    "\n",
    "# print(train.shape)\n",
    "# print(test.shape)"
   ]
  }
 ],
 "metadata": {
  "kernelspec": {
   "display_name": "Python 3 (ipykernel)",
   "language": "python",
   "name": "python3"
  },
  "language_info": {
   "codemirror_mode": {
    "name": "ipython",
    "version": 3
   },
   "file_extension": ".py",
   "mimetype": "text/x-python",
   "name": "python",
   "nbconvert_exporter": "python",
   "pygments_lexer": "ipython3",
   "version": "3.9.15"
  },
  "vscode": {
   "interpreter": {
    "hash": "ad2bdc8ecc057115af97d19610ffacc2b4e99fae6737bb82f5d7fb13d2f2c186"
   }
  }
 },
 "nbformat": 4,
 "nbformat_minor": 5
}
