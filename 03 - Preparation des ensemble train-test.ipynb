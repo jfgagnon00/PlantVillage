{
 "cells": [
  {
   "cell_type": "code",
   "execution_count": 19,
   "id": "be0f1cb5",
   "metadata": {},
   "outputs": [
    {
     "data": {
      "text/html": [
       "\n",
       "<style>    \n",
       "    @import url(\"css/custom_styles.css\")\n",
       "</style>\n"
      ],
      "text/plain": [
       "<IPython.core.display.HTML object>"
      ]
     },
     "metadata": {},
     "output_type": "display_data"
    }
   ],
   "source": [
    "%%html\n",
    "\n",
    "<style>    \n",
    "    @import url(\"css/custom_styles.css\")\n",
    "</style>"
   ]
  },
  {
   "cell_type": "code",
   "execution_count": 70,
   "id": "4d914ec6",
   "metadata": {},
   "outputs": [],
   "source": [
    "from sklearn.model_selection import train_test_split\n",
    "from sklearn.ensemble import RandomForestClassifier\n",
    "%matplotlib inline\n",
    "\n",
    "#\n",
    "# import utilitaires\n",
    "#\n",
    "import matplotlib.pyplot as plt\n",
    "import numpy as np\n",
    "import pandas as pd\n",
    "\n",
    "import helpers as hlp\n",
    "import helpers.dataset.PlantVillage as pv\n",
    "import helpers.features as feat"
   ]
  },
  {
   "cell_type": "code",
   "execution_count": 21,
   "id": "844c2646",
   "metadata": {},
   "outputs": [
    {
     "name": "stdout",
     "output_type": "stream",
     "text": [
      "pv_config\n"
     ]
    },
    {
     "data": {
      "text/plain": [
       "{'url': 'https://tinyurl.com/22tas3na',\n",
       " 'install_path': 'dataset/PlantVillage.hd5',\n",
       " 'species_disease_re': '(.*)(?:___)(.*)',\n",
       " 'species_re': '(.*)(?:,_|_)(.*)',\n",
       " 'label_separator': '_',\n",
       " 'thumbnail_scale': 0.25,\n",
       " 'force_download': False,\n",
       " 'read_only': True,\n",
       " 'executor': <concurrent.futures.thread.ThreadPoolExecutor at 0x1df4db38400>,\n",
       " 'force_install': False}"
      ]
     },
     "metadata": {},
     "output_type": "display_data"
    },
    {
     "name": "stdout",
     "output_type": "stream",
     "text": [
      "Loading dataset: 0.6s\n",
      "PlantVillage (60343, 5)\n"
     ]
    }
   ],
   "source": [
    "#\n",
    "# parametres dataset PlantVillage\n",
    "#\n",
    "config_overrides = hlp.MetaObject.from_json(\"config_overrides.json\")\n",
    "executor = hlp.create_thread_pool_executor(max_workers=None)\n",
    "\n",
    "pv_config = pv.Config(executor)\n",
    "if not config_overrides is None:\n",
    "    hlp.MetaObject.override_from_object(pv_config, \n",
    "                                        config_overrides.dataset)\n",
    "\n",
    "print(\"pv_config\")\n",
    "display(vars(pv_config))\n",
    "\n",
    "#\n",
    "# obtenir le dataset PlantVillage\n",
    "#\n",
    "with hlp.Profile() as pv_loading:\n",
    "    pv_dataset = pv.load(pv_config)\n",
    "\n",
    "    if pv_dataset is None:\n",
    "        print(\"Invalid dataset\")\n",
    "    else:\n",
    "        pv_dataframe = pv_dataset.dataframe\n",
    "\n",
    "print(f\"Loading dataset: {round(pv_loading.duration, 2)}s\")\n",
    "print(\"PlantVillage\", pv_dataframe.shape)"
   ]
  },
  {
   "cell_type": "code",
   "execution_count": 22,
   "id": "428cf0a0",
   "metadata": {},
   "outputs": [],
   "source": [
    "df = pv_dataset.dataframe[[\"label\", \"species\"]]"
   ]
  },
  {
   "cell_type": "code",
   "execution_count": 18,
   "id": "8be19764",
   "metadata": {},
   "outputs": [],
   "source": [
    "nbLabel = df.groupby(\"label\").count()\n",
    "#print(nbLabel)"
   ]
  },
  {
   "cell_type": "code",
   "execution_count": 23,
   "id": "60d89d4c",
   "metadata": {},
   "outputs": [
    {
     "name": "stdout",
     "output_type": "stream",
     "text": [
      "              label\n",
      "species            \n",
      "Apple          4645\n",
      "Blueberry      1502\n",
      "Cherry         2052\n",
      "Corn           4354\n",
      "Grape          4639\n",
      "Orange         5507\n",
      "Peach          3297\n",
      "Pepper,_bell   2478\n",
      "Potato         3000\n",
      "Raspberry      1000\n",
      "Soybean        5090\n",
      "Squash         1835\n",
      "Strawberry     2109\n",
      "Tomato        18835\n"
     ]
    }
   ],
   "source": [
    "nbEspece = df.groupby(\"species\").count()\n",
    "print(nbEspece)"
   ]
  },
  {
   "cell_type": "code",
   "execution_count": 54,
   "id": "a6ad1db7",
   "metadata": {},
   "outputs": [
    {
     "name": "stdout",
     "output_type": "stream",
     "text": [
      "Healthy:\n",
      "               label\n",
      "species            \n",
      "Apple          1645\n",
      "Blueberry      1502\n",
      "Cherry         1000\n",
      "Corn           1162\n",
      "Grape          1000\n",
      "Peach          1000\n",
      "Pepper,_bell   1478\n",
      "Potato         1000\n",
      "Raspberry      1000\n",
      "Soybean        5090\n",
      "Strawberry     1000\n",
      "Tomato         1591\n",
      "Not healthy:\n",
      "               label\n",
      "species            \n",
      "Apple          3000\n",
      "Cherry         1052\n",
      "Corn           3192\n",
      "Grape          3639\n",
      "Orange         5507\n",
      "Peach          2297\n",
      "Pepper,_bell   1000\n",
      "Potato         2000\n",
      "Squash         1835\n",
      "Strawberry     1109\n",
      "Tomato        17244\n"
     ]
    }
   ],
   "source": [
    "healthy_crit = df[\"label\"].str.contains(\"healthy\")\n",
    "healthy = df[healthy_crit]\n",
    "healthy = healthy.groupby(\"species\").count()\n",
    "\n",
    "not_healthy = df[~healthy_crit]\n",
    "not_healthy = not_healthy.groupby(\"species\").count()\n",
    "print('Healthy:\\n',healthy)\n",
    "print('Not healthy:\\n',not_healthy)"
   ]
  },
  {
   "attachments": {},
   "cell_type": "markdown",
   "id": "41f49561",
   "metadata": {},
   "source": [
    "On enlève donc Blueberry, Soybean, Rasberry, Squash et Orange parce qu'ils ne sont pas représenté dans les deux catégories (healthy et not healthy)."
   ]
  },
  {
   "cell_type": "code",
   "execution_count": 76,
   "id": "cf19535f",
   "metadata": {},
   "outputs": [
    {
     "name": "stdout",
     "output_type": "stream",
     "text": [
      "              disease  label  image_path  thumbnail_path\n",
      "species                                                 \n",
      "Apple            4645   4645        4645            4645\n",
      "Cherry           2052   2052        2052            2052\n",
      "Corn             4354   4354        4354            4354\n",
      "Grape            4639   4639        4639            4639\n",
      "Peach            3297   3297        3297            3297\n",
      "Pepper,_bell     2478   2478        2478            2478\n",
      "Potato           3000   3000        3000            3000\n",
      "Strawberry       2109   2109        2109            2109\n",
      "Tomato          18835  18835       18835           18835\n"
     ]
    }
   ],
   "source": [
    "df1 = pv_dataset.dataframe\n",
    "\n",
    "searchfor = [\"Apple\", \"Cherry\", \"Corn\", \"Grape\", \"Peach\", \"Pepper,_bell\", \"Potato\", \"Strawberry\", \"Tomato\"]\n",
    "group_sel = df1[df1[\"label\"].str.contains('|'.join(searchfor))]\n",
    "# in \n",
    "t = group_sel.groupby(\"species\").count()\n",
    "\n",
    "print(t)"
   ]
  },
  {
   "cell_type": "code",
   "execution_count": 55,
   "metadata": {},
   "outputs": [
    {
     "name": "stdout",
     "output_type": "stream",
     "text": [
      "Tomato_Yellow_Leaf_Curl_Virus                  5357\n",
      "Tomato_Bacterial_spot                          2127\n",
      "Tomato_Late_blight                             1909\n",
      "Tomato_Septoria_leaf_spot                      1771\n",
      "Tomato_Spider_mites Two-spotted_spider_mite    1676\n",
      "Tomato_healthy                                 1591\n",
      "Tomato_Target_Spot                             1404\n",
      "Tomato_Early_blight                            1000\n",
      "Tomato_Leaf_Mold                               1000\n",
      "Tomato_mosaic_virus                            1000\n",
      "Name: label, dtype: int64\n"
     ]
    }
   ],
   "source": [
    "tomato_crit = df[\"label\"].str.contains(\"Tomato\")\n",
    "tomato = df[tomato_crit]\n",
    "\n",
    "tomato_count = tomato[\"label\"].value_counts()\n",
    "tomato_count.sort_values\n",
    "\n",
    "print(tomato_count)\n"
   ]
  },
  {
   "cell_type": "code",
   "execution_count": 69,
   "id": "a91f7746",
   "metadata": {},
   "outputs": [
    {
     "data": {
      "text/html": [
       "<div>\n",
       "<style scoped>\n",
       "    .dataframe tbody tr th:only-of-type {\n",
       "        vertical-align: middle;\n",
       "    }\n",
       "\n",
       "    .dataframe tbody tr th {\n",
       "        vertical-align: top;\n",
       "    }\n",
       "\n",
       "    .dataframe thead th {\n",
       "        text-align: right;\n",
       "    }\n",
       "</style>\n",
       "<table border=\"1\" class=\"dataframe\">\n",
       "  <thead>\n",
       "    <tr style=\"text-align: right;\">\n",
       "      <th></th>\n",
       "      <th>species</th>\n",
       "      <th>disease</th>\n",
       "      <th>label</th>\n",
       "      <th>image_path</th>\n",
       "      <th>thumbnail_path</th>\n",
       "    </tr>\n",
       "  </thead>\n",
       "  <tbody>\n",
       "    <tr>\n",
       "      <th>0</th>\n",
       "      <td>Apple</td>\n",
       "      <td>Apple_scab</td>\n",
       "      <td>Apple_scab</td>\n",
       "      <td>Plant_leave_diseases_dataset_with_augmentation...</td>\n",
       "      <td>thumbnails/Plant_leave_diseases_dataset_with_a...</td>\n",
       "    </tr>\n",
       "    <tr>\n",
       "      <th>1</th>\n",
       "      <td>Apple</td>\n",
       "      <td>Apple_scab</td>\n",
       "      <td>Apple_scab</td>\n",
       "      <td>Plant_leave_diseases_dataset_with_augmentation...</td>\n",
       "      <td>thumbnails/Plant_leave_diseases_dataset_with_a...</td>\n",
       "    </tr>\n",
       "    <tr>\n",
       "      <th>2</th>\n",
       "      <td>Apple</td>\n",
       "      <td>Apple_scab</td>\n",
       "      <td>Apple_scab</td>\n",
       "      <td>Plant_leave_diseases_dataset_with_augmentation...</td>\n",
       "      <td>thumbnails/Plant_leave_diseases_dataset_with_a...</td>\n",
       "    </tr>\n",
       "    <tr>\n",
       "      <th>3</th>\n",
       "      <td>Apple</td>\n",
       "      <td>Apple_scab</td>\n",
       "      <td>Apple_scab</td>\n",
       "      <td>Plant_leave_diseases_dataset_with_augmentation...</td>\n",
       "      <td>thumbnails/Plant_leave_diseases_dataset_with_a...</td>\n",
       "    </tr>\n",
       "    <tr>\n",
       "      <th>4</th>\n",
       "      <td>Apple</td>\n",
       "      <td>Apple_scab</td>\n",
       "      <td>Apple_scab</td>\n",
       "      <td>Plant_leave_diseases_dataset_with_augmentation...</td>\n",
       "      <td>thumbnails/Plant_leave_diseases_dataset_with_a...</td>\n",
       "    </tr>\n",
       "  </tbody>\n",
       "</table>\n",
       "</div>"
      ],
      "text/plain": [
       "  species     disease       label  \\\n",
       "0   Apple  Apple_scab  Apple_scab   \n",
       "1   Apple  Apple_scab  Apple_scab   \n",
       "2   Apple  Apple_scab  Apple_scab   \n",
       "3   Apple  Apple_scab  Apple_scab   \n",
       "4   Apple  Apple_scab  Apple_scab   \n",
       "\n",
       "                                          image_path  \\\n",
       "0  Plant_leave_diseases_dataset_with_augmentation...   \n",
       "1  Plant_leave_diseases_dataset_with_augmentation...   \n",
       "2  Plant_leave_diseases_dataset_with_augmentation...   \n",
       "3  Plant_leave_diseases_dataset_with_augmentation...   \n",
       "4  Plant_leave_diseases_dataset_with_augmentation...   \n",
       "\n",
       "                                      thumbnail_path  \n",
       "0  thumbnails/Plant_leave_diseases_dataset_with_a...  \n",
       "1  thumbnails/Plant_leave_diseases_dataset_with_a...  \n",
       "2  thumbnails/Plant_leave_diseases_dataset_with_a...  \n",
       "3  thumbnails/Plant_leave_diseases_dataset_with_a...  \n",
       "4  thumbnails/Plant_leave_diseases_dataset_with_a...  "
      ]
     },
     "execution_count": 69,
     "metadata": {},
     "output_type": "execute_result"
    }
   ],
   "source": [
    "df1.head()"
   ]
  },
  {
   "cell_type": "code",
   "execution_count": 84,
   "id": "c6bd37fa",
   "metadata": {},
   "outputs": [],
   "source": [
    "# *** À déterminer les prédicteurs x et la variable cible car ce n'est pas ca j'ai mis ca en attendant \n",
    "\n",
    "\n",
    "x = group_sel.drop(\"label\", axis=1)\n",
    "y = group_sel[\"label\"]\n",
    "\n",
    "xtrain, xtest, ytrain, ytest = train_test_split(x, y, stratify=y, test_size=0.2, random_state=44)"
   ]
  }
 ],
 "metadata": {
  "kernelspec": {
   "display_name": "Python 3 (ipykernel)",
   "language": "python",
   "name": "python3"
  },
  "language_info": {
   "codemirror_mode": {
    "name": "ipython",
    "version": 3
   },
   "file_extension": ".py",
   "mimetype": "text/x-python",
   "name": "python",
   "nbconvert_exporter": "python",
   "pygments_lexer": "ipython3",
   "version": "3.9.16"
  },
  "vscode": {
   "interpreter": {
    "hash": "ad2bdc8ecc057115af97d19610ffacc2b4e99fae6737bb82f5d7fb13d2f2c186"
   }
  }
 },
 "nbformat": 4,
 "nbformat_minor": 5
}
