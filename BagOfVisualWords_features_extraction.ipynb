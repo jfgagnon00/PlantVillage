{
 "cells": [
  {
   "cell_type": "code",
   "execution_count": 1,
   "id": "4d914ec6",
   "metadata": {},
   "outputs": [],
   "source": [
    "%matplotlib inline\n",
    "\n",
    "#\n",
    "# import utilitaires\n",
    "#\n",
    "import pandas as pd\n",
    "\n",
    "from helpers.Concurrent import create_thread_pool_executor\n",
    "from helpers.MetaObject import MetaObject\n",
    "from helpers.Jupyter import display_html\n",
    "\n",
    "from helpers.features.Orb import OrbFeaturesConfig, orb_features_load\n",
    "from helpers.dataset.PlantVillage import PlantVillageConfig, plant_village_load"
   ]
  },
  {
   "cell_type": "code",
   "execution_count": 2,
   "id": "aba53687",
   "metadata": {},
   "outputs": [
    {
     "name": "stdout",
     "output_type": "stream",
     "text": [
      "PlantVillage config\n"
     ]
    },
    {
     "data": {
      "text/plain": [
       "{'url': 'https://tinyurl.com/22tas3na',\n",
       " 'install_path': 'dataset/PlantVillage.hd5',\n",
       " 'species_disease_re': '(.*)(?:___)(.*)',\n",
       " 'species_re': '(.*)(?:,_|_)(.*)',\n",
       " 'label_separator': '_',\n",
       " 'thumbnail_scale': 0.25,\n",
       " 'force_download': False,\n",
       " 'read_only': True,\n",
       " 'executor': <concurrent.futures.thread.ThreadPoolExecutor at 0x29f3ed301f0>,\n",
       " 'force_install': False}"
      ]
     },
     "metadata": {},
     "output_type": "display_data"
    }
   ],
   "source": [
    "#\n",
    "# parametres dataset PlantVillage\n",
    "#\n",
    "config_overrides = MetaObject.from_json(\"config_overrides.json\")\n",
    "executor = create_thread_pool_executor(max_workers=None)\n",
    "\n",
    "pv_config = PlantVillageConfig(executor)\n",
    "if not config_overrides is None:\n",
    "    MetaObject.override_from_object(pv_config, \n",
    "                                    config_overrides.dataset)\n",
    "\n",
    "print(\"PlantVillage config\")\n",
    "display(pv_config.__dict__)"
   ]
  },
  {
   "cell_type": "code",
   "execution_count": 3,
   "id": "46f97e32",
   "metadata": {},
   "outputs": [
    {
     "data": {
      "text/html": [
       "<b>Downloading</b> <i>https://tinyurl.com/22tas3na</i>"
      ],
      "text/plain": [
       "<IPython.core.display.HTML object>"
      ]
     },
     "metadata": {},
     "output_type": "display_data"
    },
    {
     "data": {
      "text/html": [
       "<b>Preprocesssing</b> <i>dataset\\Plant_leaf_diseases_dataset_with_augmentation.zip</i>"
      ],
      "text/plain": [
       "<IPython.core.display.HTML object>"
      ]
     },
     "metadata": {},
     "output_type": "display_data"
    },
    {
     "data": {
      "application/vnd.jupyter.widget-view+json": {
       "model_id": "e2cb22acf0cf416a9ed1e1ac8df7bd93",
       "version_major": 2,
       "version_minor": 0
      },
      "text/plain": [
       "  0%|          | 0/61526 [00:00<?, ?it/s]"
      ]
     },
     "metadata": {},
     "output_type": "display_data"
    },
    {
     "name": "stdout",
     "output_type": "stream",
     "text": [
      " "
     ]
    }
   ],
   "source": [
    "#\n",
    "# obtenir le dataset PlantVillage\n",
    "#\n",
    "%prun pv_dataset = plant_village_load(pv_config)"
   ]
  },
  {
   "cell_type": "code",
   "execution_count": 4,
   "id": "93d29342",
   "metadata": {},
   "outputs": [
    {
     "data": {
      "text/plain": [
       "(60343, 5)"
      ]
     },
     "metadata": {},
     "output_type": "display_data"
    },
    {
     "data": {
      "text/html": [
       "<div>\n",
       "<style scoped>\n",
       "    .dataframe tbody tr th:only-of-type {\n",
       "        vertical-align: middle;\n",
       "    }\n",
       "\n",
       "    .dataframe tbody tr th {\n",
       "        vertical-align: top;\n",
       "    }\n",
       "\n",
       "    .dataframe thead th {\n",
       "        text-align: right;\n",
       "    }\n",
       "</style>\n",
       "<table border=\"1\" class=\"dataframe\">\n",
       "  <thead>\n",
       "    <tr style=\"text-align: right;\">\n",
       "      <th></th>\n",
       "      <th>species</th>\n",
       "      <th>disease</th>\n",
       "      <th>label</th>\n",
       "      <th>image_path</th>\n",
       "      <th>thumbnail_path</th>\n",
       "    </tr>\n",
       "  </thead>\n",
       "  <tbody>\n",
       "    <tr>\n",
       "      <th>0</th>\n",
       "      <td>Apple</td>\n",
       "      <td>Apple_scab</td>\n",
       "      <td>Apple_scab</td>\n",
       "      <td>Plant_leave_diseases_dataset_with_augmentation...</td>\n",
       "      <td>thumbnails/Plant_leave_diseases_dataset_with_a...</td>\n",
       "    </tr>\n",
       "    <tr>\n",
       "      <th>1</th>\n",
       "      <td>Apple</td>\n",
       "      <td>Apple_scab</td>\n",
       "      <td>Apple_scab</td>\n",
       "      <td>Plant_leave_diseases_dataset_with_augmentation...</td>\n",
       "      <td>thumbnails/Plant_leave_diseases_dataset_with_a...</td>\n",
       "    </tr>\n",
       "    <tr>\n",
       "      <th>2</th>\n",
       "      <td>Apple</td>\n",
       "      <td>Apple_scab</td>\n",
       "      <td>Apple_scab</td>\n",
       "      <td>Plant_leave_diseases_dataset_with_augmentation...</td>\n",
       "      <td>thumbnails/Plant_leave_diseases_dataset_with_a...</td>\n",
       "    </tr>\n",
       "    <tr>\n",
       "      <th>3</th>\n",
       "      <td>Apple</td>\n",
       "      <td>Apple_scab</td>\n",
       "      <td>Apple_scab</td>\n",
       "      <td>Plant_leave_diseases_dataset_with_augmentation...</td>\n",
       "      <td>thumbnails/Plant_leave_diseases_dataset_with_a...</td>\n",
       "    </tr>\n",
       "    <tr>\n",
       "      <th>4</th>\n",
       "      <td>Apple</td>\n",
       "      <td>Apple_scab</td>\n",
       "      <td>Apple_scab</td>\n",
       "      <td>Plant_leave_diseases_dataset_with_augmentation...</td>\n",
       "      <td>thumbnails/Plant_leave_diseases_dataset_with_a...</td>\n",
       "    </tr>\n",
       "  </tbody>\n",
       "</table>\n",
       "</div>"
      ],
      "text/plain": [
       "  species     disease       label  \\\n",
       "0   Apple  Apple_scab  Apple_scab   \n",
       "1   Apple  Apple_scab  Apple_scab   \n",
       "2   Apple  Apple_scab  Apple_scab   \n",
       "3   Apple  Apple_scab  Apple_scab   \n",
       "4   Apple  Apple_scab  Apple_scab   \n",
       "\n",
       "                                          image_path  \\\n",
       "0  Plant_leave_diseases_dataset_with_augmentation...   \n",
       "1  Plant_leave_diseases_dataset_with_augmentation...   \n",
       "2  Plant_leave_diseases_dataset_with_augmentation...   \n",
       "3  Plant_leave_diseases_dataset_with_augmentation...   \n",
       "4  Plant_leave_diseases_dataset_with_augmentation...   \n",
       "\n",
       "                                      thumbnail_path  \n",
       "0  thumbnails/Plant_leave_diseases_dataset_with_a...  \n",
       "1  thumbnails/Plant_leave_diseases_dataset_with_a...  \n",
       "2  thumbnails/Plant_leave_diseases_dataset_with_a...  \n",
       "3  thumbnails/Plant_leave_diseases_dataset_with_a...  \n",
       "4  thumbnails/Plant_leave_diseases_dataset_with_a...  "
      ]
     },
     "metadata": {},
     "output_type": "display_data"
    }
   ],
   "source": [
    "if pv_dataset is None:\n",
    "    display_html(f\"<b>Invalid dataset</b>\")\n",
    "else:\n",
    "    pv_dataframe = pd.DataFrame(pv_dataset.dataframe)\n",
    "\n",
    "display( pv_dataframe.shape )\n",
    "display( pv_dataframe.head() )"
   ]
  },
  {
   "cell_type": "code",
   "execution_count": 5,
   "id": "1cae673c",
   "metadata": {},
   "outputs": [
    {
     "name": "stdout",
     "output_type": "stream",
     "text": [
      "features_config\n"
     ]
    },
    {
     "data": {
      "text/plain": [
       "{'install_path': 'dataset/OrbFeatures.hd5',\n",
       " 'force_generate': True,\n",
       " 'read_only': True,\n",
       " 'nfeatures': 500,\n",
       " 'image_path_iterable': None,\n",
       " 'image_path_count': 0,\n",
       " 'zip_file': None,\n",
       " 'executor': <concurrent.futures.thread.ThreadPoolExecutor at 0x29f3ed301f0>,\n",
       " 'chunk_size': 150}"
      ]
     },
     "metadata": {},
     "output_type": "display_data"
    }
   ],
   "source": [
    "#\n",
    "# parametres pour features\n",
    "#\n",
    "features_config = OrbFeaturesConfig(executor)\n",
    "if not config_overrides is None:\n",
    "    MetaObject.override_from_object(features_config, \n",
    "                                    config_overrides.orb_features)\n",
    "\n",
    "print(\"features_config\")\n",
    "display(features_config.__dict__)"
   ]
  },
  {
   "cell_type": "code",
   "execution_count": 6,
   "id": "92239766",
   "metadata": {},
   "outputs": [],
   "source": [
    "#\n",
    "# obtenir les features pour chaque image\n",
    "#\n",
    "features_config.image_path_iterable = pv_dataframe[\"image_path\"].to_list()\n",
    "features_config.image_path_count = pv_dataframe.shape[0]\n",
    "features_config.zip_file = pv_dataset.zip_file"
   ]
  },
  {
   "cell_type": "code",
   "execution_count": 7,
   "id": "65a9a8f0",
   "metadata": {},
   "outputs": [
    {
     "data": {
      "text/html": [
       "<b>Extraire ORB features</b>"
      ],
      "text/plain": [
       "<IPython.core.display.HTML object>"
      ]
     },
     "metadata": {},
     "output_type": "display_data"
    },
    {
     "data": {
      "application/vnd.jupyter.widget-view+json": {
       "model_id": "53dfc4a0cd2848c69c6d0c6bdaefa449",
       "version_major": 2,
       "version_minor": 0
      },
      "text/plain": [
       "  0%|          | 0/60343 [00:00<?, ?it/s]"
      ]
     },
     "metadata": {},
     "output_type": "display_data"
    },
    {
     "name": "stdout",
     "output_type": "stream",
     "text": [
      " "
     ]
    }
   ],
   "source": [
    "%prun features_orb = orb_features_load(features_config)"
   ]
  },
  {
   "cell_type": "code",
   "execution_count": null,
   "id": "529cc153",
   "metadata": {},
   "outputs": [],
   "source": [
    "display(features_orb.features.shape)\n",
    "display(features_orb.indices.shape)\n",
    "display(features_orb.lookup.indices.shape)"
   ]
  },
  {
   "cell_type": "code",
   "execution_count": null,
   "id": "38c60e05",
   "metadata": {},
   "outputs": [],
   "source": [
    "#\n",
    "# reduire la quantity de features avec KMeans \n",
    "#"
   ]
  },
  {
   "cell_type": "code",
   "execution_count": null,
   "id": "db81c486",
   "metadata": {},
   "outputs": [],
   "source": [
    "#\n",
    "# split train/test\n",
    "#\n",
    "train, test = train_test_split(pv_dataframe, \n",
    "                               train_size=0.8, \n",
    "                               random_state=42, \n",
    "                               stratify=pv_dataframe[\"label\"])\n",
    "\n",
    "print(train.shape)\n",
    "print(test.shape)"
   ]
  },
  {
   "cell_type": "code",
   "execution_count": null,
   "id": "19cd664f",
   "metadata": {},
   "outputs": [],
   "source": []
  },
  {
   "cell_type": "code",
   "execution_count": null,
   "id": "79356b86",
   "metadata": {},
   "outputs": [],
   "source": []
  }
 ],
 "metadata": {
  "kernelspec": {
   "display_name": "Python 3 (ipykernel)",
   "language": "python",
   "name": "python3"
  },
  "language_info": {
   "codemirror_mode": {
    "name": "ipython",
    "version": 3
   },
   "file_extension": ".py",
   "mimetype": "text/x-python",
   "name": "python",
   "nbconvert_exporter": "python",
   "pygments_lexer": "ipython3",
   "version": "3.9.15"
  },
  "vscode": {
   "interpreter": {
    "hash": "ad2bdc8ecc057115af97d19610ffacc2b4e99fae6737bb82f5d7fb13d2f2c186"
   }
  }
 },
 "nbformat": 4,
 "nbformat_minor": 5
}
