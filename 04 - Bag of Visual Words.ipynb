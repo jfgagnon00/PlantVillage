{
 "cells": [
  {
   "cell_type": "code",
   "execution_count": 1,
   "id": "be0f1cb5",
   "metadata": {},
   "outputs": [
    {
     "data": {
      "text/html": [
       "\n",
       "<style>    \n",
       "    @import url(\"css/custom_styles.css\")\n",
       "</style>\n"
      ],
      "text/plain": [
       "<IPython.core.display.HTML object>"
      ]
     },
     "metadata": {},
     "output_type": "display_data"
    }
   ],
   "source": [
    "%%html\n",
    "\n",
    "<style>    \n",
    "    @import url(\"css/custom_styles.css\")\n",
    "</style>"
   ]
  },
  {
   "cell_type": "code",
   "execution_count": 2,
   "id": "4d914ec6",
   "metadata": {},
   "outputs": [],
   "source": [
    "%matplotlib inline\n",
    "\n",
    "#\n",
    "# import utilitaires\n",
    "#\n",
    "import matplotlib.pyplot as plt\n",
    "import numpy as np\n",
    "import pandas as pd\n",
    "\n",
    "import helpers as hlp\n",
    "import helpers.bovw as bovw\n",
    "import helpers.dataset.PlantVillage as pv\n",
    "import helpers.features as feat"
   ]
  },
  {
   "cell_type": "code",
   "execution_count": 3,
   "id": "973b6b17",
   "metadata": {},
   "outputs": [
    {
     "name": "stdout",
     "output_type": "stream",
     "text": [
      "pv_config\n"
     ]
    },
    {
     "data": {
      "text/plain": [
       "{'url': 'https://tinyurl.com/22tas3na',\n",
       " 'install_path': 'dataset/PlantVillage.hd5',\n",
       " 'species_disease_re': '(.*)(?:___)(.*)',\n",
       " 'species_re': '(.*)(?:,_|_)(.*)',\n",
       " 'label_separator': '_',\n",
       " 'thumbnail_scale': 0.25,\n",
       " 'force_download': False,\n",
       " 'read_only': True,\n",
       " 'executor': <concurrent.futures.thread.ThreadPoolExecutor at 0x239ff8721f0>,\n",
       " 'force_install': False}"
      ]
     },
     "metadata": {},
     "output_type": "display_data"
    },
    {
     "name": "stdout",
     "output_type": "stream",
     "text": [
      "orb_features_config\n"
     ]
    },
    {
     "data": {
      "text/plain": [
       "{'install_path': 'dataset/OrbFeatures.hd5',\n",
       " 'force_generate': False,\n",
       " 'read_only': True,\n",
       " 'executor': <concurrent.futures.thread.ThreadPoolExecutor at 0x239ff8721f0>,\n",
       " 'chunk_size': 150,\n",
       " 'nfeatures': 500}"
      ]
     },
     "metadata": {},
     "output_type": "display_data"
    },
    {
     "name": "stdout",
     "output_type": "stream",
     "text": [
      "ORB features (20908751, 32)\n",
      "ORB keypoints (20908751, 7)\n"
     ]
    }
   ],
   "source": [
    "#\n",
    "# dataset PlantVillage\n",
    "#\n",
    "config_overrides = hlp.MetaObject.from_json(\"config_overrides.json\")\n",
    "executor = hlp.create_thread_pool_executor()\n",
    "\n",
    "pv_config = pv.Config(executor)\n",
    "if not config_overrides is None:\n",
    "    hlp.MetaObject.override_from_object(pv_config, \n",
    "                                        config_overrides.dataset)\n",
    "\n",
    "print(\"pv_config\")\n",
    "display(vars(pv_config))\n",
    "\n",
    "pv_dataset = pv.load(pv_config)\n",
    "pv_dataframe = pv_dataset.dataframe\n",
    "\n",
    "\n",
    "#\n",
    "# features orb\n",
    "#\n",
    "orb_features_config = feat.OrbFeaturesConfig(executor)\n",
    "if not orb_features_config is None:\n",
    "    hlp.MetaObject.override_from_object(orb_features_config, \n",
    "                                        config_overrides.orb.features)\n",
    "\n",
    "print(\"orb_features_config\")\n",
    "display(vars(orb_features_config))\n",
    "\n",
    "orb_iter = feat.DatasetIter(pv_dataset, \n",
    "                            pv_dataframe[\"image_path\"].iteritems(),\n",
    "                            pv_dataframe.shape[0])\n",
    "features_orb = feat.load(orb_features_config, orb_iter)\n",
    "\n",
    "print(\"ORB features\", features_orb.features.shape)\n",
    "print(\"ORB keypoints\", features_orb.key_points.shape)"
   ]
  },
  {
   "cell_type": "code",
   "execution_count": 4,
   "id": "cbb53b1a",
   "metadata": {},
   "outputs": [
    {
     "name": "stdout",
     "output_type": "stream",
     "text": [
      "bovw_config\n"
     ]
    },
    {
     "data": {
      "text/plain": [
       "{'install_path': 'dataset/OrbBoVW.hd5',\n",
       " 'read_only': True,\n",
       " 'force_generate': False}"
      ]
     },
     "metadata": {},
     "output_type": "display_data"
    }
   ],
   "source": [
    "#\n",
    "# parametres bag of visual words\n",
    "#\n",
    "bovw_config = bovw.Config()\n",
    "if not config_overrides is None:\n",
    "    hlp.MetaObject.override_from_object(bovw_config, \n",
    "                                        config_overrides.orb.bovw)\n",
    "\n",
    "print(\"bovw_config\")\n",
    "display(vars(bovw_config))"
   ]
  },
  {
   "cell_type": "code",
   "execution_count": null,
   "id": "f0fa9b8a",
   "metadata": {},
   "outputs": [],
   "source": []
  }
 ],
 "metadata": {
  "hide_input": false,
  "kernelspec": {
   "display_name": "Python 3 (ipykernel)",
   "language": "python",
   "name": "python3"
  },
  "language_info": {
   "codemirror_mode": {
    "name": "ipython",
    "version": 3
   },
   "file_extension": ".py",
   "mimetype": "text/x-python",
   "name": "python",
   "nbconvert_exporter": "python",
   "pygments_lexer": "ipython3",
   "version": "3.9.15"
  },
  "toc": {
   "base_numbering": 1,
   "nav_menu": {},
   "number_sections": true,
   "sideBar": true,
   "skip_h1_title": false,
   "title_cell": "Table of Contents",
   "title_sidebar": "Contents",
   "toc_cell": false,
   "toc_position": {},
   "toc_section_display": true,
   "toc_window_display": false
  },
  "vscode": {
   "interpreter": {
    "hash": "ad2bdc8ecc057115af97d19610ffacc2b4e99fae6737bb82f5d7fb13d2f2c186"
   }
  }
 },
 "nbformat": 4,
 "nbformat_minor": 5
}
