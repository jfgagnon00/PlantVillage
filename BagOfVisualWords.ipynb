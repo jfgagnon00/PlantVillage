{
 "cells": [
  {
   "cell_type": "markdown",
   "id": "289d8312",
   "metadata": {},
   "source": [
    "# Dataset\n",
    "[Plant Village](https://data.mendeley.com/datasets/tywbtsjrjv/1)\n",
    "\n",
    "\n",
    "# Description\n",
    "\n",
    "In this data-set, 39 different classes of plant leaf and background images are available. The data-set containing 61,486 images. We used six different augmentation techniques for increasing the data-set size. The techniques are image flipping, Gamma correction, noise injection, PCA color augmentation, rotation, and Scaling.\n",
    "\n",
    "The classes are:\n",
    "1. Apple_scab\n",
    "2. Apple_black_rot\n",
    "3. Apple_cedar_apple_rust\n",
    "4. Apple_healthy\n",
    "5. Background_without_leaves\n",
    "6. Blueberry_healthy\n",
    "7. Cherry_powdery_mildew\n",
    "8. Cherry_healthy\n",
    "9. Corn_gray_leaf_spot\n",
    "10. Corn_common_rust\n",
    "11. Corn_northern_leaf_blight\n",
    "12. Corn_healthy\n",
    "13. Grape_black_rot\n",
    "14. Grape_black_measles\n",
    "15. Grape_leaf_blight\n",
    "16. Grape_healthy\n",
    "17. Orange_haunglongbing\n",
    "18. Peach_bacterial_spot\n",
    "19. Peach_healthy\n",
    "20. Pepper_bacterial_spot\n",
    "21. Pepper_healthy\n",
    "22. Potato_early_blight\n",
    "23. Potato_healthy\n",
    "24. Potato_late_blight\n",
    "25. Raspberry_healthy\n",
    "26. Soybean_healthy\n",
    "27. Squash_powdery_mildew\n",
    "28. Strawberry_healthy\n",
    "29. Strawberry_leaf_scorch\n",
    "30. Tomato_bacterial_spot\n",
    "31. Tomato_early_blight\n",
    "32. Tomato_healthy\n",
    "33. Tomato_late_blight\n",
    "34. Tomato_leaf_mold\n",
    "35. Tomato_septoria_leaf_spot\n",
    "36. Tomato_spider_mites_two-spotted_spider_mite\n",
    "37. Tomato_target_spot\n",
    "38. Tomato_mosaic_virus\n",
    "39. Tomato_yellow_leaf_curl_virus"
   ]
  },
  {
   "cell_type": "code",
   "execution_count": 11,
   "id": "4d914ec6",
   "metadata": {},
   "outputs": [],
   "source": [
    "%matplotlib inline\n",
    "\n",
    "#\n",
    "# import utilitaires\n",
    "#\n",
    "import cv2\n",
    "import numpy as np\n",
    "import os\n",
    "import pandas as pd\n",
    "import requests\n",
    "import time\n",
    "import zipfile\n",
    "\n",
    "from pprint import pprint\n",
    "from tqdm.notebook import tqdm\n",
    "from IPython.core.display import HTML"
   ]
  },
  {
   "cell_type": "code",
   "execution_count": 14,
   "id": "42d170c3",
   "metadata": {},
   "outputs": [],
   "source": [
    "def display_html(html_message):\n",
    "    display(HTML(html_message))\n",
    "\n",
    "def download_dataset(dest_path, url, skip_download=False):\n",
    "    \"\"\"\n",
    "    Utilitaire pour afficher progres d'un download zip a partir url\n",
    "    \"\"\"\n",
    "    try:\n",
    "        r = requests.get(url, stream=True)\n",
    "\n",
    "        content_size = int(r.headers.get('content-length'))\n",
    "        content_type = r.headers.get('content-type').lower()\n",
    "\n",
    "        assert content_size == 949267727, \"Dataset wrong size\"\n",
    "        assert content_type == \"application/zip\", \"Dataset wrong type\"\n",
    "\n",
    "        content_disposition = r.headers.get('content-disposition')\n",
    "        filename = content_disposition.split(\"=\", 1)[-1]\n",
    "        filename = filename.replace('\"', \"\")\n",
    "        filename = os.path.join(dest_path, filename)\n",
    "\n",
    "        if skip_download:\n",
    "            with open(filename, \"wb\") as f:\n",
    "                progress = tqdm(total=content_size)\n",
    "                for data in r.iter_content(chunk_size=16*1024):\n",
    "                    f.write(data)    \n",
    "                    progress.update(len(data))\n",
    "                progress.refresh()\n",
    "    except Exception as e:\n",
    "        print(e)\n",
    "        return None\n",
    "    else:\n",
    "        return filename\n",
    "    \n",
    "def unzip_dataset(dest_path, file, unzip_one_folder_up=True):\n",
    "    \"\"\"\n",
    "    Utilitaire afficher progres pour dezipper fichier\n",
    "    \"\"\"\n",
    "    try:\n",
    "        with zipfile.ZipFile(file=file) as zip_file:\n",
    "            infolist = zip_file.infolist()\n",
    "            progress = tqdm(iterable=infolist, \n",
    "                            total=len(infolist),\n",
    "                            bar_format=\"{l_bar}{bar}{postfix}\")\n",
    "\n",
    "            for zip_info in progress:            \n",
    "                # display filename in progress bar\n",
    "                # but without start folder\n",
    "                path, file = os.path.split(zip_info.filename)            \n",
    "                _, path = os.path.split(path)\n",
    "                one_up_path = os.path.join(path, file)\n",
    "\n",
    "                progress.set_postfix_str(one_up_path)\n",
    "\n",
    "                if zip_info.is_dir():\n",
    "                    time.sleep(0.01)\n",
    "                    continue\n",
    "\n",
    "                if unzip_one_folder_up:\n",
    "                    zip_info.filename = one_up_path\n",
    "\n",
    "                zip_file.extract(zip_info, path=dest_path)\n",
    "\n",
    "            progress.refresh()\n",
    "    except Exception as e:\n",
    "        print(e)\n",
    "        return False\n",
    "    else:\n",
    "        return True\n",
    "        \n",
    "def install_dataset(dest_path, url):\n",
    "    display_html(f\"<b>Downloading</b> <i>{url}</i>\")\n",
    "    zip_file = download_dataset(dest_path, url)\n",
    "    if zip_file is None:\n",
    "        display_html(f\"<b>Failed</b>\")\n",
    "        return False\n",
    "    \n",
    "    display_html(f\"<b>Unzipping</b>\")\n",
    "    if not unzip_dataset(dest_path,  zip_file):\n",
    "        display_html(f\"<b>Failed</b>\")\n",
    "        return False\n",
    "    \n",
    "    display_html(f\"<b>Cleaning</b>\")\n",
    "    os.remove(zip_file)\n",
    "    \n",
    "    return True"
   ]
  },
  {
   "cell_type": "code",
   "execution_count": 15,
   "id": "ea450293",
   "metadata": {},
   "outputs": [
    {
     "data": {
      "text/html": [
       "<b>Installing Dataset</b>"
      ],
      "text/plain": [
       "<IPython.core.display.HTML object>"
      ]
     },
     "metadata": {},
     "output_type": "display_data"
    },
    {
     "data": {
      "text/html": [
       "<b>Downloading</b>: <i>https://tinyurl.com/22tas3na</i>"
      ],
      "text/plain": [
       "<IPython.core.display.HTML object>"
      ]
     },
     "metadata": {},
     "output_type": "display_data"
    },
    {
     "data": {
      "text/html": [
       "<b>Unzipping</b>"
      ],
      "text/plain": [
       "<IPython.core.display.HTML object>"
      ]
     },
     "metadata": {},
     "output_type": "display_data"
    },
    {
     "data": {
      "application/vnd.jupyter.widget-view+json": {
       "model_id": "f038d660a343402c8e9dc85a022b0f33",
       "version_major": 2,
       "version_minor": 0
      },
      "text/plain": [
       "  0%|          "
      ]
     },
     "metadata": {},
     "output_type": "display_data"
    },
    {
     "data": {
      "text/html": [
       "<b>Cleaning</b>"
      ],
      "text/plain": [
       "<IPython.core.display.HTML object>"
      ]
     },
     "metadata": {},
     "output_type": "display_data"
    },
    {
     "data": {
      "text/html": [
       "<b>Dataset installed</b>"
      ],
      "text/plain": [
       "<IPython.core.display.HTML object>"
      ]
     },
     "metadata": {},
     "output_type": "display_data"
    }
   ],
   "source": [
    "#\n",
    "# installation du dataset\n",
    "#\n",
    "DATASET_INSTALL = True\n",
    "DATASET_URL = \"https://tinyurl.com/22tas3na\"\n",
    "DATASET_PATH = \"dataset\"\n",
    "\n",
    "if DATASET_INSTALL: #  and not os.path.exists(DATASET_PATH):\n",
    "    os.makedirs(DATASET_PATH, exist_ok=True)\n",
    "    \n",
    "    display_html(f\"<b>Installing Dataset</b>\")\n",
    "    if not install_dataset(DATASET_PATH, DATASET_URL):\n",
    "        display_html(f\"<b>Dataset installation error</b>\")\n",
    "    else:\n",
    "        display_html(f\"<b>Dataset installed</b>\")\n",
    "        \n",
    "else:\n",
    "    display_html(f\"<b>Dataset already installed</b>\")"
   ]
  },
  {
   "cell_type": "code",
   "execution_count": null,
   "id": "72abaf02",
   "metadata": {},
   "outputs": [],
   "source": []
  },
  {
   "cell_type": "code",
   "execution_count": null,
   "id": "4e4d56e8",
   "metadata": {},
   "outputs": [],
   "source": []
  },
  {
   "cell_type": "code",
   "execution_count": null,
   "id": "75202f8e",
   "metadata": {},
   "outputs": [],
   "source": []
  },
  {
   "cell_type": "code",
   "execution_count": null,
   "id": "7f2224fc",
   "metadata": {},
   "outputs": [],
   "source": []
  }
 ],
 "metadata": {
  "kernelspec": {
   "display_name": "Python 3 (ipykernel)",
   "language": "python",
   "name": "python3"
  },
  "language_info": {
   "codemirror_mode": {
    "name": "ipython",
    "version": 3
   },
   "file_extension": ".py",
   "mimetype": "text/x-python",
   "name": "python",
   "nbconvert_exporter": "python",
   "pygments_lexer": "ipython3",
   "version": "3.9.15"
  }
 },
 "nbformat": 4,
 "nbformat_minor": 5
}
