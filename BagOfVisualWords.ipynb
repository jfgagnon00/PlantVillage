{
 "cells": [
  {
   "cell_type": "code",
   "execution_count": null,
   "id": "8b2a6876",
   "metadata": {},
   "outputs": [],
   "source": [
    "%%html\n",
    "<style>\n",
    "    /* identifier les reponse aux questions */\n",
    "    .comment {\n",
    "        color:blue;\n",
    "    }\n",
    "    \n",
    "    /* utilitaire pour faire des colonnes */\n",
    "    .column {\n",
    "        float:left;\n",
    "        width:50%;\n",
    "    }\n",
    "</style>"
   ]
  },
  {
   "cell_type": "markdown",
   "id": "70b8b245",
   "metadata": {},
   "source": [
    "# Dataset\n",
    "[Plant Village](https://data.mendeley.com/datasets/tywbtsjrjv/1)"
   ]
  },
  {
   "cell_type": "markdown",
   "id": "289d8312",
   "metadata": {},
   "source": [
    "## Description\n",
    "\n",
    "In this data-set, 39 different classes of plant leaf and background images are available. The data-set containing 61,486 images. We used six different augmentation techniques for increasing the data-set size. The techniques are image flipping, Gamma correction, noise injection, PCA color augmentation, rotation, and Scaling.\n",
    "\n",
    "The classes are: \n",
    "\n",
    "<br>\n",
    "\n",
    "<div class=\"column\">\n",
    "\n",
    "1. Apple_scab\n",
    "2. Apple_black_rot\n",
    "3. Apple_cedar_apple_rust\n",
    "4. Apple_healthy\n",
    "5. Background_without_leaves\n",
    "6. Blueberry_healthy\n",
    "7. Cherry_powdery_mildew\n",
    "8. Cherry_healthy\n",
    "9. Corn_gray_leaf_spot\n",
    "10. Corn_common_rust\n",
    "11. Corn_northern_leaf_blight\n",
    "12. Corn_healthy\n",
    "13. Grape_black_rot\n",
    "14. Grape_black_measles\n",
    "15. Grape_leaf_blight\n",
    "16. Grape_healthy\n",
    "17. Orange_haunglongbing\n",
    "18. Peach_bacterial_spot\n",
    "19. Peach_healthy\n",
    "20. Pepper_bacterial_spot\n",
    "\n",
    "</div>\n",
    "\n",
    "<div class=\"column\">\n",
    "    \n",
    "21. Pepper_healthy\n",
    "22. Potato_early_blight\n",
    "23. Potato_healthy\n",
    "24. Potato_late_blight\n",
    "25. Raspberry_healthy\n",
    "26. Soybean_healthy\n",
    "27. Squash_powdery_mildew\n",
    "28. Strawberry_healthy\n",
    "29. Strawberry_leaf_scorch\n",
    "30. Tomato_bacterial_spot\n",
    "31. Tomato_early_blight\n",
    "32. Tomato_healthy\n",
    "33. Tomato_late_blight\n",
    "34. Tomato_leaf_mold\n",
    "35. Tomato_septoria_leaf_spot\n",
    "36. Tomato_spider_mites_two-spotted_spider_mite\n",
    "37. Tomato_target_spot\n",
    "38. Tomato_mosaic_virus\n",
    "39. Tomato_yellow_leaf_curl_virus\n",
    "    \n",
    "</div>"
   ]
  },
  {
   "cell_type": "code",
   "execution_count": 1,
   "id": "4d914ec6",
   "metadata": {},
   "outputs": [],
   "source": [
    "%matplotlib inline\n",
    "\n",
    "#\n",
    "# import utilitaires\n",
    "#\n",
    "import cv2\n",
    "import numpy as np\n",
    "import pandas as pd\n",
    "import pickle\n",
    "import random\n",
    "import seaborn as sns\n",
    "\n",
    "from dataset_helpers import dataset_load_config, dataset_load\n",
    "from jupyter_helpers import display_html\n",
    "from matplotlib import pyplot as plt\n",
    "from sklearn.model_selection import train_test_split\n",
    "from tqdm.notebook import tqdm\n",
    "\n",
    "# make random deterministic\n",
    "random.seed(42)"
   ]
  },
  {
   "cell_type": "code",
   "execution_count": 2,
   "id": "aba53687",
   "metadata": {},
   "outputs": [],
   "source": [
    "#\n",
    "# retreive dataset PlantVillage\n",
    "# does necessary work to get final .csv\n",
    "# some preliminary cleanup is done\n",
    "#\n",
    "dataset_config = dataset_load_config(\"PlantVillage_Config.json\")\n",
    "if dataset_config is None:\n",
    "    display_html(f\"<b>Invalid dataset config</b>\")"
   ]
  },
  {
   "cell_type": "code",
   "execution_count": 3,
   "id": "60823c2a",
   "metadata": {},
   "outputs": [
    {
     "data": {
      "text/html": [
       "<b>Installing Dataset</b>"
      ],
      "text/plain": [
       "<IPython.core.display.HTML object>"
      ]
     },
     "metadata": {},
     "output_type": "display_data"
    },
    {
     "data": {
      "text/html": [
       "<b>Downloading</b> <i>https://tinyurl.com/22tas3na</i>"
      ],
      "text/plain": [
       "<IPython.core.display.HTML object>"
      ]
     },
     "metadata": {},
     "output_type": "display_data"
    },
    {
     "data": {
      "text/html": [
       "<b>Extracting</b> <i>dataset\\Plant_leaf_diseases_dataset_with_augmentation.zip</i>"
      ],
      "text/plain": [
       "<IPython.core.display.HTML object>"
      ]
     },
     "metadata": {},
     "output_type": "display_data"
    },
    {
     "data": {
      "text/html": [
       "<b>Cleaning</b>"
      ],
      "text/plain": [
       "<IPython.core.display.HTML object>"
      ]
     },
     "metadata": {},
     "output_type": "display_data"
    },
    {
     "data": {
      "text/html": [
       "<b>Dataset installed</b>"
      ],
      "text/plain": [
       "<IPython.core.display.HTML object>"
      ]
     },
     "metadata": {},
     "output_type": "display_data"
    },
    {
     "data": {
      "text/html": [
       "<b>Dataset preprocessing thumbnails</b>"
      ],
      "text/plain": [
       "<IPython.core.display.HTML object>"
      ]
     },
     "metadata": {},
     "output_type": "display_data"
    },
    {
     "data": {
      "application/vnd.jupyter.widget-view+json": {
       "model_id": "2dfa728a5f234e51a9522936120fb57c",
       "version_major": 2,
       "version_minor": 0
      },
      "text/plain": [
       "  0%|          "
      ]
     },
     "metadata": {},
     "output_type": "display_data"
    },
    {
     "name": "stdout",
     "output_type": "stream",
     "text": [
      "Apple___Apple_scab\n",
      "/images/Apple___Apple_scab\n",
      "['', 'images', 'Apple___Apple_scab']\n",
      "['image (1).JPG', 'image (10).JPG', 'image (100).JPG', 'image (1000).JPG', 'image (101).JPG', 'image (102).JPG', 'image (103).JPG', 'image (104).JPG', 'image (105).JPG', 'image (106).JPG', 'image (107).JPG', 'image (108).JPG', 'image (109).JPG', 'image (11).JPG', 'image (110).JPG', 'image (111).JPG', 'image (112).JPG', 'image (113).JPG', 'image (114).JPG', 'image (115).JPG', 'image (116).JPG', 'image (117).JPG', 'image (118).JPG', 'image (119).JPG', 'image (12).JPG', 'image (120).JPG', 'image (121).JPG', 'image (122).JPG', 'image (123).JPG', 'image (124).JPG', 'image (125).JPG', 'image (126).JPG', 'image (127).JPG', 'image (128).JPG', 'image (129).JPG', 'image (13).JPG', 'image (130).JPG', 'image (131).JPG', 'image (132).JPG', 'image (133).JPG', 'image (134).JPG', 'image (135).JPG', 'image (136).JPG', 'image (137).JPG', 'image (138).JPG', 'image (139).JPG', 'image (14).JPG', 'image (140).JPG', 'image (141).JPG', 'image (142).JPG', 'image (143).JPG', 'image (144).JPG', 'image (145).JPG', 'image (146).JPG', 'image (147).JPG', 'image (148).JPG', 'image (149).JPG', 'image (15).JPG', 'image (150).JPG', 'image (151).JPG', 'image (152).JPG', 'image (153).JPG', 'image (154).JPG', 'image (155).JPG', 'image (156).JPG', 'image (157).JPG', 'image (158).JPG', 'image (159).JPG', 'image (16).JPG', 'image (160).JPG', 'image (161).JPG', 'image (162).JPG', 'image (163).JPG', 'image (164).JPG', 'image (165).JPG', 'image (166).JPG', 'image (167).JPG', 'image (168).JPG', 'image (169).JPG', 'image (17).JPG', 'image (170).JPG', 'image (171).JPG', 'image (172).JPG', 'image (173).JPG', 'image (174).JPG', 'image (175).JPG', 'image (176).JPG', 'image (177).JPG', 'image (178).JPG', 'image (179).JPG', 'image (18).JPG', 'image (180).JPG', 'image (181).JPG', 'image (182).JPG', 'image (183).JPG', 'image (184).JPG', 'image (185).JPG', 'image (186).JPG', 'image (187).JPG', 'image (188).JPG', 'image (189).JPG', 'image (19).JPG', 'image (190).JPG', 'image (191).JPG', 'image (192).JPG', 'image (193).JPG', 'image (194).JPG', 'image (195).JPG', 'image (196).JPG', 'image (197).JPG', 'image (198).JPG', 'image (199).JPG', 'image (2).JPG', 'image (20).JPG', 'image (200).JPG', 'image (201).JPG', 'image (202).JPG', 'image (203).JPG', 'image (204).JPG', 'image (205).JPG', 'image (206).JPG', 'image (207).JPG', 'image (208).JPG', 'image (209).JPG', 'image (21).JPG', 'image (210).JPG', 'image (211).JPG', 'image (212).JPG', 'image (213).JPG', 'image (214).JPG', 'image (215).JPG', 'image (216).JPG', 'image (217).JPG', 'image (218).JPG', 'image (219).JPG', 'image (22).JPG', 'image (220).JPG', 'image (221).JPG', 'image (222).JPG', 'image (223).JPG', 'image (224).JPG', 'image (225).JPG', 'image (226).JPG', 'image (227).JPG', 'image (228).JPG', 'image (229).JPG', 'image (23).JPG', 'image (230).JPG', 'image (231).JPG', 'image (232).JPG', 'image (233).JPG', 'image (234).JPG', 'image (235).JPG', 'image (236).JPG', 'image (237).JPG', 'image (238).JPG', 'image (239).JPG', 'image (24).JPG', 'image (240).JPG', 'image (241).JPG', 'image (242).JPG', 'image (243).JPG', 'image (244).JPG', 'image (245).JPG', 'image (246).JPG', 'image (247).JPG', 'image (248).JPG', 'image (249).JPG', 'image (25).JPG', 'image (250).JPG', 'image (251).JPG', 'image (252).JPG', 'image (253).JPG', 'image (254).JPG', 'image (255).JPG', 'image (256).JPG', 'image (257).JPG', 'image (258).JPG', 'image (259).JPG', 'image (26).JPG', 'image (260).JPG', 'image (261).JPG', 'image (262).JPG', 'image (263).JPG', 'image (264).JPG', 'image (265).JPG', 'image (266).JPG', 'image (267).JPG', 'image (268).JPG', 'image (269).JPG', 'image (27).JPG', 'image (270).JPG', 'image (271).JPG', 'image (272).JPG', 'image (273).JPG', 'image (274).JPG', 'image (275).JPG', 'image (276).JPG', 'image (277).JPG', 'image (278).JPG', 'image (279).JPG', 'image (28).JPG', 'image (280).JPG', 'image (281).JPG', 'image (282).JPG', 'image (283).JPG', 'image (284).JPG', 'image (285).JPG', 'image (286).JPG', 'image (287).JPG', 'image (288).JPG', 'image (289).JPG', 'image (29).JPG', 'image (290).JPG', 'image (291).JPG', 'image (292).JPG', 'image (293).JPG', 'image (294).JPG', 'image (295).JPG', 'image (296).JPG', 'image (297).JPG', 'image (298).JPG', 'image (299).JPG', 'image (3).JPG', 'image (30).JPG', 'image (300).JPG', 'image (301).JPG', 'image (302).JPG', 'image (303).JPG', 'image (304).JPG', 'image (305).JPG', 'image (306).JPG', 'image (307).JPG', 'image (308).JPG', 'image (309).JPG', 'image (31).JPG', 'image (310).JPG', 'image (311).JPG', 'image (312).JPG', 'image (313).JPG', 'image (314).JPG', 'image (315).JPG', 'image (316).JPG', 'image (317).JPG', 'image (318).JPG', 'image (319).JPG', 'image (32).JPG', 'image (320).JPG', 'image (321).JPG', 'image (322).JPG', 'image (323).JPG', 'image (324).JPG', 'image (325).JPG', 'image (326).JPG', 'image (327).JPG', 'image (328).JPG', 'image (329).JPG', 'image (33).JPG', 'image (330).JPG', 'image (331).JPG', 'image (332).JPG', 'image (333).JPG', 'image (334).JPG', 'image (335).JPG', 'image (336).JPG', 'image (337).JPG', 'image (338).JPG', 'image (339).JPG', 'image (34).JPG', 'image (340).JPG', 'image (341).JPG', 'image (342).JPG', 'image (343).JPG', 'image (344).JPG', 'image (345).JPG', 'image (346).JPG', 'image (347).JPG', 'image (348).JPG', 'image (349).JPG', 'image (35).JPG', 'image (350).JPG', 'image (351).JPG', 'image (352).JPG', 'image (353).JPG', 'image (354).JPG', 'image (355).JPG', 'image (356).JPG', 'image (357).JPG', 'image (358).JPG', 'image (359).JPG', 'image (36).JPG', 'image (360).JPG', 'image (361).JPG', 'image (362).JPG', 'image (363).JPG', 'image (364).JPG', 'image (365).JPG', 'image (366).JPG', 'image (367).JPG', 'image (368).JPG', 'image (369).JPG', 'image (37).JPG', 'image (370).JPG', 'image (371).JPG', 'image (372).JPG', 'image (373).JPG', 'image (374).JPG', 'image (375).JPG', 'image (376).JPG', 'image (377).JPG', 'image (378).JPG', 'image (379).JPG', 'image (38).JPG', 'image (380).JPG', 'image (381).JPG', 'image (382).JPG', 'image (383).JPG', 'image (384).JPG', 'image (385).JPG', 'image (386).JPG', 'image (387).JPG', 'image (388).JPG', 'image (389).JPG', 'image (39).JPG', 'image (390).JPG', 'image (391).JPG', 'image (392).JPG', 'image (393).JPG', 'image (394).JPG', 'image (395).JPG', 'image (396).JPG', 'image (397).JPG', 'image (398).JPG', 'image (399).JPG', 'image (4).JPG', 'image (40).JPG', 'image (400).JPG', 'image (401).JPG', 'image (402).JPG', 'image (403).JPG', 'image (404).JPG', 'image (405).JPG', 'image (406).JPG', 'image (407).JPG', 'image (408).JPG', 'image (409).JPG', 'image (41).JPG', 'image (410).JPG', 'image (411).JPG', 'image (412).JPG', 'image (413).JPG', 'image (414).JPG', 'image (415).JPG', 'image (416).JPG', 'image (417).JPG', 'image (418).JPG', 'image (419).JPG', 'image (42).JPG', 'image (420).JPG', 'image (421).JPG', 'image (422).JPG', 'image (423).JPG', 'image (424).JPG', 'image (425).JPG', 'image (426).JPG', 'image (427).JPG', 'image (428).JPG', 'image (429).JPG', 'image (43).JPG', 'image (430).JPG', 'image (431).JPG', 'image (432).JPG', 'image (433).JPG', 'image (434).JPG', 'image (435).JPG', 'image (436).JPG', 'image (437).JPG', 'image (438).JPG', 'image (439).JPG', 'image (44).JPG', 'image (440).JPG', 'image (441).JPG', 'image (442).JPG', 'image (443).JPG', 'image (444).JPG', 'image (445).JPG', 'image (446).JPG', 'image (447).JPG', 'image (448).JPG', 'image (449).JPG', 'image (45).JPG', 'image (450).JPG', 'image (451).JPG', 'image (452).JPG', 'image (453).JPG', 'image (454).JPG', 'image (455).JPG', 'image (456).JPG', 'image (457).JPG', 'image (458).JPG', 'image (459).JPG', 'image (46).JPG', 'image (460).JPG', 'image (461).JPG', 'image (462).JPG', 'image (463).JPG', 'image (464).JPG', 'image (465).JPG', 'image (466).JPG', 'image (467).JPG', 'image (468).JPG', 'image (469).JPG', 'image (47).JPG', 'image (470).JPG', 'image (471).JPG', 'image (472).JPG', 'image (473).JPG', 'image (474).JPG', 'image (475).JPG', 'image (476).JPG', 'image (477).JPG', 'image (478).JPG', 'image (479).JPG', 'image (48).JPG', 'image (480).JPG', 'image (481).JPG', 'image (482).JPG', 'image (483).JPG', 'image (484).JPG', 'image (485).JPG', 'image (486).JPG', 'image (487).JPG', 'image (488).JPG', 'image (489).JPG', 'image (49).JPG', 'image (490).JPG', 'image (491).JPG', 'image (492).JPG', 'image (493).JPG', 'image (494).JPG', 'image (495).JPG', 'image (496).JPG', 'image (497).JPG', 'image (498).JPG', 'image (499).JPG', 'image (5).JPG', 'image (50).JPG', 'image (500).JPG', 'image (501).JPG', 'image (502).JPG', 'image (503).JPG', 'image (504).JPG', 'image (505).JPG', 'image (506).JPG', 'image (507).JPG', 'image (508).JPG', 'image (509).JPG', 'image (51).JPG', 'image (510).JPG', 'image (511).JPG', 'image (512).JPG', 'image (513).JPG', 'image (514).JPG', 'image (515).JPG', 'image (516).JPG', 'image (517).JPG', 'image (518).JPG', 'image (519).JPG', 'image (52).JPG', 'image (520).JPG', 'image (521).JPG', 'image (522).JPG', 'image (523).JPG', 'image (524).JPG', 'image (525).JPG', 'image (526).JPG', 'image (527).JPG', 'image (528).JPG', 'image (529).JPG', 'image (53).JPG', 'image (530).JPG', 'image (531).JPG', 'image (532).JPG', 'image (533).JPG', 'image (534).JPG', 'image (535).JPG', 'image (536).JPG', 'image (537).JPG', 'image (538).JPG', 'image (539).JPG', 'image (54).JPG', 'image (540).JPG', 'image (541).JPG', 'image (542).JPG', 'image (543).JPG', 'image (544).JPG', 'image (545).JPG', 'image (546).JPG', 'image (547).JPG', 'image (548).JPG', 'image (549).JPG', 'image (55).JPG', 'image (550).JPG', 'image (551).JPG', 'image (552).JPG', 'image (553).JPG', 'image (554).JPG', 'image (555).JPG', 'image (556).JPG', 'image (557).JPG', 'image (558).JPG', 'image (559).JPG', 'image (56).JPG', 'image (560).JPG', 'image (561).JPG', 'image (562).JPG', 'image (563).JPG', 'image (564).JPG', 'image (565).JPG', 'image (566).JPG', 'image (567).JPG', 'image (568).JPG', 'image (569).JPG', 'image (57).JPG', 'image (570).JPG', 'image (571).JPG', 'image (572).JPG', 'image (573).JPG', 'image (574).JPG', 'image (575).JPG', 'image (576).JPG', 'image (577).JPG', 'image (578).JPG', 'image (579).JPG', 'image (58).JPG', 'image (580).JPG', 'image (581).JPG', 'image (582).JPG', 'image (583).JPG', 'image (584).JPG', 'image (585).JPG', 'image (586).JPG', 'image (587).JPG', 'image (588).JPG', 'image (589).JPG', 'image (59).JPG', 'image (590).JPG', 'image (591).JPG', 'image (592).JPG', 'image (593).JPG', 'image (594).JPG', 'image (595).JPG', 'image (596).JPG', 'image (597).JPG', 'image (598).JPG', 'image (599).JPG', 'image (6).JPG', 'image (60).JPG', 'image (600).JPG', 'image (601).JPG', 'image (602).JPG', 'image (603).JPG', 'image (604).JPG', 'image (605).JPG', 'image (606).JPG', 'image (607).JPG', 'image (608).JPG', 'image (609).JPG', 'image (61).JPG', 'image (610).JPG', 'image (611).JPG', 'image (612).JPG', 'image (613).JPG', 'image (614).JPG', 'image (615).JPG', 'image (616).JPG', 'image (617).JPG', 'image (618).JPG', 'image (619).JPG', 'image (62).JPG', 'image (620).JPG', 'image (621).JPG', 'image (622).JPG', 'image (623).JPG', 'image (624).JPG', 'image (625).JPG', 'image (626).JPG', 'image (627).JPG', 'image (628).JPG', 'image (629).JPG', 'image (63).JPG', 'image (630).JPG', 'image (631).JPG', 'image (632).JPG', 'image (633).JPG', 'image (634).JPG', 'image (635).JPG', 'image (636).JPG', 'image (637).JPG', 'image (638).JPG', 'image (639).JPG', 'image (64).JPG', 'image (640).JPG', 'image (641).JPG', 'image (642).JPG', 'image (643).JPG', 'image (644).JPG', 'image (645).JPG', 'image (646).JPG', 'image (647).JPG', 'image (648).JPG', 'image (649).JPG', 'image (65).JPG', 'image (650).JPG', 'image (651).JPG', 'image (652).JPG', 'image (653).JPG', 'image (654).JPG', 'image (655).JPG', 'image (656).JPG', 'image (657).JPG', 'image (658).JPG', 'image (659).JPG', 'image (66).JPG', 'image (660).JPG', 'image (661).JPG', 'image (662).JPG', 'image (663).JPG', 'image (664).JPG', 'image (665).JPG', 'image (666).JPG', 'image (667).JPG', 'image (668).JPG', 'image (669).JPG', 'image (67).JPG', 'image (670).JPG', 'image (671).JPG', 'image (672).JPG', 'image (673).JPG', 'image (674).JPG', 'image (675).JPG', 'image (676).JPG', 'image (677).JPG', 'image (678).JPG', 'image (679).JPG', 'image (68).JPG', 'image (680).JPG', 'image (681).JPG', 'image (682).JPG', 'image (683).JPG', 'image (684).JPG', 'image (685).JPG', 'image (686).JPG', 'image (687).JPG', 'image (688).JPG', 'image (689).JPG', 'image (69).JPG', 'image (690).JPG', 'image (691).JPG', 'image (692).JPG', 'image (693).JPG', 'image (694).JPG', 'image (695).JPG', 'image (696).JPG', 'image (697).JPG', 'image (698).JPG', 'image (699).JPG', 'image (7).JPG', 'image (70).JPG', 'image (700).JPG', 'image (701).JPG', 'image (702).JPG', 'image (703).JPG', 'image (704).JPG', 'image (705).JPG', 'image (706).JPG', 'image (707).JPG', 'image (708).JPG', 'image (709).JPG', 'image (71).JPG', 'image (710).JPG', 'image (711).JPG', 'image (712).JPG', 'image (713).JPG', 'image (714).JPG', 'image (715).JPG', 'image (716).JPG', 'image (717).JPG', 'image (718).JPG', 'image (719).JPG', 'image (72).JPG', 'image (720).JPG', 'image (721).JPG', 'image (722).JPG', 'image (723).JPG', 'image (724).JPG', 'image (725).JPG', 'image (726).JPG', 'image (727).JPG', 'image (728).JPG', 'image (729).JPG', 'image (73).JPG', 'image (730).JPG', 'image (731).JPG', 'image (732).JPG', 'image (733).JPG', 'image (734).JPG', 'image (735).JPG', 'image (736).JPG', 'image (737).JPG', 'image (738).JPG', 'image (739).JPG', 'image (74).JPG', 'image (740).JPG', 'image (741).JPG', 'image (742).JPG', 'image (743).JPG', 'image (744).JPG', 'image (745).JPG', 'image (746).JPG', 'image (747).JPG', 'image (748).JPG', 'image (749).JPG', 'image (75).JPG', 'image (750).JPG', 'image (751).JPG', 'image (752).JPG', 'image (753).JPG', 'image (754).JPG', 'image (755).JPG', 'image (756).JPG', 'image (757).JPG', 'image (758).JPG', 'image (759).JPG', 'image (76).JPG', 'image (760).JPG', 'image (761).JPG', 'image (762).JPG', 'image (763).JPG', 'image (764).JPG', 'image (765).JPG', 'image (766).JPG', 'image (767).JPG', 'image (768).JPG', 'image (769).JPG', 'image (77).JPG', 'image (770).JPG', 'image (771).JPG', 'image (772).JPG', 'image (773).JPG', 'image (774).JPG', 'image (775).JPG', 'image (776).JPG', 'image (777).JPG', 'image (778).JPG', 'image (779).JPG', 'image (78).JPG', 'image (780).JPG', 'image (781).JPG', 'image (782).JPG', 'image (783).JPG', 'image (784).JPG', 'image (785).JPG', 'image (786).JPG', 'image (787).JPG', 'image (788).JPG', 'image (789).JPG', 'image (79).JPG', 'image (790).JPG', 'image (791).JPG', 'image (792).JPG', 'image (793).JPG', 'image (794).JPG', 'image (795).JPG', 'image (796).JPG', 'image (797).JPG', 'image (798).JPG', 'image (799).JPG', 'image (8).JPG', 'image (80).JPG', 'image (800).JPG', 'image (801).JPG', 'image (802).JPG', 'image (803).JPG', 'image (804).JPG', 'image (805).JPG', 'image (806).JPG', 'image (807).JPG', 'image (808).JPG', 'image (809).JPG', 'image (81).JPG', 'image (810).JPG', 'image (811).JPG', 'image (812).JPG', 'image (813).JPG', 'image (814).JPG', 'image (815).JPG', 'image (816).JPG', 'image (817).JPG', 'image (818).JPG', 'image (819).JPG', 'image (82).JPG', 'image (820).JPG', 'image (821).JPG', 'image (822).JPG', 'image (823).JPG', 'image (824).JPG', 'image (825).JPG', 'image (826).JPG', 'image (827).JPG', 'image (828).JPG', 'image (829).JPG', 'image (83).JPG', 'image (830).JPG', 'image (831).JPG', 'image (832).JPG', 'image (833).JPG', 'image (834).JPG', 'image (835).JPG', 'image (836).JPG', 'image (837).JPG', 'image (838).JPG', 'image (839).JPG', 'image (84).JPG', 'image (840).JPG', 'image (841).JPG', 'image (842).JPG', 'image (843).JPG', 'image (844).JPG', 'image (845).JPG', 'image (846).JPG', 'image (847).JPG', 'image (848).JPG', 'image (849).JPG', 'image (85).JPG', 'image (850).JPG', 'image (851).JPG', 'image (852).JPG', 'image (853).JPG', 'image (854).JPG', 'image (855).JPG', 'image (856).JPG', 'image (857).JPG', 'image (858).JPG', 'image (859).JPG', 'image (86).JPG', 'image (860).JPG', 'image (861).JPG', 'image (862).JPG', 'image (863).JPG', 'image (864).JPG', 'image (865).JPG', 'image (866).JPG', 'image (867).JPG', 'image (868).JPG', 'image (869).JPG', 'image (87).JPG', 'image (870).JPG', 'image (871).JPG', 'image (872).JPG', 'image (873).JPG', 'image (874).JPG', 'image (875).JPG', 'image (876).JPG', 'image (877).JPG', 'image (878).JPG', 'image (879).JPG', 'image (88).JPG', 'image (880).JPG', 'image (881).JPG', 'image (882).JPG', 'image (883).JPG', 'image (884).JPG', 'image (885).JPG', 'image (886).JPG', 'image (887).JPG', 'image (888).JPG', 'image (889).JPG', 'image (89).JPG', 'image (890).JPG', 'image (891).JPG', 'image (892).JPG', 'image (893).JPG', 'image (894).JPG', 'image (895).JPG', 'image (896).JPG', 'image (897).JPG', 'image (898).JPG', 'image (899).JPG', 'image (9).JPG', 'image (90).JPG', 'image (900).JPG', 'image (901).JPG', 'image (902).JPG', 'image (903).JPG', 'image (904).JPG', 'image (905).JPG', 'image (906).JPG', 'image (907).JPG', 'image (908).JPG', 'image (909).JPG', 'image (91).JPG', 'image (910).JPG', 'image (911).JPG', 'image (912).JPG', 'image (913).JPG', 'image (914).JPG', 'image (915).JPG', 'image (916).JPG', 'image (917).JPG', 'image (918).JPG', 'image (919).JPG', 'image (92).JPG', 'image (920).JPG', 'image (921).JPG', 'image (922).JPG', 'image (923).JPG', 'image (924).JPG', 'image (925).JPG', 'image (926).JPG', 'image (927).JPG', 'image (928).JPG', 'image (929).JPG', 'image (93).JPG', 'image (930).JPG', 'image (931).JPG', 'image (932).JPG', 'image (933).JPG', 'image (934).JPG', 'image (935).JPG', 'image (936).JPG', 'image (937).JPG', 'image (938).JPG', 'image (939).JPG', 'image (94).JPG', 'image (940).JPG', 'image (941).JPG', 'image (942).JPG', 'image (943).JPG', 'image (944).JPG', 'image (945).JPG', 'image (946).JPG', 'image (947).JPG', 'image (948).JPG', 'image (949).JPG', 'image (95).JPG', 'image (950).JPG', 'image (951).JPG', 'image (952).JPG', 'image (953).JPG', 'image (954).JPG', 'image (955).JPG', 'image (956).JPG', 'image (957).JPG', 'image (958).JPG', 'image (959).JPG', 'image (96).JPG', 'image (960).JPG', 'image (961).JPG', 'image (962).JPG', 'image (963).JPG', 'image (964).JPG', 'image (965).JPG', 'image (966).JPG', 'image (967).JPG', 'image (968).JPG', 'image (969).JPG', 'image (97).JPG', 'image (970).JPG', 'image (971).JPG', 'image (972).JPG', 'image (973).JPG', 'image (974).JPG', 'image (975).JPG', 'image (976).JPG', 'image (977).JPG', 'image (978).JPG', 'image (979).JPG', 'image (98).JPG', 'image (980).JPG', 'image (981).JPG', 'image (982).JPG', 'image (983).JPG', 'image (984).JPG', 'image (985).JPG', 'image (986).JPG', 'image (987).JPG', 'image (988).JPG', 'image (989).JPG', 'image (99).JPG', 'image (990).JPG', 'image (991).JPG', 'image (992).JPG', 'image (993).JPG', 'image (994).JPG', 'image (995).JPG', 'image (996).JPG', 'image (997).JPG', 'image (998).JPG', 'image (999).JPG']\n"
     ]
    },
    {
     "ename": "TypeError",
     "evalue": "Accessing a group is done with bytes or str,  not <class 'ellipsis'>",
     "output_type": "error",
     "traceback": [
      "\u001b[1;31m---------------------------------------------------------------------------\u001b[0m",
      "\u001b[1;31mTypeError\u001b[0m                                 Traceback (most recent call last)",
      "\u001b[1;32m~\\AppData\\Local\\Temp\\ipykernel_3416\\3384777459.py\u001b[0m in \u001b[0;36m<module>\u001b[1;34m\u001b[0m\n\u001b[1;32m----> 1\u001b[1;33m plantvillage = dataset_load(dataset_config.dataset, \n\u001b[0m\u001b[0;32m      2\u001b[0m                             \u001b[0mkeep_download\u001b[0m\u001b[1;33m=\u001b[0m\u001b[1;32mTrue\u001b[0m\u001b[1;33m,\u001b[0m\u001b[1;33m\u001b[0m\u001b[1;33m\u001b[0m\u001b[0m\n\u001b[0;32m      3\u001b[0m                             force_thumbnail_generation=True)\n\u001b[0;32m      4\u001b[0m \u001b[1;32mif\u001b[0m \u001b[0mplantvillage\u001b[0m \u001b[1;32mis\u001b[0m \u001b[1;32mNone\u001b[0m\u001b[1;33m:\u001b[0m\u001b[1;33m\u001b[0m\u001b[1;33m\u001b[0m\u001b[0m\n\u001b[0;32m      5\u001b[0m     \u001b[0mdisplay_html\u001b[0m\u001b[1;33m(\u001b[0m\u001b[1;34mf\"<b>Invalid dataset</b>\"\u001b[0m\u001b[1;33m)\u001b[0m\u001b[1;33m\u001b[0m\u001b[1;33m\u001b[0m\u001b[0m\n",
      "\u001b[1;32m~\\Projects\\PlantVillage\\dataset_helpers.py\u001b[0m in \u001b[0;36mdataset_load\u001b[1;34m(dataset_config, **kwargs)\u001b[0m\n\u001b[0;32m    294\u001b[0m     \u001b[1;32mwith\u001b[0m \u001b[0mh5py\u001b[0m\u001b[1;33m.\u001b[0m\u001b[0mFile\u001b[0m\u001b[1;33m(\u001b[0m\u001b[0mdataset_config\u001b[0m\u001b[1;33m.\u001b[0m\u001b[0minstall_path\u001b[0m\u001b[1;33m,\u001b[0m \u001b[1;34m\"r+\"\u001b[0m\u001b[1;33m)\u001b[0m \u001b[1;32mas\u001b[0m \u001b[0mh5_file\u001b[0m\u001b[1;33m:\u001b[0m\u001b[1;33m\u001b[0m\u001b[1;33m\u001b[0m\u001b[0m\n\u001b[0;32m    295\u001b[0m         \u001b[0mdisplay_html\u001b[0m\u001b[1;33m(\u001b[0m\u001b[1;34m\"<b>Dataset preprocessing thumbnails</b>\"\u001b[0m\u001b[1;33m)\u001b[0m\u001b[1;33m\u001b[0m\u001b[1;33m\u001b[0m\u001b[0m\n\u001b[1;32m--> 296\u001b[1;33m         _preprocess_thumbnail(dataset_config,\n\u001b[0m\u001b[0;32m    297\u001b[0m                               \u001b[0mh5_file\u001b[0m\u001b[1;33m,\u001b[0m\u001b[1;33m\u001b[0m\u001b[1;33m\u001b[0m\u001b[0m\n\u001b[0;32m    298\u001b[0m                               **kwargs)\n",
      "\u001b[1;32m~\\Projects\\PlantVillage\\dataset_helpers.py\u001b[0m in \u001b[0;36m_preprocess_thumbnail\u001b[1;34m(dataset_config, h5_file, force_thumbnail_generation, **kwargs)\u001b[0m\n\u001b[0;32m    219\u001b[0m         \u001b[0mprogress\u001b[0m\u001b[1;33m.\u001b[0m\u001b[0mset_postfix_str\u001b[0m\u001b[1;33m(\u001b[0m\u001b[0mimage\u001b[0m\u001b[1;33m.\u001b[0m\u001b[0mname\u001b[0m\u001b[1;33m)\u001b[0m\u001b[1;33m\u001b[0m\u001b[1;33m\u001b[0m\u001b[0m\n\u001b[0;32m    220\u001b[0m \u001b[1;33m\u001b[0m\u001b[0m\n\u001b[1;32m--> 221\u001b[1;33m         \u001b[0mimage_np\u001b[0m \u001b[1;33m=\u001b[0m \u001b[0mimage\u001b[0m\u001b[1;33m[\u001b[0m\u001b[1;33m...\u001b[0m\u001b[1;33m]\u001b[0m\u001b[1;33m\u001b[0m\u001b[1;33m\u001b[0m\u001b[0m\n\u001b[0m\u001b[0;32m    222\u001b[0m         \u001b[0mh\u001b[0m\u001b[1;33m,\u001b[0m \u001b[0mw\u001b[0m\u001b[1;33m,\u001b[0m \u001b[0m_\u001b[0m \u001b[1;33m=\u001b[0m \u001b[0mimage_np\u001b[0m\u001b[1;33m.\u001b[0m\u001b[0mshape\u001b[0m\u001b[1;33m\u001b[0m\u001b[1;33m\u001b[0m\u001b[0m\n\u001b[0;32m    223\u001b[0m         \u001b[0mth\u001b[0m \u001b[1;33m=\u001b[0m \u001b[0mmath\u001b[0m\u001b[1;33m.\u001b[0m\u001b[0mceil\u001b[0m\u001b[1;33m(\u001b[0m\u001b[0mh\u001b[0m \u001b[1;33m*\u001b[0m \u001b[0mdataset_config\u001b[0m\u001b[1;33m.\u001b[0m\u001b[0mthumbnail_scale\u001b[0m\u001b[1;33m)\u001b[0m\u001b[1;33m\u001b[0m\u001b[1;33m\u001b[0m\u001b[0m\n",
      "\u001b[1;32mh5py\\_objects.pyx\u001b[0m in \u001b[0;36mh5py._objects.with_phil.wrapper\u001b[1;34m()\u001b[0m\n",
      "\u001b[1;32mh5py\\_objects.pyx\u001b[0m in \u001b[0;36mh5py._objects.with_phil.wrapper\u001b[1;34m()\u001b[0m\n",
      "\u001b[1;32mC:\\ProgramData\\Anaconda3\\lib\\site-packages\\h5py\\_hl\\group.py\u001b[0m in \u001b[0;36m__getitem__\u001b[1;34m(self, name)\u001b[0m\n\u001b[0;32m    328\u001b[0m             \u001b[0moid\u001b[0m \u001b[1;33m=\u001b[0m \u001b[0mh5o\u001b[0m\u001b[1;33m.\u001b[0m\u001b[0mopen\u001b[0m\u001b[1;33m(\u001b[0m\u001b[0mself\u001b[0m\u001b[1;33m.\u001b[0m\u001b[0mid\u001b[0m\u001b[1;33m,\u001b[0m \u001b[0mself\u001b[0m\u001b[1;33m.\u001b[0m\u001b[0m_e\u001b[0m\u001b[1;33m(\u001b[0m\u001b[0mname\u001b[0m\u001b[1;33m)\u001b[0m\u001b[1;33m,\u001b[0m \u001b[0mlapl\u001b[0m\u001b[1;33m=\u001b[0m\u001b[0mself\u001b[0m\u001b[1;33m.\u001b[0m\u001b[0m_lapl\u001b[0m\u001b[1;33m)\u001b[0m\u001b[1;33m\u001b[0m\u001b[1;33m\u001b[0m\u001b[0m\n\u001b[0;32m    329\u001b[0m         \u001b[1;32melse\u001b[0m\u001b[1;33m:\u001b[0m\u001b[1;33m\u001b[0m\u001b[1;33m\u001b[0m\u001b[0m\n\u001b[1;32m--> 330\u001b[1;33m             raise TypeError(\"Accessing a group is done with bytes or str, \"\n\u001b[0m\u001b[0;32m    331\u001b[0m                             \" not {}\".format(type(name)))\n\u001b[0;32m    332\u001b[0m \u001b[1;33m\u001b[0m\u001b[0m\n",
      "\u001b[1;31mTypeError\u001b[0m: Accessing a group is done with bytes or str,  not <class 'ellipsis'>"
     ]
    }
   ],
   "source": [
    "plantvillage = dataset_load(dataset_config.dataset, \n",
    "                            keep_download=True,\n",
    "                            force_thumbnail_generation=True)\n",
    "if plantvillage is None:\n",
    "    display_html(f\"<b>Invalid dataset</b>\")"
   ]
  },
  {
   "cell_type": "markdown",
   "id": "2ab1b6b9",
   "metadata": {},
   "source": [
    "# Exploration"
   ]
  },
  {
   "cell_type": "code",
   "execution_count": null,
   "id": "f1cb910d",
   "metadata": {
    "cell_style": "center"
   },
   "outputs": [],
   "source": [
    "display_html(f\"<b>{dataset_config.preprocess_path}</b> - data {plantvillage.shape}\")\n",
    "display(plantvillage.head(5))"
   ]
  },
  {
   "cell_type": "code",
   "execution_count": null,
   "id": "59c92436",
   "metadata": {
    "cell_style": "center"
   },
   "outputs": [],
   "source": [
    "display_html(f\"<b>{dataset_config.preprocess_path}</b> - info\")\n",
    "plantvillage.info()"
   ]
  },
  {
   "cell_type": "code",
   "execution_count": null,
   "id": "937b002a",
   "metadata": {},
   "outputs": [],
   "source": [
    "species = plantvillage[\"species\"].unique()\n",
    "species.sort()\n",
    "display_html(f\"<b>Modalites de 'species'</b> - count: {species.size}\")\n",
    "display(list(species))"
   ]
  },
  {
   "cell_type": "code",
   "execution_count": null,
   "id": "dedd24f7",
   "metadata": {},
   "outputs": [],
   "source": [
    "labels = plantvillage[\"label\"].unique()\n",
    "labels.sort()\n",
    "display_html(f\"<b>Modalites de 'label'</b> - count: {len(labels)}\")\n",
    "display(list(labels))"
   ]
  },
  {
   "cell_type": "markdown",
   "id": "c5287453",
   "metadata": {},
   "source": [
    "<font class=\"comment\">\n",
    "\n",
    "**Notes**\n",
    "* Background_without_leaves a ete intentionelment enleve\n",
    "* les labels semblent avoir evolues par rapport a la liste cite ci-haut"
   ]
  },
  {
   "cell_type": "code",
   "execution_count": null,
   "id": "70046781",
   "metadata": {},
   "outputs": [],
   "source": [
    "#\n",
    "# distribution de label\n",
    "#\n",
    "FIGSIZE = (10, 4)\n",
    "\n",
    "disease_count = plantvillage[\"label\"].value_counts()\n",
    "disease_count.sort_values(inplace=True, ascending=False)\n",
    "\n",
    "plt.figure(figsize=FIGSIZE)\n",
    "disease_count.plot.bar(title=\"Effectifs de 'label'\",\n",
    "                       ylabel=\"count\")\n",
    "plt.show()"
   ]
  },
  {
   "cell_type": "code",
   "execution_count": null,
   "id": "4576fe9c",
   "metadata": {},
   "outputs": [],
   "source": [
    "#\n",
    "# relation species/label\n",
    "#\n",
    "doi = plantvillage[[\"label\", \"species\"]]\n",
    "\n",
    "disease_samples_per_species = doi.groupby(\"species\").count()\n",
    "disease_samples_per_species.sort_values(\"label\", inplace=True, ascending=False)"
   ]
  },
  {
   "cell_type": "code",
   "execution_count": null,
   "id": "bde5542c",
   "metadata": {},
   "outputs": [],
   "source": [
    "healthy_crit = doi[\"label\"].str.contains(\"healthy\")\n",
    "\n",
    "healthy = doi[healthy_crit]\n",
    "healthy = healthy \\\n",
    "            .groupby(\"species\") \\\n",
    "            .count() \\\n",
    "            .rename(columns={\"label\": \"healthy\"})\n",
    "\n",
    "not_healthy = doi[ ~healthy_crit ]\n",
    "not_healthy = not_healthy \\\n",
    "                .groupby(\"species\") \\\n",
    "                .count() \\\n",
    "                .rename(columns={\"label\": \"autres\"})\n",
    "\n",
    "healthy_vs_other_per_species = pd.merge(healthy, \n",
    "                                        not_healthy,\n",
    "                                        how=\"outer\",\n",
    "                                        on=\"species\")\n",
    "\n",
    "# for ease of comparison, keep same order \n",
    "# as disease_samples_per_species\n",
    "healthy_vs_other_per_species = healthy_vs_other_per_species \\\n",
    "                                   .reindex(disease_samples_per_species \\\n",
    "                                                .index.to_list())"
   ]
  },
  {
   "cell_type": "code",
   "execution_count": null,
   "id": "bcc89424",
   "metadata": {},
   "outputs": [],
   "source": [
    "fig = plt.figure(figsize=FIGSIZE)\n",
    "fig.suptitle(\"Effectifs de 'label' par espece de plante\")\n",
    "\n",
    "# plt.subplot(121)\n",
    "# disease_samples_per_species.plot.bar(ax=plt.gca(),\n",
    "#                                      xlabel=\"\",\n",
    "#                                      ylabel=\"count\",\n",
    "#                                      legend=False)\n",
    "\n",
    "plt.subplot(121)\n",
    "healthy_vs_other_per_species.plot.bar(ax=plt.gca(),\n",
    "                                      stacked=True, \n",
    "                                      xlabel=\"\",\n",
    "                                      ylabel=\"count\")\n",
    "plt.title(\"'healthy' vs autres\", y=1.025)\n",
    "\n",
    "plt.subplot(122)\n",
    "_, _, pcts = plt.pie(x=disease_samples_per_species.values.flatten(),\n",
    "                     labels=disease_samples_per_species.index.values,\n",
    "                     autopct='%.0f%%',\n",
    "                     radius=1.25,\n",
    "                     wedgeprops={'linewidth': 1.0, \n",
    "                                 'edgecolor': 'white'})\n",
    "plt.title(\"Toute maladies confondues\", y=1.025)\n",
    "plt.setp(pcts, color='white')\n",
    "\n",
    "plt.tight_layout()\n",
    "plt.show()"
   ]
  },
  {
   "cell_type": "code",
   "execution_count": null,
   "id": "ba4c2aa2",
   "metadata": {},
   "outputs": [],
   "source": [
    "def load_image(filename):\n",
    "    image = cv2.imread(filename)\n",
    "    return cv2.cvtColor(image, cv2.COLOR_BGR2RGB)"
   ]
  },
  {
   "cell_type": "code",
   "execution_count": null,
   "id": "52c5dfe6",
   "metadata": {},
   "outputs": [],
   "source": [
    "#\n",
    "# visualize some images\n",
    "#\n",
    "SAMPLEs_GRID = (2, 7)\n",
    "\n",
    "# select some random samples\n",
    "sample_indices = random.sample(range(plantvillage.shape[0]), SAMPLEs_GRID[0] * SAMPLEs_GRID[1])\n",
    "sample_indices.sort() \n",
    "\n",
    "samples = plantvillage.loc[sample_indices].copy()\n",
    "samples[\"thumbnail\"] = samples[\"thumbnail_path\"].apply(load_image)\n",
    "\n",
    "fig = plt.figure(figsize=FIGSIZE)\n",
    "fig.suptitle(\"Echantillons maladies\")\n",
    "\n",
    "for i, (_, sample) in enumerate(samples.iterrows()):\n",
    "    plt.subplot(SAMPLEs_GRID[0], SAMPLEs_GRID[1], i + 1)\n",
    "    plt.axis(\"off\")\n",
    "    \n",
    "    # adjust title: some disease have very long name\n",
    "    species = sample['species']\n",
    "    disease = sample['disease'].replace(species, \"\")\n",
    "    disease = disease.split(\"_\") \n",
    "    count = len(disease) \n",
    "    if count > 2:\n",
    "        count //= 2\n",
    "        disease0 = \" \".join(disease[:count])\n",
    "        disease1 = \" \".join(disease[count:])\n",
    "        disease = f\"{disease0}\\n{disease1}\"\n",
    "    else:\n",
    "        disease = \" \".join(disease)\n",
    "    \n",
    "    plt.title(f\"{species}\\n{disease}\")    \n",
    "    plt.imshow(sample[\"thumbnail\"])\n",
    "    plt.gca().title.set_size(10)\n",
    "\n",
    "plt.tight_layout()\n",
    "fig.subplots_adjust(hspace=0.5, top=0.8)\n",
    "plt.show()"
   ]
  },
  {
   "cell_type": "markdown",
   "id": "05b7d038",
   "metadata": {},
   "source": [
    "# Modelisation\n",
    "\n",
    "Mettre un peu de bla bla pour justifier ce qu'on fait, citer les papiers et tout\n",
    "\n",
    "**TODO**\n",
    "* Train/test split\n",
    "* Pipeline de traitement - Bag of Visual Words\n",
    "    * Rescale en 256x256?\n",
    "    * Remapper 0/1 et float\n",
    "    * Threshold background/foreground    \n",
    "    * Slicer les images\n",
    "    * Detecter les features via SIFT/ORB\n",
    "    * Passer dans un KMean\n",
    "    * Mettre le tout dans notre dictionnaire\n",
    "\n",
    "* Passer test data dans pipeline\n",
    "    * Sparse vector pour une image non connue\n",
    "    * Identifier avec K Nearest Neighboor"
   ]
  },
  {
   "cell_type": "code",
   "execution_count": null,
   "id": "db81c486",
   "metadata": {},
   "outputs": [],
   "source": [
    "#\n",
    "# split train/test\n",
    "#\n",
    "train, test = train_test_split(plantvillage, \n",
    "                               train_size=0.8, \n",
    "                               random_state=42, \n",
    "                               stratify=plantvillage[\"label\"])"
   ]
  },
  {
   "cell_type": "code",
   "execution_count": null,
   "id": "acbe74a3",
   "metadata": {},
   "outputs": [],
   "source": [
    "# validation split size\n",
    "display_html(f\"<b>Dataset:</b> <font style='color:red;'>{plantvillage.size}</font>, \"\n",
    "             f\"<b>Train:</b> <font style='color:red;'>{train.size}</font>, \"\n",
    "             f\"<b>Test:</b> <font style='color:red;'>{test.size}</font> \"\n",
    "              \"- 80% / 20% split\")"
   ]
  },
  {
   "cell_type": "code",
   "execution_count": null,
   "id": "8a959a2e",
   "metadata": {},
   "outputs": [],
   "source": [
    "# validation split distribution\n",
    "size = plantvillage.shape[0]\n",
    "frequencies = pd.DataFrame({\"dataset\": disease_count / size,\n",
    "                            \"train\": train[\"label\"].value_counts() / size,\n",
    "                            \"test\": test[\"label\"].value_counts() / size})\n",
    "frequencies = frequencies.reindex(index=disease_count.index.to_list())\n",
    "\n",
    "plt.figure(figsize=FIGSIZE)\n",
    "frequencies.plot.bar(ax=plt.gca(),\n",
    "                     stacked=True,\n",
    "                     title=\"Distribution 'label' dataset vs train vs test\\n\"\n",
    "                           \"(couleurs meme taille dans chaque bar est mieux)\",\n",
    "                     ylabel=\"%\")\n",
    "plt.show()"
   ]
  },
  {
   "cell_type": "code",
   "execution_count": null,
   "id": "b3f19fc8",
   "metadata": {},
   "outputs": [],
   "source": [
    "#\n",
    "# construire les features\n",
    "#\n",
    "desc_factory = cv2.ORB_create()\n",
    "feature_list = np.empty((0, 32), dtype=np.uint8)\n",
    "\n",
    "progress = tqdm(iterable=plantvillage.iterrows(),\n",
    "                total=plantvillage.shape[0],\n",
    "                bar_format=\"{l_bar}{bar}{postfix}\")\n",
    "\n",
    "for index, row in progress:\n",
    "    image_path = row[\"image_path\"]\n",
    "    progress.set_postfix_str(image_path)\n",
    "    \n",
    "    image = load_image(image_path)\n",
    "\n",
    "    # tiling irait ici\n",
    "    # detection backgroud irait ici\n",
    "    _, descs = desc_factory.detectAndCompute(image, None)\n",
    "    if descs is None:\n",
    "        continue\n",
    "    \n",
    "    feature_list = np.append(feature_list, descs, axis=0)\n",
    "    \n",
    "    del image\n",
    "    \n",
    "#     if index > 100:\n",
    "#         break\n",
    "\n",
    "with open('descs.pkl', 'wb') as f:\n",
    "    pickle.dump(list(feature_list), f)\n",
    "    \n",
    "# save the data to hdf5\n",
    "print(plantvillage.shape[0])\n",
    "print(feature_list.shape)"
   ]
  },
  {
   "cell_type": "markdown",
   "id": "dfc313f3",
   "metadata": {},
   "source": [
    "# Evaluation\n",
    "\n",
    "* Entrainement avec les stats"
   ]
  },
  {
   "cell_type": "code",
   "execution_count": null,
   "id": "9944ae5d",
   "metadata": {},
   "outputs": [],
   "source": []
  },
  {
   "cell_type": "code",
   "execution_count": null,
   "id": "08c23688",
   "metadata": {},
   "outputs": [],
   "source": []
  }
 ],
 "metadata": {
  "kernelspec": {
   "display_name": "Python 3 (ipykernel)",
   "language": "python",
   "name": "python3"
  },
  "language_info": {
   "codemirror_mode": {
    "name": "ipython",
    "version": 3
   },
   "file_extension": ".py",
   "mimetype": "text/x-python",
   "name": "python",
   "nbconvert_exporter": "python",
   "pygments_lexer": "ipython3",
   "version": "3.9.15"
  },
  "vscode": {
   "interpreter": {
    "hash": "ad2bdc8ecc057115af97d19610ffacc2b4e99fae6737bb82f5d7fb13d2f2c186"
   }
  }
 },
 "nbformat": 4,
 "nbformat_minor": 5
}
