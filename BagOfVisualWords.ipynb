{
 "cells": [
  {
   "cell_type": "code",
   "execution_count": null,
   "id": "4d914ec6",
   "metadata": {},
   "outputs": [],
   "source": [
    "%matplotlib inline\n",
    "\n",
    "#\n",
    "# import utilitaires\n",
    "#\n",
    "import cv2\n",
    "import h5py\n",
    "import numpy as np\n",
    "import pandas as pd\n",
    "import random\n",
    "import seaborn as sns\n",
    "\n",
    "from dataset_helpers.MetaObject import MetaObject\n",
    "from dataset_helpers.PlantVillage import PlantVillageConfig, plant_village_load\n",
    "from jupyter_helpers import display_html\n",
    "from matplotlib import pyplot as plt\n",
    "from sklearn.model_selection import train_test_split\n",
    "from tqdm.notebook import tqdm\n",
    "\n",
    "# faire en sorte que random soit deterministe\n",
    "random.seed(42)"
   ]
  },
  {
   "cell_type": "code",
   "execution_count": null,
   "id": "aba53687",
   "metadata": {},
   "outputs": [],
   "source": [
    "#\n",
    "# configurer les divers processus\n",
    "#\n",
    "pv_config = PlantVillageConfig()\n",
    "\n",
    "config_overrides = MetaObject.from_json(\"config_overrides.json\")\n",
    "if not config_overrides is None:\n",
    "    MetaObject.override_from_object(pv_config, \n",
    "                                    config_overrides.dataset)"
   ]
  },
  {
   "cell_type": "code",
   "execution_count": null,
   "id": "f80c98e9",
   "metadata": {},
   "outputs": [],
   "source": [
    "#\n",
    "# obtenir le dataset PlantVillage\n",
    "#\n",
    "pv_dataset = plant_village_load(pv_config)\n",
    "if pv_dataset is None:\n",
    "    display_html(f\"<b>Invalid dataset</b>\")\n",
    "else:\n",
    "    pv_h5 = pv_dataset.h5_file\n",
    "    pv_dataframe = pd.DataFrame(pv_dataset.data)"
   ]
  },
  {
   "cell_type": "code",
   "execution_count": null,
   "id": "58f4b8ca",
   "metadata": {},
   "outputs": [],
   "source": [
    "i = 0\n",
    "\n",
    "def do_nothing(o):\n",
    "    global i\n",
    "    i += 1\n",
    "\n",
    "# lent; glob va ~2x plus vite\n",
    "# visititems TRES lent; glob va un ordre de grandeur plus vite\n",
    "pv_h5[\"/images\"].visit(do_nothing)\n",
    "\n",
    "print(i)"
   ]
  },
  {
   "cell_type": "code",
   "execution_count": null,
   "id": "3c3adca8",
   "metadata": {},
   "outputs": [],
   "source": [
    "i = 0\n",
    "for file in glob(r'C:\\Users\\jfgag\\Projects\\PlantVillage\\dataset\\Plant_leave_diseases_dataset_with_augmentation\\**\\*.*'):\n",
    "    i += 1\n",
    "print(i)"
   ]
  },
  {
   "cell_type": "code",
   "execution_count": null,
   "id": "6884f5be",
   "metadata": {},
   "outputs": [],
   "source": [
    "i = 0\n",
    "with tqdm(total=61525) as progress:\n",
    "    def do_nothing(o):\n",
    "        global i\n",
    "        i += 1\n",
    "        # ce qui est tres lent et de mettre a jour les string de display\n",
    "        # juste update est ben correcte\n",
    "        progress.update()\n",
    "\n",
    "    pv_h5[\"/images\"].visit(do_nothing)\n",
    "\n",
    "print(i)"
   ]
  },
  {
   "cell_type": "markdown",
   "id": "2ab1b6b9",
   "metadata": {},
   "source": [
    "# Exploration"
   ]
  },
  {
   "cell_type": "code",
   "execution_count": null,
   "id": "f1cb910d",
   "metadata": {
    "cell_style": "center"
   },
   "outputs": [],
   "source": [
    "display_html(f\"<b>{pv_config.install_path}</b> - data {pv_dataset.shape}\")\n",
    "display(pv_dataset.head(5))"
   ]
  },
  {
   "cell_type": "code",
   "execution_count": null,
   "id": "59c92436",
   "metadata": {
    "cell_style": "center"
   },
   "outputs": [],
   "source": [
    "display_html(f\"<b>{pv_config.install_path}</b> - info\")\n",
    "pv_dataset.info()"
   ]
  },
  {
   "cell_type": "code",
   "execution_count": null,
   "id": "937b002a",
   "metadata": {},
   "outputs": [],
   "source": [
    "species = pv_dataset[\"species\"].unique()\n",
    "species.sort()\n",
    "display_html(f\"<b>Modalites de 'species'</b> - count: {species.size}\")\n",
    "display(list(species))"
   ]
  },
  {
   "cell_type": "code",
   "execution_count": null,
   "id": "dedd24f7",
   "metadata": {},
   "outputs": [],
   "source": [
    "labels = pv_dataset[\"label\"].unique()\n",
    "labels.sort()\n",
    "display_html(f\"<b>Modalites de 'label'</b> - count: {len(labels)}\")\n",
    "display(list(labels))"
   ]
  },
  {
   "cell_type": "markdown",
   "id": "c5287453",
   "metadata": {},
   "source": [
    "<font class=\"comment\">\n",
    "\n",
    "**Notes**\n",
    "* Background_without_leaves a ete intentionelment enleve\n",
    "* les labels semblent avoir evolues par rapport a la liste cite ci-haut"
   ]
  },
  {
   "cell_type": "code",
   "execution_count": null,
   "id": "70046781",
   "metadata": {},
   "outputs": [],
   "source": [
    "#\n",
    "# distribution de label\n",
    "#\n",
    "FIGSIZE = (10, 4)\n",
    "\n",
    "disease_count = pv_dataset[\"label\"].value_counts()\n",
    "disease_count.sort_values(inplace=True, ascending=False)\n",
    "\n",
    "plt.figure(figsize=FIGSIZE)\n",
    "disease_count.plot.bar(title=\"Effectifs de 'label'\",\n",
    "                       ylabel=\"count\")\n",
    "plt.show()"
   ]
  },
  {
   "cell_type": "code",
   "execution_count": null,
   "id": "4576fe9c",
   "metadata": {},
   "outputs": [],
   "source": [
    "#\n",
    "# relation species/label\n",
    "#\n",
    "doi = pv_dataset[[\"label\", \"species\"]]\n",
    "\n",
    "disease_samples_per_species = doi.groupby(\"species\").count()\n",
    "disease_samples_per_species.sort_values(\"label\", inplace=True, ascending=False)"
   ]
  },
  {
   "cell_type": "code",
   "execution_count": null,
   "id": "bde5542c",
   "metadata": {},
   "outputs": [],
   "source": [
    "healthy_crit = doi[\"label\"].str.contains(\"healthy\")\n",
    "\n",
    "healthy = doi[healthy_crit]\n",
    "healthy = healthy \\\n",
    "            .groupby(\"species\") \\\n",
    "            .count() \\\n",
    "            .rename(columns={\"label\": \"healthy\"})\n",
    "\n",
    "not_healthy = doi[ ~healthy_crit ]\n",
    "not_healthy = not_healthy \\\n",
    "                .groupby(\"species\") \\\n",
    "                .count() \\\n",
    "                .rename(columns={\"label\": \"autres\"})\n",
    "\n",
    "healthy_vs_other_per_species = pd.merge(healthy, \n",
    "                                        not_healthy,\n",
    "                                        how=\"outer\",\n",
    "                                        on=\"species\")\n",
    "\n",
    "# for ease of comparison, keep same order \n",
    "# as disease_samples_per_species\n",
    "healthy_vs_other_per_species = healthy_vs_other_per_species \\\n",
    "                                   .reindex(disease_samples_per_species \\\n",
    "                                   .index.to_list())"
   ]
  },
  {
   "cell_type": "code",
   "execution_count": null,
   "id": "bcc89424",
   "metadata": {},
   "outputs": [],
   "source": [
    "fig = plt.figure(figsize=FIGSIZE)\n",
    "fig.suptitle(\"Effectifs de 'label' par espece de plante\")\n",
    "\n",
    "# plt.subplot(121)\n",
    "# disease_samples_per_species.plot.bar(ax=plt.gca(),\n",
    "#                                      xlabel=\"\",\n",
    "#                                      ylabel=\"count\",\n",
    "#                                      legend=False)\n",
    "\n",
    "plt.subplot(121)\n",
    "healthy_vs_other_per_species.plot.bar(ax=plt.gca(),\n",
    "                                      stacked=True, \n",
    "                                      xlabel=\"\",\n",
    "                                      ylabel=\"count\")\n",
    "plt.title(\"'healthy' vs autres\", y=1.025)\n",
    "\n",
    "plt.subplot(122)\n",
    "_, _, pcts = plt.pie(x=disease_samples_per_species.values.flatten(),\n",
    "                     labels=disease_samples_per_species.index.values,\n",
    "                     autopct='%.0f%%',\n",
    "                     radius=1.25,\n",
    "                     wedgeprops={'linewidth': 1.0, \n",
    "                                 'edgecolor': 'white'})\n",
    "plt.title(\"Toute maladies confondues\", y=1.025)\n",
    "plt.setp(pcts, color='white')\n",
    "\n",
    "plt.tight_layout()\n",
    "plt.show()"
   ]
  },
  {
   "cell_type": "code",
   "execution_count": null,
   "id": "687c86cd",
   "metadata": {},
   "outputs": [],
   "source": [
    "def load_image(path):\n",
    "    return pv_h5[path][...]"
   ]
  },
  {
   "cell_type": "code",
   "execution_count": null,
   "id": "b288c635",
   "metadata": {},
   "outputs": [],
   "source": [
    "#\n",
    "# visualize some images\n",
    "#\n",
    "SAMPLEs_GRID = (2, 7)\n",
    "\n",
    "# select some random samples\n",
    "sample_indices = random.sample(range(pv_dataset.shape[0]), \n",
    "                               SAMPLEs_GRID[0] * SAMPLEs_GRID[1])\n",
    "sample_indices.sort() \n",
    "\n",
    "samples = pv_dataset.loc[sample_indices].copy()"
   ]
  },
  {
   "cell_type": "code",
   "execution_count": null,
   "id": "2fca8df9",
   "metadata": {},
   "outputs": [],
   "source": [
    "samples[\"thumbnail\"] = samples[\"image_path\"].apply(load_image)\n",
    "\n",
    "fig = plt.figure(figsize=FIGSIZE)\n",
    "fig.suptitle(\"Echantillons maladies\")\n",
    "\n",
    "for i, (_, sample) in enumerate(samples.iterrows()):\n",
    "    plt.subplot(SAMPLEs_GRID[0], SAMPLEs_GRID[1], i + 1)\n",
    "    plt.axis(\"off\")\n",
    "    \n",
    "    # adjust title: some disease have very long name\n",
    "    species = sample['species']\n",
    "    disease = sample['disease'].replace(species, \"\")\n",
    "    disease = disease.split(\"_\") \n",
    "    count = len(disease) \n",
    "    if count > 2:\n",
    "        count //= 2\n",
    "        disease0 = \" \".join(disease[:count])\n",
    "        disease1 = \" \".join(disease[count:])\n",
    "        disease = f\"{disease0}\\n{disease1}\"\n",
    "    else:\n",
    "        disease = \" \".join(disease)\n",
    "    \n",
    "    plt.title(f\"{species}\\n{disease}\")    \n",
    "    plt.imshow(sample[\"thumbnail\"])\n",
    "    plt.gca().title.set_size(10)\n",
    "\n",
    "plt.tight_layout()\n",
    "fig.subplots_adjust(hspace=0.5, top=0.8)\n",
    "plt.show()"
   ]
  },
  {
   "cell_type": "markdown",
   "id": "05b7d038",
   "metadata": {},
   "source": [
    "# Modelisation\n",
    "\n",
    "Mettre un peu de bla bla pour justifier ce qu'on fait, citer les papiers et tout\n",
    "\n",
    "**TODO**\n",
    "* Train/test split\n",
    "* Pipeline de traitement - Bag of Visual Words\n",
    "    * Rescale en 256x256?\n",
    "    * Remapper 0/1 et float\n",
    "    * Threshold background/foreground    \n",
    "    * Slicer les images\n",
    "    * Detecter les features via SIFT/ORB\n",
    "    * Passer dans un KMean\n",
    "    * Mettre le tout dans notre dictionnaire\n",
    "\n",
    "* Passer test data dans pipeline\n",
    "    * Sparse vector pour une image non connue\n",
    "    * Identifier avec K Nearest Neighboor"
   ]
  },
  {
   "cell_type": "code",
   "execution_count": null,
   "id": "db81c486",
   "metadata": {},
   "outputs": [],
   "source": [
    "#\n",
    "# split train/test\n",
    "#\n",
    "train, test = train_test_split(pv_dataset, \n",
    "                               train_size=0.8, \n",
    "                               random_state=42, \n",
    "                               stratify=pv_dataset[\"label\"])"
   ]
  },
  {
   "cell_type": "code",
   "execution_count": null,
   "id": "acbe74a3",
   "metadata": {},
   "outputs": [],
   "source": [
    "# validation split size\n",
    "display_html(f\"<b>Dataset:</b> <font style='color:red;'>{pv_dataset.size}</font>, \"\n",
    "             f\"<b>Train:</b> <font style='color:red;'>{train.size}</font>, \"\n",
    "             f\"<b>Test:</b> <font style='color:red;'>{test.size}</font> \"\n",
    "              \"- 80% / 20% split\")"
   ]
  },
  {
   "cell_type": "code",
   "execution_count": null,
   "id": "8a959a2e",
   "metadata": {},
   "outputs": [],
   "source": [
    "# validation split distribution\n",
    "size = pv_dataset.shape[0]\n",
    "frequencies = pd.DataFrame({\"dataset\": disease_count / size,\n",
    "                            \"train\": train[\"label\"].value_counts() / size,\n",
    "                            \"test\": test[\"label\"].value_counts() / size})\n",
    "frequencies = frequencies.reindex(index=disease_count.index.to_list())\n",
    "\n",
    "plt.figure(figsize=FIGSIZE)\n",
    "frequencies.plot.bar(ax=plt.gca(),\n",
    "                     stacked=True,\n",
    "                     title=\"Distribution 'label' dataset vs train vs test\\n\"\n",
    "                           \"(couleurs meme taille dans chaque bar est mieux)\",\n",
    "                     ylabel=\"%\")\n",
    "plt.show()"
   ]
  },
  {
   "cell_type": "code",
   "execution_count": null,
   "id": "b3f19fc8",
   "metadata": {},
   "outputs": [],
   "source": [
    "#\n",
    "# construire les features\n",
    "#\n",
    "desc_factory = cv2.ORB_create()\n",
    "feature_list = np.empty((0, 32), dtype=np.uint8)\n",
    "\n",
    "progress = tqdm(iterable=pv_dataset.iterrows(),\n",
    "                total=pv_dataset.shape[0],\n",
    "                bar_format=\"{l_bar}{bar}{postfix}\")\n",
    "\n",
    "for index, row in progress:\n",
    "    image_path = row[\"image_path\"]\n",
    "    progress.set_postfix_str(image_path)\n",
    "    \n",
    "    image = load_image(image_path)\n",
    "\n",
    "    # tiling irait ici\n",
    "    # detection backgroud irait ici\n",
    "    _, descs = desc_factory.detectAndCompute(image, None)\n",
    "    if descs is None:\n",
    "        continue\n",
    "    \n",
    "    feature_list = np.append(feature_list, descs, axis=0)\n",
    "    \n",
    "    del image\n",
    "    \n",
    "#     if index > 100:\n",
    "#         break\n",
    "\n",
    "with open('descs.pkl', 'wb') as f:\n",
    "    pickle.dump(list(feature_list), f)\n",
    "    \n",
    "# save the data to hdf5\n",
    "print(pv_dataset.shape[0])\n",
    "print(feature_list.shape)"
   ]
  },
  {
   "cell_type": "markdown",
   "id": "dfc313f3",
   "metadata": {},
   "source": [
    "# Evaluation\n",
    "\n",
    "* Entrainement avec les stats"
   ]
  },
  {
   "cell_type": "code",
   "execution_count": null,
   "id": "9944ae5d",
   "metadata": {},
   "outputs": [],
   "source": []
  },
  {
   "cell_type": "code",
   "execution_count": null,
   "id": "08c23688",
   "metadata": {},
   "outputs": [],
   "source": []
  }
 ],
 "metadata": {
  "kernelspec": {
   "display_name": "Python 3 (ipykernel)",
   "language": "python",
   "name": "python3"
  },
  "language_info": {
   "codemirror_mode": {
    "name": "ipython",
    "version": 3
   },
   "file_extension": ".py",
   "mimetype": "text/x-python",
   "name": "python",
   "nbconvert_exporter": "python",
   "pygments_lexer": "ipython3",
   "version": "3.9.15"
  },
  "vscode": {
   "interpreter": {
    "hash": "ad2bdc8ecc057115af97d19610ffacc2b4e99fae6737bb82f5d7fb13d2f2c186"
   }
  }
 },
 "nbformat": 4,
 "nbformat_minor": 5
}
